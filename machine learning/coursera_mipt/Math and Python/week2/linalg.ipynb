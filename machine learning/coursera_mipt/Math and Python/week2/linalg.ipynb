{
 "cells": [
  {
   "cell_type": "markdown",
   "metadata": {},
   "source": [
    "## Линейная алгебра: сходство текстов и аппроксимация функций"
   ]
  },
  {
   "cell_type": "code",
   "execution_count": 101,
   "metadata": {
    "collapsed": true
   },
   "outputs": [],
   "source": [
    "import numpy as np\n",
    "from scipy.spatial.distance import cosine\n",
    "import pandas as pd\n",
    "import re\n",
    "import functools\n",
    "import operator\n",
    "import matplotlib.pyplot as plt\n",
    "from collections import Counter\n",
    "from math import *\n",
    "from scipy.linalg import solve\n",
    "%matplotlib inline"
   ]
  },
  {
   "cell_type": "code",
   "execution_count": 8,
   "metadata": {
    "collapsed": false
   },
   "outputs": [],
   "source": [
    "strs = []\n",
    "with open(\"sentences.txt\", \"r\") as file:\n",
    "    strs = file.readlines()\n",
    "    strs = list(map(lambda x: x.replace(\"\\n\", \"\").lower(), strs))\n"
   ]
  },
  {
   "cell_type": "markdown",
   "metadata": {},
   "source": [
    "> Каждая строка в файле соответствует одному предложению. Считайте их, приведите каждую к нижнему регистру с помощью строковой функции lower().\n",
    "\n",
    "> Произведите токенизацию, то есть разбиение текстов на слова. Для этого можно воспользоваться регулярным выражением, которое считает разделителем любой символ, не являющийся буквой: re.split('[^a-z]', t). Не забудьте удалить пустые слова после разделения.\n",
    "\n",
    "> Составьте список всех слов, встречающихся в предложениях. Сопоставьте каждому слову индекс от нуля до (d - 1), где d — число различных слов в предложениях. Для этого удобно воспользоваться структурой dict."
   ]
  },
  {
   "cell_type": "code",
   "execution_count": 32,
   "metadata": {
    "collapsed": false
   },
   "outputs": [],
   "source": [
    "mat_words = list(map(lambda x: re.split('[^a-z]', x), strs))\n",
    "mat_words = [[word for word in doc if word != ''] for doc in mat_words] # deleting ''\n",
    "all_words = functools.reduce(operator.add, mat_words)\n",
    "occurences = Counter(all_words)\n",
    "# words_indexed = [{val:idx} for idx, val in enumerate(occurences)]\n",
    "words_indexed = {}\n",
    "for idx, val in enumerate(occurences):\n",
    "    words_indexed[val] = idx"
   ]
  },
  {
   "cell_type": "markdown",
   "metadata": {},
   "source": [
    "> Создайте матрицу размера n * d, где n — число предложений. Заполните ее: элемент с индексом (i, j) в этой матрице должен быть равен количеству вхождений j-го слова в i-е предложение. У вас должна получиться матрица размера 22 ** 254."
   ]
  },
  {
   "cell_type": "code",
   "execution_count": 38,
   "metadata": {
    "collapsed": false
   },
   "outputs": [
    {
     "data": {
      "text/plain": [
       "(22, 254)"
      ]
     },
     "execution_count": 38,
     "metadata": {},
     "output_type": "execute_result"
    }
   ],
   "source": [
    "X = np.zeros((22, 254))\n",
    "for doc_idx, doc in enumerate(mat_words):\n",
    "    for word in doc:\n",
    "        X[doc_idx, words_indexed[word]] += 1\n",
    "X.shape"
   ]
  },
  {
   "cell_type": "markdown",
   "metadata": {},
   "source": [
    "> Найдите косинусное расстояние от предложения в самой первой строке (In comparison to dogs, cats have not undergone...) до всех остальных с помощью функции scipy.spatial.distance.cosine. Какие номера у двух предложений, ближайших к нему по этому расстоянию (строки нумеруются с нуля)? Эти два числа и будут ответами на задание."
   ]
  },
  {
   "cell_type": "code",
   "execution_count": 117,
   "metadata": {
    "collapsed": false
   },
   "outputs": [
    {
     "name": "stdout",
     "output_type": "stream",
     "text": [
      "6 4\n"
     ]
    }
   ],
   "source": [
    "dists = [cosine(X[0, :], X[idx, :]) for idx in range(1, X.shape[0])]\n",
    "dists = [(idx + 1, val) for idx, val in enumerate(dists)]\n",
    "sorted_dists = sorted(dists, key=lambda x: x[1])\n",
    "print(sorted_dists[0][0], sorted_dists[1][0])"
   ]
  },
  {
   "cell_type": "markdown",
   "metadata": {},
   "source": [
    "> Как известно, многочлен степени n (то есть w_0 + w_1 x + w_2 x^2 + ... + w_n x^n) однозначно определяется любыми n + 1 различными точками, через которые он проходит. \n",
    "\n",
    "> Сформируйте систему линейных уравнений (то есть задайте матрицу коэффициентов A и свободный вектор b) для многочлена первой степени, который должен совпадать с функцией f в точках 1 и 15. Решите данную систему с помощью функции scipy.linalg.solve. Нарисуйте функцию f и полученный многочлен. Хорошо ли он приближает исходную функцию?"
   ]
  },
  {
   "cell_type": "code",
   "execution_count": 106,
   "metadata": {
    "collapsed": false
   },
   "outputs": [],
   "source": [
    "def f(x):\n",
    "    return np.sin(x / 5.0) * np.exp(x / 10.0) + 5.0 * np.exp(-x / 2.0)\n",
    "\n",
    "def poly(w, x):\n",
    "    shape = w.shape[0]\n",
    "    shape_x = x.shape[0]\n",
    "    x_powers = np.zeros((shape, shape_x))\n",
    "    for idx in range(shape):\n",
    "        x_powers[idx] = np.power(x, idx)\n",
    "    return np.dot(w, x_powers)\n",
    "\n",
    "y_1 = f(1)\n",
    "y_2 = f(15)\n",
    "\n",
    "A = np.array([[1.0, 1.0], [1.0, 15.0]])\n",
    "b = np.array([f(1), f(15)]).reshape(2,)\n",
    "sol2 = solve(A, b)\n",
    "\n",
    "# plotting\n",
    "\n",
    "x = np.linspace(1, 15, 1000)\n",
    "y_1 = f(x)\n",
    "y_2 = poly(sol2, x)\n"
   ]
  },
  {
   "cell_type": "code",
   "execution_count": 107,
   "metadata": {
    "collapsed": false
   },
   "outputs": [
    {
     "data": {
      "text/plain": [
       "[<matplotlib.lines.Line2D at 0x10a7cd668>]"
      ]
     },
     "execution_count": 107,
     "metadata": {},
     "output_type": "execute_result"
    },
    {
     "data": {
      "image/png": "[encoded data removed]",
      "text/plain": [
       "<matplotlib.figure.Figure at 0x10a7cd6a0>"
      ]
     },
     "metadata": {},
     "output_type": "display_data"
    }
   ],
   "source": [
    "plt.plot(x, y_1)\n",
    "plt.plot(x, y_2)"
   ]
  },
  {
   "cell_type": "markdown",
   "metadata": {},
   "source": [
    "### Третья степень"
   ]
  },
  {
   "cell_type": "code",
   "execution_count": 110,
   "metadata": {
    "collapsed": false
   },
   "outputs": [],
   "source": [
    "def powerise(size, x):\n",
    "    ret = np.zeros(size)\n",
    "    for i in range(size):\n",
    "        ret[i] = np.power(x, i)\n",
    "    return ret\n",
    "        \n",
    "\n",
    "y_1 = f(1)\n",
    "y_2 = f(15)\n",
    "y_3 = f(8)\n",
    "\n",
    "A = np.array([powerise(3, 1), powerise(3, 15), powerise(3, 8)])\n",
    "b = np.array([y_1, y_2, y_3]).reshape(3, )\n",
    "sol3 = solve(A, b)\n",
    "\n",
    "x = np.linspace(1, 15, 1000)\n",
    "y_1 = f(x)\n",
    "y_2 = poly(sol3, x)"
   ]
  },
  {
   "cell_type": "code",
   "execution_count": 111,
   "metadata": {
    "collapsed": false
   },
   "outputs": [
    {
     "data": {
      "text/plain": [
       "[<matplotlib.lines.Line2D at 0x10ab95fd0>]"
      ]
     },
     "execution_count": 111,
     "metadata": {},
     "output_type": "execute_result"
    },
    {
     "data": {
      "image/png": "[encoded data removed]",
      "text/plain": [
       "<matplotlib.figure.Figure at 0x10ab93860>"
      ]
     },
     "metadata": {},
     "output_type": "display_data"
    }
   ],
   "source": [
    "plt.plot(x, y_1)\n",
    "plt.plot(x, y_2)"
   ]
  },
  {
   "cell_type": "markdown",
   "metadata": {},
   "source": [
    "### Четвертая степень"
   ]
  },
  {
   "cell_type": "code",
   "execution_count": 114,
   "metadata": {
    "collapsed": true
   },
   "outputs": [],
   "source": [
    "y_1 = f(1)\n",
    "y_2 = f(4)\n",
    "y_3 = f(10)\n",
    "y_4 = f(15)\n",
    "\n",
    "A = np.array([powerise(4, 1), powerise(4, 4), powerise(4, 10), powerise(4, 15)])\n",
    "b = np.array([y_1, y_2, y_3, y_4]).reshape(4, )\n",
    "sol4 = solve(A, b)\n",
    "\n",
    "x = np.linspace(1, 15, 1000)\n",
    "y_1 = f(x)\n",
    "y_2 = poly(sol4, x)"
   ]
  },
  {
   "cell_type": "code",
   "execution_count": 115,
   "metadata": {
    "collapsed": false
   },
   "outputs": [
    {
     "data": {
      "text/plain": [
       "[<matplotlib.lines.Line2D at 0x10abafdd8>]"
      ]
     },
     "execution_count": 115,
     "metadata": {},
     "output_type": "execute_result"
    },
    {
     "data": {
      "image/png": "[encoded data removed]",
      "text/plain": [
       "<matplotlib.figure.Figure at 0x10abafc50>"
      ]
     },
     "metadata": {},
     "output_type": "display_data"
    }
   ],
   "source": [
    "plt.plot(x, y_1)\n",
    "plt.plot(x, y_2)"
   ]
  },
  {
   "cell_type": "code",
   "execution_count": 116,
   "metadata": {
    "collapsed": false
   },
   "outputs": [
    {
     "data": {
      "text/plain": [
       "array([ 4.36264154, -1.29552587,  0.19333685, -0.00823565])"
      ]
     },
     "execution_count": 116,
     "metadata": {},
     "output_type": "execute_result"
    }
   ],
   "source": [
    "sol4"
   ]
  }
 ],
 "metadata": {
  "kernelspec": {
   "display_name": "Python 3",
   "language": "python",
   "name": "python3"
  },
  "language_info": {
   "codemirror_mode": {
    "name": "ipython",
    "version": 3
   },
   "file_extension": ".py",
   "mimetype": "text/x-python",
   "name": "python",
   "nbconvert_exporter": "python",
   "pygments_lexer": "ipython3",
   "version": "3.5.1"
  }
 },
 "nbformat": 4,
 "nbformat_minor": 0
}

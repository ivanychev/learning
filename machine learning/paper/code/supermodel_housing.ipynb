{
 "cells": [
  {
   "cell_type": "code",
   "execution_count": 1,
   "metadata": {
    "collapsed": false
   },
   "outputs": [],
   "source": [
    "import utils\n",
    "from supermodel import SVNSupermodel\n",
    "from supermodel import scores_stats\n",
    "import numpy as np"
   ]
  },
  {
   "cell_type": "code",
   "execution_count": 2,
   "metadata": {
    "collapsed": false
   },
   "outputs": [],
   "source": [
    "def test_supermodel(datasets, args, n_folds=5, times=20, verbose=False):\n",
    "    for name in datasets:\n",
    "        X, y, _ = utils.get_dataset(name)\n",
    "        print(\"TESTING %s\" % name.upper())\n",
    "        args[\"dataset_name\"] = name\n",
    "        res = scores_stats(X, y, cv_type=\"stratified\", n_folds=5, times=times, verbose=False, args=args)\n",
    "        print(\"Classifiers results:\")\n",
    "        print(np.sort(res[1])[::-1])\n",
    "        print(\"Superclassifier score (args = %s)\" % args)\n",
    "        print(res[0])"
   ]
  },
  {
   "cell_type": "code",
   "execution_count": 3,
   "metadata": {
    "collapsed": true
   },
   "outputs": [],
   "source": [
    "DATASETS = [\"housing\"]\n",
    "N_FOLDS = 5\n",
    "TIMES = 200"
   ]
  },
  {
   "cell_type": "markdown",
   "metadata": {},
   "source": [
    "## l2"
   ]
  },
  {
   "cell_type": "code",
   "execution_count": 4,
   "metadata": {
    "collapsed": false
   },
   "outputs": [
    {
     "name": "stdout",
     "output_type": "stream",
     "text": [
      "TESTING HOUSING\n",
      "0 1 2 3 4 5 6 7 8 9 10 11 12 13 14 15 16 17 18 19 20 21 22 23 24 25 26 27 28 29 30 31 32 33 34 35 36 37 38 39 40 41 42 43 44 45 46 47 48 49 50 51 52 53 54 55 56 57 58 59 60 61 62 63 64 65 66 67 68 69 70 71 72 73 74 75 76 77 78 79 80 81 82 83 84 85 86 87 88 89 90 91 92 93 94 95 96 97 98 99 100 101 102 103 104 105 106 107 108 109 110 111 112 113 114 115 116 117 118 119 120 121 122 123 124 125 126 127 128 129 130 131 132 133 134 135 136 137 138 139 140 141 142 143 144 145 146 147 148 149 150 151 152 153 154 155 156 157 158 159 160 161 162 163 164 165 166 167 168 169 170 171 172 173 174 175 176 177 178 179 180 181 182 183 184 185 186 187 188 189 190 191 192 193 194 195 196 197 198 199 Result samples = 1000\n",
      "Classifiers results:\n",
      "[ 0.95586541  0.95401554  0.94984709  0.94635604  0.93876959  0.93710159\n",
      "  0.93529543  0.93351281  0.92271468  0.89652003  0.88030351]\n",
      "Superclassifier score (args = {'refit_after': False, 'algo': 'l2', 'auc_window': None, 'dataset_name': 'housing'})\n",
      "0.959497557815\n"
     ]
    }
   ],
   "source": [
    "test_supermodel(args={\"algo\":\"l2\", \"auc_window\":None, \"refit_after\":False}, datasets=DATASETS, n_folds=N_FOLDS, times=TIMES)"
   ]
  },
  {
   "cell_type": "markdown",
   "metadata": {},
   "source": [
    "## l1"
   ]
  },
  {
   "cell_type": "code",
   "execution_count": 5,
   "metadata": {
    "collapsed": false
   },
   "outputs": [
    {
     "name": "stdout",
     "output_type": "stream",
     "text": [
      "TESTING HOUSING\n",
      "0 1 2 3 4 5 6 7 8 9 10 11 12 13 14 15 16 17 18 19 20 21 22 23 24 25 26 27 28 29 30 31 32 33 34 35 36 37 38 39 40 41 42 43 44 45 46 47 48 49 50 51 52 53 54 55 56 57 58 59 60 61 62 63 64 65 66 67 68 69 70 71 72 73 74 75 76 77 78 79 80 81 82 83 84 85 86 87 88 89 90 91 92 93 94 95 96 97 98 99 100 101 102 103 104 105 106 107 108 109 110 111 112 113 114 115 116 117 118 119 120 121 122 123 124 125 126 127 128 129 130 131 132 133 134 135 136 137 138 139 140 141 142 143 144 145 146 147 148 149 150 151 152 153 154 155 156 157 158 159 160 161 162 163 164 165 166 167 168 169 170 171 172 173 174 175 176 177 178 179 180 181 182 183 184 185 186 187 188 189 190 191 192 193 194 195 196 197 198 199 Result samples = 1000\n",
      "Classifiers results:\n",
      "[ 0.95671041  0.95445486  0.95003466  0.94612698  0.93875503  0.93679996\n",
      "  0.93509364  0.93390775  0.92270772  0.89688912  0.88009967]\n",
      "Superclassifier score (args = {'refit_after': False, 'algo': 'l1', 'auc_window': None, 'dataset_name': 'housing'})\n",
      "0.959381200444\n"
     ]
    }
   ],
   "source": [
    "test_supermodel(args={\"algo\":\"l1\", \"auc_window\":None, \"refit_after\":False}, datasets=DATASETS, n_folds=N_FOLDS, times=TIMES)"
   ]
  },
  {
   "cell_type": "markdown",
   "metadata": {},
   "source": [
    "## l1 + refit"
   ]
  },
  {
   "cell_type": "code",
   "execution_count": 6,
   "metadata": {
    "collapsed": false,
    "scrolled": true
   },
   "outputs": [
    {
     "name": "stdout",
     "output_type": "stream",
     "text": [
      "TESTING HOUSING\n",
      "0 1 2 3 4 5 6 7 8 9 10 11 12 13 14 15 16 17 18 19 20 21 22 23 24 25 26 27 28 29 30 31 32 33 34 35 36 37 38 39 40 41 42 43 44 45 46 47 48 49 50 51 52 53 54 55 56 57 58 59 60 61 62 63 64 65 66 67 68 69 70 71 72 73 74 75 76 77 78 79 80 81 82 83 84 85 86 87 88 89 90 91 92 93 94 95 96 97 98 99 100 101 102 103 104 105 106 107 108 109 110 111 112 113 114 115 116 117 118 119 120 121 122 123 124 125 126 127 128 129 130 131 132 133 134 135 136 137 138 139 140 141 142 143 144 145 146 147 148 149 150 151 152 153 154 155 156 157 158 159 160 161 162 163 164 165 166 167 168 169 170 171 172 173 174 175 176 177 178 179 180 181 182 183 184 185 186 187 188 189 190 191 192 193 194 195 196 197 198 199 Result samples = 1000\n",
      "Classifiers results:\n",
      "[ 0.96652682  0.9664504   0.96430252  0.95877761  0.95313474  0.95043517\n",
      "  0.94488146  0.94234021  0.93598384  0.93042045  0.91615369]\n",
      "Superclassifier score (args = {'refit_after': True, 'algo': 'l1', 'auc_window': None, 'dataset_name': 'housing'})\n",
      "0.966799390522\n"
     ]
    }
   ],
   "source": [
    "test_supermodel(args={\"algo\":\"l1\", \"auc_window\":None, \"refit_after\":True}, datasets=DATASETS, n_folds=N_FOLDS, times=TIMES)"
   ]
  },
  {
   "cell_type": "markdown",
   "metadata": {},
   "source": [
    "## l1 + auc_window=0.1"
   ]
  },
  {
   "cell_type": "code",
   "execution_count": 7,
   "metadata": {
    "collapsed": false
   },
   "outputs": [
    {
     "name": "stdout",
     "output_type": "stream",
     "text": [
      "TESTING HOUSING\n",
      "0 1 2 3 4 5 6 7 8 9 10 11 12 13 14 15 16 17 18 19 20 21 22 23 24 25 26 27 28 29 30 31 32 33 34 35 36 37 38 39 40 41 42 43 44 45 46 47 48 49 50 51 52 53 54 55 56 57 58 59 60 61 62 63 64 65 66 67 68 69 70 71 72 73 74 75 76 77 78 79 80 81 82 83 84 85 86 87 88 89 90 91 92 93 94 95 96 97 98 99 100 101 102 103 104 105 106 107 108 109 110 111 112 113 114 115 116 117 118 119 120 121 122 123 124 125 126 127 128 129 130 131 132 133 134 135 136 137 138 139 140 141 142 143 144 145 146 147 148 149 150 151 152 153 154 155 156 157 158 159 160 161 162 163 164 165 166 167 168 169 170 171 172 173 174 175 176 177 178 179 180 181 182 183 184 185 186 187 188 189 190 191 192 193 194 195 196 197 198 199 Result samples = 1000\n",
      "Classifiers results:\n",
      "[ 0.95611706  0.95377348  0.94976149  0.94557754  0.93836622  0.93610626\n",
      "  0.93395237  0.93358016  0.923032    0.89604917  0.88074984]\n",
      "Superclassifier score (args = {'refit_after': False, 'algo': 'l1', 'auc_window': 0.1, 'dataset_name': 'housing'})\n",
      "0.958435407838\n"
     ]
    }
   ],
   "source": [
    "test_supermodel(args={\"algo\":\"l1\", \"auc_window\":0.1, \"refit_after\":False}, datasets=DATASETS, n_folds=N_FOLDS, times=TIMES)"
   ]
  },
  {
   "cell_type": "markdown",
   "metadata": {},
   "source": [
    "## l1 + auc_window=0.1 + refit"
   ]
  },
  {
   "cell_type": "code",
   "execution_count": 8,
   "metadata": {
    "collapsed": false
   },
   "outputs": [
    {
     "name": "stdout",
     "output_type": "stream",
     "text": [
      "TESTING HOUSING\n",
      "0 1 2 3 4 5 6 7 8 9 10 11 12 13 14 15 16 17 18 19 20 21 22 23 24 25 26 27 28 29 30 31 32 33 34 35 36 37 38 39 40 41 42 43 44 45 46 47 48 49 50 51 52 53 54 55 56 57 58 59 60 61 62 63 64 65 66 67 68 69 70 71 72 73 74 75 76 77 78 79 80 81 82 83 84 85 86 87 88 89 90 91 92 93 94 95 96 97 98 99 100 101 102 103 104 105 106 107 108 109 110 111 112 113 114 115 116 117 118 119 120 121 122 123 124 125 126 127 128 129 130 131 132 133 134 135 136 137 138 139 140 141 142 143 144 145 146 147 148 149 150 151 152 153 154 155 156 157 158 159 160 161 162 163 164 165 166 167 168 169 170 171 172 173 174 175 176 177 178 179 180 181 182 183 184 185 186 187 188 189 190 191 192 193 194 195 196 197 198 199 Result samples = 1000\n",
      "Classifiers results:\n",
      "[ 0.96708072  0.96671224  0.96490915  0.95892102  0.95282782  0.95043178\n",
      "  0.94490994  0.94262404  0.93648639  0.92996752  0.91718178]\n",
      "Superclassifier score (args = {'refit_after': True, 'algo': 'l1', 'auc_window': 0.1, 'dataset_name': 'housing'})\n",
      "0.967588152768\n"
     ]
    }
   ],
   "source": [
    "test_supermodel(args={\"algo\":\"l1\", \"auc_window\":0.1, \"refit_after\":True}, datasets=DATASETS, n_folds=N_FOLDS, times=TIMES)"
   ]
  },
  {
   "cell_type": "markdown",
   "metadata": {},
   "source": [
    "## l1 + positive"
   ]
  },
  {
   "cell_type": "code",
   "execution_count": 9,
   "metadata": {
    "collapsed": false
   },
   "outputs": [
    {
     "name": "stdout",
     "output_type": "stream",
     "text": [
      "TESTING HOUSING\n",
      "0 1 2 3 4 5 6 7 8 9 10 11 12 13 14 15 16 17 18 19 20 21 22 23 24 25 26 27 28 29 30 31 32 33 34 35 36 37 38 39 40 41 42 43 44 45 46 47 48 49 50 51 52 53 54 55 56 57 58 59 60 61 62 63 64 65 66 67 68 69 70 71 72 73 74 75 76 77 78 79 80 81 82 83 84 85 86 87 88 89 90 91 92 93 94 95 96 97 98 99 100 101 102 103 104 105 106 107 108 109 110 111 112 113 114 115 116 117 118 119 120 121 122 123 124 125 126 127 128 129 130 131 132 133 134 135 136 137 138 139 140 141 142 143 144 145 146 147 148 149 150 151 152 153 154 155 156 157 158 159 160 161 162 163 164 165 166 167 168 169 170 171 172 173 174 175 176 177 178 179 180 181 182 183 184 185 186 187 188 189 190 191 192 193 194 195 196 197 198 199 Result samples = 1000\n",
      "Classifiers results:\n",
      "[ 0.95631643  0.95393331  0.94907431  0.94579943  0.93830989  0.9359679\n",
      "  0.9339458   0.93339399  0.92161416  0.89584305  0.87887244]\n",
      "Superclassifier score (args = {'refit_after': False, 'algo': 'l1+', 'auc_window': None, 'dataset_name': 'housing'})\n",
      "0.958223981545\n"
     ]
    }
   ],
   "source": [
    "test_supermodel(args={\"algo\":\"l1+\", \"auc_window\":None, \"refit_after\":False}, datasets=DATASETS, n_folds=N_FOLDS, times=TIMES)"
   ]
  },
  {
   "cell_type": "markdown",
   "metadata": {},
   "source": [
    "## l1 + positive + refit"
   ]
  },
  {
   "cell_type": "code",
   "execution_count": 10,
   "metadata": {
    "collapsed": false,
    "scrolled": true
   },
   "outputs": [
    {
     "name": "stdout",
     "output_type": "stream",
     "text": [
      "TESTING HOUSING\n",
      "0 1 2 3 4 5 6 7 8 9 10 11 12 13 14 15 16 17 18 19 20 21 22 23 24 25 26 27 28 29 30 31 32 33 34 35 36 37 38 39 40 41 42 43 44 45 46 47 48 49 50 51 52 53 54 55 56 57 58 59 60 61 62 63 64 65 66 67 68 69 70 71 72 73 74 75 76 77 78 79 80 81 82 83 84 85 86 87 88 89 90 91 92 93 94 95 96 97 98 99 100 101 102 103 104 105 106 107 108 109 110 111 112 113 114 115 116 117 118 119 120 121 122 123 124 125 126 127 128 129 130 131 132 133 134 135 136 137 138 139 140 141 142 143 144 145 146 147 148 149 150 151 152 153 154 155 156 157 158 159 160 161 162 163 164 165 166 167 168 169 170 171 172 173 174 175 176 177 178 179 180 181 182 183 184 185 186 187 188 189 190 191 192 193 194 195 196 197 198 199 Result samples = 1000\n",
      "Classifiers results:\n",
      "[ 0.96693301  0.96683071  0.96466826  0.95885591  0.95320841  0.95027219\n",
      "  0.94504934  0.94292549  0.93650262  0.93020155  0.91605815]\n",
      "Superclassifier score (args = {'refit_after': True, 'algo': 'l1+', 'auc_window': None, 'dataset_name': 'housing'})\n",
      "0.967907373832\n"
     ]
    }
   ],
   "source": [
    "test_supermodel(args={\"algo\":\"l1+\", \"auc_window\":None, \"refit_after\":True}, datasets=DATASETS, n_folds=N_FOLDS, times=TIMES)"
   ]
  },
  {
   "cell_type": "markdown",
   "metadata": {},
   "source": [
    "## l1 + positive + auc_window=0.1"
   ]
  },
  {
   "cell_type": "code",
   "execution_count": 11,
   "metadata": {
    "collapsed": false
   },
   "outputs": [
    {
     "name": "stdout",
     "output_type": "stream",
     "text": [
      "TESTING HOUSING\n",
      "0 1 2 3 4 5 6 7 8 9 10 11 12 13 14 15 16 17 18 19 20 21 22 23 24 25 26 27 28 29 30 31 32 33 34 35 36 37 38 39 40 41 42 43 44 45 46 47 48 49 50 51 52 53 54 55 56 57 58 59 60 61 62 63 64 65 66 67 68 69 70 71 72 73 74 75 76 77 78 79 80 81 82 83 84 85 86 87 88 89 90 91 92 93 94 95 96 97 98 99 100 101 102 103 104 105 106 107 108 109 110 111 112 113 114 115 116 117 118 119 120 121 122 123 124 125 126 127 128 129 130 131 132 133 134 135 136 137 138 139 140 141 142 143 144 145 146 147 148 149 150 151 152 153 154 155 156 157 158 159 160 161 162 163 164 165 166 167 168 169 170 171 172 173 174 175 176 177 178 179 180 181 182 183 184 185 186 187 188 189 190 191 192 193 194 195 196 197 198 199 Result samples = 1000\n",
      "Classifiers results:\n",
      "[ 0.95654368  0.95416833  0.94937134  0.94714946  0.93890409  0.9366666\n",
      "  0.93544563  0.93411671  0.9244702   0.89832206  0.88090863]\n",
      "Superclassifier score (args = {'refit_after': False, 'algo': 'l1+', 'auc_window': 0.1, 'dataset_name': 'housing'})\n",
      "0.958852253076\n"
     ]
    }
   ],
   "source": [
    "test_supermodel(args={\"algo\":\"l1+\", \"auc_window\":0.1, \"refit_after\":False}, datasets=DATASETS, n_folds=N_FOLDS, times=TIMES)"
   ]
  },
  {
   "cell_type": "markdown",
   "metadata": {},
   "source": [
    "## l1 + positive + auc_window=0.1 + refit"
   ]
  },
  {
   "cell_type": "code",
   "execution_count": 12,
   "metadata": {
    "collapsed": false
   },
   "outputs": [
    {
     "name": "stdout",
     "output_type": "stream",
     "text": [
      "TESTING HOUSING\n",
      "0 1 2 3 4 5 6 7 8 9 10 11 12 13 14 15 16 17 18 19 20 21 22 23 24 25 26 27 28 29 30 31 32 33 34 35 36 37 38 39 40 41 42 43 44 45 46 47 48 49 50 51 52 53 54 55 56 57 58 59 60 61 62 63 64 65 66 67 68 69 70 71 72 73 74 75 76 77 78 79 80 81 82 83 84 85 86 87 88 89 90 91 92 93 94 95 96 97 98 99 100 101 102 103 104 105 106 107 108 109 110 111 112 113 114 115 116 117 118 119 120 121 122 123 124 125 126 127 128 129 130 131 132 133 134 135 136 137 138 139 140 141 142 143 144 145 146 147 148 149 150 151 152 153 154 155 156 157 158 159 160 161 162 163 164 165 166 167 168 169 170 171 172 173 174 175 176 177 178 179 180 181 182 183 184 185 186 187 188 189 190 191 192 193 194 195 196 197 198 199 Result samples = 1000\n",
      "Classifiers results:\n",
      "[ 0.96743674  0.96711792  0.96538801  0.95934235  0.95256072  0.95079978\n",
      "  0.94566005  0.94289242  0.93626689  0.93111036  0.91706468]\n",
      "Superclassifier score (args = {'refit_after': True, 'algo': 'l1', 'auc_window': 0.1, 'dataset_name': 'housing'})\n",
      "0.967472480918\n"
     ]
    }
   ],
   "source": [
    "test_supermodel(args={\"algo\":\"l1\", \"auc_window\":0.1, \"refit_after\":True}, datasets=DATASETS, n_folds=N_FOLDS, times=TIMES)"
   ]
  }
 ],
 "metadata": {
  "kernelspec": {
   "display_name": "Python 3",
   "language": "python",
   "name": "python3"
  },
  "language_info": {
   "codemirror_mode": {
    "name": "ipython",
    "version": 3
   },
   "file_extension": ".py",
   "mimetype": "text/x-python",
   "name": "python",
   "nbconvert_exporter": "python",
   "pygments_lexer": "ipython3",
   "version": "3.5.1"
  }
 },
 "nbformat": 4,
 "nbformat_minor": 0
}

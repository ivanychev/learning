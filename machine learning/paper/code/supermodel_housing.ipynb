{
 "cells": [
  {
   "cell_type": "code",
   "execution_count": 1,
   "metadata": {
    "collapsed": false
   },
   "outputs": [],
   "source": [
    "import utils\n",
    "from supermodel import SVNSupermodel\n",
    "from supermodel import test_supermodel\n",
    "import numpy as np"
   ]
  },
  {
   "cell_type": "code",
   "execution_count": 2,
   "metadata": {
    "collapsed": false
   },
   "outputs": [],
   "source": [
    "DATASETS = [\"housing\"]\n",
    "N_FOLDS = 5\n",
    "TIMES = 40"
   ]
  },
  {
   "cell_type": "markdown",
   "metadata": {},
   "source": [
    "## l2"
   ]
  },
  {
   "cell_type": "code",
   "execution_count": 3,
   "metadata": {
    "collapsed": false
   },
   "outputs": [
    {
     "name": "stdout",
     "output_type": "stream",
     "text": [
      "TESTING HOUSING\n",
      "0 1 2 3 4 5 6 7 8 9 10 11 12 13 14 15 16 17 18 19 20 21 22 23 24 25 26 27 28 29 30 31 32 33 34 35 36 37 38 39 Result samples = 200\n",
      "Classifiers results:\n",
      "Mean = 0.9347, std = 0.0309\n",
      "Mean = 0.8768, std = 0.0464\n",
      "Mean = 0.9350, std = 0.0315\n",
      "Mean = 0.8952, std = 0.0458\n",
      "Mean = 0.9557, std = 0.0240\n",
      "Mean = 0.9537, std = 0.0241\n",
      "Mean = 0.9337, std = 0.0324\n",
      "Mean = 0.9384, std = 0.0303\n",
      "Mean = 0.9494, std = 0.0265\n",
      "Mean = 0.9444, std = 0.0294\n",
      "Mean = 0.9228, std = 0.0308\n",
      "Max classifier mean:\n",
      "Mean = 0.9557, std = 0.0240\n",
      "Superclassifier score (args = {'auc_window': None, 'refit_after': False, 'dataset_name': 'housing', 'algo': 'l2'})\n",
      "Mean = 0.9584, std = 0.0220\n"
     ]
    }
   ],
   "source": [
    "test_supermodel(args={\"algo\":\"l2\", \"auc_window\":None, \"refit_after\":False}, datasets=DATASETS, n_folds=N_FOLDS, times=TIMES)"
   ]
  },
  {
   "cell_type": "markdown",
   "metadata": {},
   "source": [
    "## l1"
   ]
  },
  {
   "cell_type": "code",
   "execution_count": 4,
   "metadata": {
    "collapsed": false
   },
   "outputs": [
    {
     "name": "stdout",
     "output_type": "stream",
     "text": [
      "TESTING HOUSING\n",
      "0 1 2 3 4 5 6 7 8 9 10 11 12 13 14 15 16 17 18 19 20 21 22 23 24 25 26 27 28 29 30 31 32 33 34 35 36 37 38 39 Result samples = 200\n",
      "Classifiers results:\n",
      "Mean = 0.9326, std = 0.0322\n",
      "Mean = 0.8794, std = 0.0471\n",
      "Mean = 0.9336, std = 0.0318\n",
      "Mean = 0.8973, std = 0.0425\n",
      "Mean = 0.9530, std = 0.0274\n",
      "Mean = 0.9510, std = 0.0274\n",
      "Mean = 0.9329, std = 0.0302\n",
      "Mean = 0.9377, std = 0.0289\n",
      "Mean = 0.9485, std = 0.0278\n",
      "Mean = 0.9441, std = 0.0316\n",
      "Mean = 0.9206, std = 0.0345\n",
      "Max classifier mean:\n",
      "Mean = 0.9530, std = 0.0274\n",
      "Superclassifier score (args = {'auc_window': None, 'refit_after': False, 'dataset_name': 'housing', 'algo': 'l1'})\n",
      "Mean = 0.9564, std = 0.0256\n"
     ]
    }
   ],
   "source": [
    "test_supermodel(args={\"algo\":\"l1\", \"auc_window\":None, \"refit_after\":False}, datasets=DATASETS, n_folds=N_FOLDS, times=TIMES)"
   ]
  },
  {
   "cell_type": "markdown",
   "metadata": {},
   "source": [
    "## l1 + refit"
   ]
  },
  {
   "cell_type": "code",
   "execution_count": 5,
   "metadata": {
    "collapsed": false,
    "scrolled": true
   },
   "outputs": [
    {
     "name": "stdout",
     "output_type": "stream",
     "text": [
      "TESTING HOUSING\n",
      "0 1 2 3 4 5 6 7 8 9 10 11 12 13 14 15 16 17 18 19 20 21 22 23 24 25 26 27 28 29 30 31 32 33 34 35 36 37 38 39 Result samples = 200\n",
      "Classifiers results:\n",
      "Mean = 0.9453, std = 0.0272\n",
      "Mean = 0.9188, std = 0.0323\n",
      "Mean = 0.9513, std = 0.0258\n",
      "Mean = 0.9331, std = 0.0291\n",
      "Mean = 0.9671, std = 0.0204\n",
      "Mean = 0.9651, std = 0.0205\n",
      "Mean = 0.9363, std = 0.0299\n",
      "Mean = 0.9428, std = 0.0281\n",
      "Mean = 0.9592, std = 0.0232\n",
      "Mean = 0.9681, std = 0.0200\n",
      "Mean = 0.9539, std = 0.0232\n",
      "Max classifier mean:\n",
      "Mean = 0.9681, std = 0.0200\n",
      "Superclassifier score (args = {'auc_window': None, 'refit_after': True, 'dataset_name': 'housing', 'algo': 'l1'})\n",
      "Mean = 0.9668, std = 0.0215\n"
     ]
    }
   ],
   "source": [
    "test_supermodel(args={\"algo\":\"l1\", \"auc_window\":None, \"refit_after\":True}, datasets=DATASETS, n_folds=N_FOLDS, times=TIMES)"
   ]
  },
  {
   "cell_type": "markdown",
   "metadata": {},
   "source": [
    "## l1 + auc_window=0.05"
   ]
  },
  {
   "cell_type": "code",
   "execution_count": 6,
   "metadata": {
    "collapsed": false
   },
   "outputs": [
    {
     "name": "stdout",
     "output_type": "stream",
     "text": [
      "TESTING HOUSING\n",
      "0 1 2 3 4 5 6 7 8 9 10 11 12 13 14 15 16 17 18 19 20 21 22 23 24 25 26 27 28 29 30 31 32 33 34 35 36 37 38 39 Result samples = 200\n",
      "Classifiers results:\n",
      "Mean = 0.9341, std = 0.0327\n",
      "Mean = 0.8768, std = 0.0485\n",
      "Mean = 0.9349, std = 0.0336\n",
      "Mean = 0.8961, std = 0.0430\n",
      "Mean = 0.9553, std = 0.0261\n",
      "Mean = 0.9537, std = 0.0260\n",
      "Mean = 0.9331, std = 0.0349\n",
      "Mean = 0.9383, std = 0.0328\n",
      "Mean = 0.9493, std = 0.0281\n",
      "Mean = 0.9470, std = 0.0286\n",
      "Mean = 0.9248, std = 0.0331\n",
      "Max classifier mean:\n",
      "Mean = 0.9553, std = 0.0261\n",
      "Superclassifier score (args = {'auc_window': 0.05, 'refit_after': False, 'dataset_name': 'housing', 'algo': 'l1'})\n",
      "Mean = 0.9584, std = 0.0251\n"
     ]
    }
   ],
   "source": [
    "test_supermodel(args={\"algo\":\"l1\", \"auc_window\":0.05, \"refit_after\":False}, datasets=DATASETS, n_folds=N_FOLDS, times=TIMES)"
   ]
  },
  {
   "cell_type": "markdown",
   "metadata": {},
   "source": [
    "## l1 + auc_window=0.05 + refit"
   ]
  },
  {
   "cell_type": "code",
   "execution_count": 7,
   "metadata": {
    "collapsed": false
   },
   "outputs": [
    {
     "name": "stdout",
     "output_type": "stream",
     "text": [
      "TESTING HOUSING\n",
      "0 1 2 3 4 5 6 7 8 9 10 11 12 13 14 15 16 17 18 19 20 21 22 23 24 25 26 27 28 29 30 31 32 33 34 35 36 37 38 39 Result samples = 200\n",
      "Classifiers results:\n",
      "Mean = 0.9450, std = 0.0274\n",
      "Mean = 0.9179, std = 0.0354\n",
      "Mean = 0.9502, std = 0.0293\n",
      "Mean = 0.9304, std = 0.0340\n",
      "Mean = 0.9665, std = 0.0213\n",
      "Mean = 0.9645, std = 0.0213\n",
      "Mean = 0.9361, std = 0.0296\n",
      "Mean = 0.9427, std = 0.0278\n",
      "Mean = 0.9590, std = 0.0232\n",
      "Mean = 0.9659, std = 0.0233\n",
      "Mean = 0.9516, std = 0.0250\n",
      "Max classifier mean:\n",
      "Mean = 0.9665, std = 0.0213\n",
      "Superclassifier score (args = {'auc_window': 0.05, 'refit_after': True, 'dataset_name': 'housing', 'algo': 'l1'})\n",
      "Mean = 0.9686, std = 0.0207\n"
     ]
    }
   ],
   "source": [
    "test_supermodel(args={\"algo\":\"l1\", \"auc_window\":0.05, \"refit_after\":True}, datasets=DATASETS, n_folds=N_FOLDS, times=TIMES)"
   ]
  },
  {
   "cell_type": "markdown",
   "metadata": {},
   "source": [
    "## l1 + positive"
   ]
  },
  {
   "cell_type": "code",
   "execution_count": 8,
   "metadata": {
    "collapsed": false
   },
   "outputs": [
    {
     "name": "stdout",
     "output_type": "stream",
     "text": [
      "TESTING HOUSING\n",
      "0 1 2 3 4 5 6 7 8 9 10 11 12 13 14 15 16 17 18 19 20 21 22 23 24 25 26 27 28 29 30 31 32 33 34 35 36 37 38 39 Result samples = 200\n",
      "Classifiers results:\n",
      "Mean = 0.9346, std = 0.0331\n",
      "Mean = 0.8795, std = 0.0471\n",
      "Mean = 0.9382, std = 0.0321\n",
      "Mean = 0.8926, std = 0.0436\n",
      "Mean = 0.9554, std = 0.0251\n",
      "Mean = 0.9535, std = 0.0259\n",
      "Mean = 0.9340, std = 0.0344\n",
      "Mean = 0.9390, std = 0.0321\n",
      "Mean = 0.9495, std = 0.0292\n",
      "Mean = 0.9452, std = 0.0289\n",
      "Mean = 0.9252, std = 0.0305\n",
      "Max classifier mean:\n",
      "Mean = 0.9554, std = 0.0251\n",
      "Superclassifier score (args = {'auc_window': None, 'refit_after': False, 'dataset_name': 'housing', 'algo': 'l1+'})\n",
      "Mean = 0.9581, std = 0.0243\n"
     ]
    }
   ],
   "source": [
    "test_supermodel(args={\"algo\":\"l1+\", \"auc_window\":None, \"refit_after\":False}, datasets=DATASETS, n_folds=N_FOLDS, times=TIMES)"
   ]
  },
  {
   "cell_type": "markdown",
   "metadata": {},
   "source": [
    "## l1 + positive + refit"
   ]
  },
  {
   "cell_type": "code",
   "execution_count": 9,
   "metadata": {
    "collapsed": false,
    "scrolled": true
   },
   "outputs": [
    {
     "name": "stdout",
     "output_type": "stream",
     "text": [
      "TESTING HOUSING\n",
      "0 1 2 3 4 5 6 7 8 9 10 11 12 13 14 15 16 17 18 19 20 21 22 23 24 25 26 27 28 29 30 31 32 33 34 35 36 37 38 39 Result samples = 200\n",
      "Classifiers results:\n",
      "Mean = 0.9443, std = 0.0273\n",
      "Mean = 0.9164, std = 0.0365\n",
      "Mean = 0.9507, std = 0.0282\n",
      "Mean = 0.9303, std = 0.0364\n",
      "Mean = 0.9663, std = 0.0213\n",
      "Mean = 0.9644, std = 0.0220\n",
      "Mean = 0.9357, std = 0.0308\n",
      "Mean = 0.9424, std = 0.0283\n",
      "Mean = 0.9590, std = 0.0232\n",
      "Mean = 0.9657, std = 0.0231\n",
      "Mean = 0.9508, std = 0.0252\n",
      "Max classifier mean:\n",
      "Mean = 0.9663, std = 0.0213\n",
      "Superclassifier score (args = {'auc_window': None, 'refit_after': True, 'dataset_name': 'housing', 'algo': 'l1+'})\n",
      "Mean = 0.9673, std = 0.0200\n"
     ]
    }
   ],
   "source": [
    "test_supermodel(args={\"algo\":\"l1+\", \"auc_window\":None, \"refit_after\":True}, datasets=DATASETS, n_folds=N_FOLDS, times=TIMES)"
   ]
  },
  {
   "cell_type": "markdown",
   "metadata": {},
   "source": [
    "## l1 + positive + auc_window=0.05"
   ]
  },
  {
   "cell_type": "code",
   "execution_count": 10,
   "metadata": {
    "collapsed": false
   },
   "outputs": [
    {
     "name": "stdout",
     "output_type": "stream",
     "text": [
      "TESTING HOUSING\n",
      "0 1 2 3 4 5 6 7 8 9 10 11 12 13 14 15 16 17 18 19 20 21 22 23 24 25 26 27 28 29 30 31 32 33 34 35 36 37 38 39 Result samples = 200\n",
      "Classifiers results:\n",
      "Mean = 0.9326, std = 0.0314\n",
      "Mean = 0.8795, std = 0.0505\n",
      "Mean = 0.9361, std = 0.0315\n",
      "Mean = 0.8974, std = 0.0448\n",
      "Mean = 0.9547, std = 0.0243\n",
      "Mean = 0.9528, std = 0.0242\n",
      "Mean = 0.9326, std = 0.0325\n",
      "Mean = 0.9375, std = 0.0297\n",
      "Mean = 0.9483, std = 0.0278\n",
      "Mean = 0.9443, std = 0.0313\n",
      "Mean = 0.9223, std = 0.0321\n",
      "Max classifier mean:\n",
      "Mean = 0.9547, std = 0.0243\n",
      "Superclassifier score (args = {'auc_window': 0.05, 'refit_after': False, 'dataset_name': 'housing', 'algo': 'l1+'})\n",
      "Mean = 0.9562, std = 0.0237\n"
     ]
    }
   ],
   "source": [
    "test_supermodel(args={\"algo\":\"l1+\", \"auc_window\":0.05, \"refit_after\":False}, datasets=DATASETS, n_folds=N_FOLDS, times=TIMES)"
   ]
  },
  {
   "cell_type": "markdown",
   "metadata": {},
   "source": [
    "## l1 + positive + auc_window=0.05 + refit"
   ]
  },
  {
   "cell_type": "code",
   "execution_count": 11,
   "metadata": {
    "collapsed": false
   },
   "outputs": [
    {
     "name": "stdout",
     "output_type": "stream",
     "text": [
      "TESTING HOUSING\n",
      "0 1 2 3 4 5 6 7 8 9 10 11 12 13 14 15 16 17 18 19 20 21 22 23 24 25 26 27 28 29 30 31 32 33 34 35 36 37 38 39 Result samples = 200\n",
      "Classifiers results:\n",
      "Mean = 0.9455, std = 0.0279\n",
      "Mean = 0.9177, std = 0.0367\n",
      "Mean = 0.9498, std = 0.0270\n",
      "Mean = 0.9304, std = 0.0362\n",
      "Mean = 0.9674, std = 0.0197\n",
      "Mean = 0.9653, std = 0.0199\n",
      "Mean = 0.9363, std = 0.0304\n",
      "Mean = 0.9427, std = 0.0289\n",
      "Mean = 0.9589, std = 0.0244\n",
      "Mean = 0.9678, std = 0.0205\n",
      "Mean = 0.9552, std = 0.0222\n",
      "Max classifier mean:\n",
      "Mean = 0.9678, std = 0.0205\n",
      "Superclassifier score (args = {'auc_window': 0.05, 'refit_after': True, 'dataset_name': 'housing', 'algo': 'l1'})\n",
      "Mean = 0.9694, std = 0.0195\n"
     ]
    }
   ],
   "source": [
    "test_supermodel(args={\"algo\":\"l1\", \"auc_window\":0.05, \"refit_after\":True}, datasets=DATASETS, n_folds=N_FOLDS, times=TIMES)"
   ]
  },
  {
   "cell_type": "markdown",
   "metadata": {},
   "source": [
    "# Using Robust Logistic Regression"
   ]
  },
  {
   "cell_type": "markdown",
   "metadata": {},
   "source": [
    "## robust + l2"
   ]
  },
  {
   "cell_type": "code",
   "execution_count": 12,
   "metadata": {
    "collapsed": false
   },
   "outputs": [
    {
     "name": "stdout",
     "output_type": "stream",
     "text": [
      "TESTING HOUSING\n",
      "0 1 2 3 4 5 6 7 8 9 10 11 12 13 14 15 16 17 18 19 20 21 22 23 24 25 26 27 28 29 30 31 32 33 34 35 36 37 38 39 Result samples = 200\n",
      "Classifiers results:\n",
      "Mean = 0.9328, std = 0.0310\n",
      "Mean = 0.8788, std = 0.0492\n",
      "Mean = 0.9362, std = 0.0326\n",
      "Mean = 0.8949, std = 0.0473\n",
      "Mean = 0.9559, std = 0.0259\n",
      "Mean = 0.9534, std = 0.0266\n",
      "Mean = 0.9352, std = 0.0317\n",
      "Mean = 0.9396, std = 0.0303\n",
      "Mean = 0.9482, std = 0.0271\n",
      "Mean = 0.9457, std = 0.0297\n",
      "Mean = 0.9231, std = 0.0328\n",
      "Max classifier mean:\n",
      "Mean = 0.9559, std = 0.0259\n",
      "Superclassifier score (args = {'auc_window': None, 'refit_after': False, 'dataset_name': 'housing', 'superclassifier': 'robust', 'algo': 'l2'})\n",
      "Mean = 0.9584, std = 0.0243\n"
     ]
    }
   ],
   "source": [
    "test_supermodel(args={\"algo\":\"l2\", \"auc_window\":None, \"refit_after\":False, \"superclassifier\":\"robust\"}, datasets=DATASETS, n_folds=N_FOLDS, times=TIMES)"
   ]
  },
  {
   "cell_type": "markdown",
   "metadata": {},
   "source": [
    "## robust + l1"
   ]
  },
  {
   "cell_type": "code",
   "execution_count": 13,
   "metadata": {
    "collapsed": false
   },
   "outputs": [
    {
     "name": "stdout",
     "output_type": "stream",
     "text": [
      "TESTING HOUSING\n",
      "0 1 2 3 4 5 6 7 8 9 10 11 12 13 14 15 16 17 18 19 20 21 22 23 24 25 26 27 28 29 30 31 32 33 34 35 36 37 38 39 Result samples = 200\n",
      "Classifiers results:\n",
      "Mean = 0.9353, std = 0.0287\n",
      "Mean = 0.8839, std = 0.0428\n",
      "Mean = 0.9381, std = 0.0295\n",
      "Mean = 0.8966, std = 0.0398\n",
      "Mean = 0.9556, std = 0.0258\n",
      "Mean = 0.9528, std = 0.0263\n",
      "Mean = 0.9341, std = 0.0292\n",
      "Mean = 0.9389, std = 0.0269\n",
      "Mean = 0.9501, std = 0.0242\n",
      "Mean = 0.9454, std = 0.0291\n",
      "Mean = 0.9230, std = 0.0318\n",
      "Max classifier mean:\n",
      "Mean = 0.9556, std = 0.0258\n",
      "Superclassifier score (args = {'auc_window': None, 'refit_after': False, 'dataset_name': 'housing', 'superclassifier': 'robust', 'algo': 'l1'})\n",
      "Mean = 0.9582, std = 0.0229\n"
     ]
    }
   ],
   "source": [
    "test_supermodel(args={\"algo\":\"l1\", \"auc_window\":None, \"refit_after\":False, \"superclassifier\":\"robust\"}, datasets=DATASETS, n_folds=N_FOLDS, times=TIMES)"
   ]
  },
  {
   "cell_type": "markdown",
   "metadata": {},
   "source": [
    "## robust + l1 + auc_window=0.05"
   ]
  },
  {
   "cell_type": "code",
   "execution_count": 14,
   "metadata": {
    "collapsed": false
   },
   "outputs": [
    {
     "name": "stdout",
     "output_type": "stream",
     "text": [
      "TESTING HOUSING\n",
      "0 1 2 3 4 5 6 7 8 9 10 11 12 13 14 15 16 17 18 19 20 21 22 23 24 25 26 27 28 29 30 31 32 33 34 35 36 37 38 39 Result samples = 200\n",
      "Classifiers results:\n",
      "Mean = 0.9357, std = 0.0320\n",
      "Mean = 0.8798, std = 0.0479\n",
      "Mean = 0.9350, std = 0.0340\n",
      "Mean = 0.8956, std = 0.0431\n",
      "Mean = 0.9556, std = 0.0248\n",
      "Mean = 0.9537, std = 0.0253\n",
      "Mean = 0.9345, std = 0.0330\n",
      "Mean = 0.9386, std = 0.0318\n",
      "Mean = 0.9490, std = 0.0286\n",
      "Mean = 0.9445, std = 0.0287\n",
      "Mean = 0.9225, std = 0.0310\n",
      "Max classifier mean:\n",
      "Mean = 0.9556, std = 0.0248\n",
      "Superclassifier score (args = {'auc_window': 0.05, 'refit_after': False, 'dataset_name': 'housing', 'superclassifier': 'robust', 'algo': 'l1'})\n",
      "Mean = 0.9578, std = 0.0233\n"
     ]
    }
   ],
   "source": [
    "test_supermodel(args={\"algo\":\"l1\", \"auc_window\":0.05, \"refit_after\":False, \"superclassifier\":\"robust\"}, datasets=DATASETS, n_folds=N_FOLDS, times=TIMES)"
   ]
  },
  {
   "cell_type": "markdown",
   "metadata": {},
   "source": [
    "## robust + l1 + refit"
   ]
  },
  {
   "cell_type": "code",
   "execution_count": 15,
   "metadata": {
    "collapsed": false
   },
   "outputs": [
    {
     "name": "stdout",
     "output_type": "stream",
     "text": [
      "TESTING HOUSING\n",
      "0 1 2 3 4 5 6 7 8 9 10 11 12 13 14 15 16 17 18 19 20 21 22 23 24 25 26 27 28 29 30 31 32 33 34 35 36 37 38 39 Result samples = 200\n",
      "Classifiers results:\n",
      "Mean = 0.9459, std = 0.0271\n",
      "Mean = 0.9180, std = 0.0340\n",
      "Mean = 0.9498, std = 0.0270\n",
      "Mean = 0.9310, std = 0.0316\n",
      "Mean = 0.9674, std = 0.0210\n",
      "Mean = 0.9652, std = 0.0211\n",
      "Mean = 0.9363, std = 0.0319\n",
      "Mean = 0.9426, std = 0.0297\n",
      "Mean = 0.9596, std = 0.0242\n",
      "Mean = 0.9669, std = 0.0226\n",
      "Mean = 0.9521, std = 0.0260\n",
      "Max classifier mean:\n",
      "Mean = 0.9674, std = 0.0210\n",
      "Superclassifier score (args = {'auc_window': None, 'refit_after': True, 'dataset_name': 'housing', 'superclassifier': 'robust', 'algo': 'l1'})\n",
      "Mean = 0.9696, std = 0.0198\n"
     ]
    }
   ],
   "source": [
    "test_supermodel(args={\"algo\":\"l1\", \"auc_window\":None, \"refit_after\":True, \"superclassifier\":\"robust\"}, datasets=DATASETS, n_folds=N_FOLDS, times=TIMES)"
   ]
  },
  {
   "cell_type": "markdown",
   "metadata": {},
   "source": [
    "## robust + l1 + auc_window=0.05 + refit"
   ]
  },
  {
   "cell_type": "code",
   "execution_count": 16,
   "metadata": {
    "collapsed": false
   },
   "outputs": [
    {
     "name": "stdout",
     "output_type": "stream",
     "text": [
      "TESTING HOUSING\n",
      "0 1 2 3 4 5 6 7 8 9 10 11 12 13 14 15 16 17 18 19 20 21 22 23 24 25 26 27 28 29 30 31 32 33 34 35 36 37 38 39 Result samples = 200\n",
      "Classifiers results:\n",
      "Mean = 0.9456, std = 0.0284\n",
      "Mean = 0.9181, std = 0.0359\n",
      "Mean = 0.9511, std = 0.0282\n",
      "Mean = 0.9318, std = 0.0344\n",
      "Mean = 0.9667, std = 0.0200\n",
      "Mean = 0.9646, std = 0.0203\n",
      "Mean = 0.9363, std = 0.0318\n",
      "Mean = 0.9427, std = 0.0299\n",
      "Mean = 0.9589, std = 0.0239\n",
      "Mean = 0.9671, std = 0.0225\n",
      "Mean = 0.9521, std = 0.0261\n",
      "Max classifier mean:\n",
      "Mean = 0.9671, std = 0.0225\n",
      "Superclassifier score (args = {'auc_window': 0.05, 'refit_after': True, 'dataset_name': 'housing', 'superclassifier': 'robust', 'algo': 'l1'})\n",
      "Mean = 0.9684, std = 0.0205\n"
     ]
    }
   ],
   "source": [
    "test_supermodel(args={\"algo\":\"l1\", \"auc_window\":0.05, \"refit_after\":True, \"superclassifier\":\"robust\"}, datasets=DATASETS, n_folds=N_FOLDS, times=TIMES)"
   ]
  }
 ],
 "metadata": {
  "kernelspec": {
   "display_name": "Python 3",
   "language": "python",
   "name": "python3"
  },
  "language_info": {
   "codemirror_mode": {
    "name": "ipython",
    "version": 3
   },
   "file_extension": ".py",
   "mimetype": "text/x-python",
   "name": "python",
   "nbconvert_exporter": "python",
   "pygments_lexer": "ipython3",
   "version": "3.5.1"
  }
 },
 "nbformat": 4,
 "nbformat_minor": 0
}

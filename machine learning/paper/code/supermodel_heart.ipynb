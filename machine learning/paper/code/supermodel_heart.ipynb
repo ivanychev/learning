{
 "cells": [
  {
   "cell_type": "code",
   "execution_count": 1,
   "metadata": {
    "collapsed": false
   },
   "outputs": [],
   "source": [
    "import utils\n",
    "from supermodel import SVNSupermodel\n",
    "from supermodel import scores_stats\n",
    "import numpy as np"
   ]
  },
  {
   "cell_type": "code",
   "execution_count": 2,
   "metadata": {
    "collapsed": false
   },
   "outputs": [],
   "source": [
    "def test_supermodel(datasets, args, n_folds=5, times=20, verbose=False):\n",
    "    for name in datasets:\n",
    "        X, y, _ = utils.get_dataset(name)\n",
    "        print(\"TESTING %s\" % name.upper())\n",
    "        args[\"dataset_name\"] = name\n",
    "        res = scores_stats(X, y, cv_type=\"stratified\", n_folds=5, times=times, verbose=False, args=args)\n",
    "        print(\"Classifiers results:\")\n",
    "        print(np.sort(res[1])[::-1])\n",
    "        print(\"Superclassifier score (args = %s)\" % args)\n",
    "        print(res[0])"
   ]
  },
  {
   "cell_type": "code",
   "execution_count": 3,
   "metadata": {
    "collapsed": false
   },
   "outputs": [],
   "source": [
    "DATASETS = [\"heart\"]\n",
    "N_FOLDS = 5\n",
    "TIMES = 5"
   ]
  },
  {
   "cell_type": "code",
   "execution_count": 4,
   "metadata": {
    "collapsed": false
   },
   "outputs": [
    {
     "name": "stdout",
     "output_type": "stream",
     "text": [
      "TESTING HEART\n",
      "0 [ 0.          0.          0.45604201  0.          0.          0.          0.\n",
      "  0.55091358  0.533832    0.45027632  0.        ]\n",
      "[ 0.56570609  0.          0.13510143  0.          0.13571313  0.44956293\n",
      "  0.          0.39413199  0.          0.          0.        ]\n",
      "[ 0.83055727  0.          0.2398554   0.          0.          0.          0.\n",
      "  0.90654596  0.          0.12688123  0.        ]\n",
      "[ 0.34158747  0.          0.33555685  0.          0.22214915  0.          0.\n",
      "  0.33605439  0.17678947  0.91802136  0.        ]\n",
      "[ 0.27562644  0.          0.42016492  0.          0.35584957  0.          0.\n",
      "  0.13922701  0.79548037  0.          0.02074005]\n",
      "1 [ 0.          0.          0.          0.          0.40089567  0.          1.0255629\n",
      "  0.          0.          0.54731325  0.01107772]\n",
      "[ 0.07301315  0.01150292  0.          0.          0.19305766  0.          0.\n",
      "  1.15354467  0.0042167   0.28710664  0.        ]\n",
      "[ 0.          0.          0.65253964  0.          0.12015067  0.13620701\n",
      "  0.          1.06610826  0.          0.08568586  0.        ]\n",
      "[ 0.          0.          0.          0.          0.          0.\n",
      "  1.58041302  0.          0.          0.31618085  0.0087175 ]\n",
      "[ 0.54574996  0.          0.40226522  0.          0.2735876   0.16903214\n",
      "  0.16328728  0.23064737  0.15400596  0.          0.        ]\n",
      "2 [ 0.          0.          0.38659845  0.          0.16498564  0.          0.\n",
      "  1.33219498  0.          0.          0.        ]\n",
      "[ 1.01074247  0.          0.42123141  0.          0.05956546  0.\n",
      "  0.09737436  0.11757091  0.32492236  0.147219    0.        ]\n",
      "[ 0.09232045  0.          0.18036405  0.          0.37698038  0.2960554\n",
      "  0.30073096  0.74779792  0.24110337  0.01658123  0.22033172]\n",
      "[ 0.          0.          0.47295028  0.13185304  0.          0.          0.\n",
      "  1.37155519  0.          0.          0.        ]\n",
      "[ 0.          0.1087888   0.40093495  0.          0.          0.\n",
      "  0.04918232  0.78041085  0.          0.56643557  0.        ]\n",
      "3 [ 0.          0.          0.01341456  0.          0.43570988  0.64123941\n",
      "  0.14164783  0.68682277  0.          0.15680517  0.        ]\n",
      "[ 0.          0.1995522   0.10295403  0.          0.75752644  0.5129687   0.\n",
      "  0.32279663  0.11514821  0.0139769   0.        ]\n",
      "[ 0.1091819   0.          0.          0.          0.57456016  0.16257058\n",
      "  0.          0.88295869  0.          0.          0.        ]\n",
      "[ 0.56447473  0.          0.54137291  0.          0.52462982  0.29946734\n",
      "  0.          0.39699823  0.05913432  0.          0.        ]\n",
      "[ 0.          0.          0.25375584  0.          0.26399823  0.40013663\n",
      "  0.          0.83894486  0.          0.          0.06314683]\n",
      "4 [ 0.          0.          0.          0.          0.25835921  0.85490615\n",
      "  0.          1.0015445   0.16174672  0.          0.10091121]\n",
      "[ 0.95776157  0.          0.          0.          0.08408089  0.          0.\n",
      "  0.54967687  0.27311724  0.          0.        ]\n",
      "[ 0.          0.          0.          0.          0.03267702  0.30765278\n",
      "  0.11005707  1.18790752  0.04338113  0.          0.        ]\n",
      "[ 1.11874249  0.          0.38359227  0.          0.          0.\n",
      "  0.09836527  0.05519718  0.17868167  0.          0.        ]\n",
      "[ 0.48732915  0.          0.58505607  0.14748631  0.45223608  0.35723868\n",
      "  0.          0.          0.22589943  0.          0.00451812]\n",
      "Result samples = 25\n",
      "Classifiers results:\n",
      "[ 0.90530423  0.90125827  0.89368221  0.88551587  0.88156415  0.87989253\n",
      "  0.84684689  0.84556548  0.79457837  0.6936756   0.64340443]\n",
      "Superclassifier score (args = {'algo': 'l2', 'refit_after': False, 'dataset_name': 'heart', 'auc_window': None, 'superclassfier': 'robust'})\n",
      "0.901083002646\n"
     ]
    }
   ],
   "source": [
    "test_supermodel(args={\"algo\":\"l2\", \"auc_window\":None, \"refit_after\":False, \"superclassfier\":\"robust\"}, datasets=DATASETS, n_folds=N_FOLDS, times=TIMES)"
   ]
  },
  {
   "cell_type": "markdown",
   "metadata": {},
   "source": [
    "## l2"
   ]
  },
  {
   "cell_type": "code",
   "execution_count": null,
   "metadata": {
    "collapsed": false
   },
   "outputs": [],
   "source": [
    "test_supermodel(args={\"algo\":\"l2\", \"auc_window\":None, \"refit_after\":False}, datasets=DATASETS, n_folds=N_FOLDS, times=TIMES)"
   ]
  },
  {
   "cell_type": "markdown",
   "metadata": {},
   "source": [
    "## l1"
   ]
  },
  {
   "cell_type": "code",
   "execution_count": null,
   "metadata": {
    "collapsed": false
   },
   "outputs": [],
   "source": [
    "test_supermodel(args={\"algo\":\"l1\", \"auc_window\":None, \"refit_after\":False}, datasets=DATASETS, n_folds=N_FOLDS, times=TIMES)"
   ]
  },
  {
   "cell_type": "markdown",
   "metadata": {},
   "source": [
    "## l1 + refit"
   ]
  },
  {
   "cell_type": "code",
   "execution_count": null,
   "metadata": {
    "collapsed": false,
    "scrolled": true
   },
   "outputs": [],
   "source": [
    "test_supermodel(args={\"algo\":\"l1\", \"auc_window\":None, \"refit_after\":True}, datasets=DATASETS, n_folds=N_FOLDS, times=TIMES)"
   ]
  },
  {
   "cell_type": "markdown",
   "metadata": {},
   "source": [
    "## l1 + auc_window=0.1"
   ]
  },
  {
   "cell_type": "code",
   "execution_count": null,
   "metadata": {
    "collapsed": false
   },
   "outputs": [],
   "source": [
    "test_supermodel(args={\"algo\":\"l1\", \"auc_window\":0.1, \"refit_after\":False}, datasets=DATASETS, n_folds=N_FOLDS, times=TIMES)"
   ]
  },
  {
   "cell_type": "markdown",
   "metadata": {},
   "source": [
    "## l1 + auc_window=0.1 + refit"
   ]
  },
  {
   "cell_type": "code",
   "execution_count": null,
   "metadata": {
    "collapsed": false
   },
   "outputs": [],
   "source": [
    "test_supermodel(args={\"algo\":\"l1\", \"auc_window\":0.1, \"refit_after\":True}, datasets=DATASETS, n_folds=N_FOLDS, times=TIMES)"
   ]
  },
  {
   "cell_type": "markdown",
   "metadata": {},
   "source": [
    "## l1 + positive"
   ]
  },
  {
   "cell_type": "code",
   "execution_count": null,
   "metadata": {
    "collapsed": false
   },
   "outputs": [],
   "source": [
    "test_supermodel(args={\"algo\":\"l1+\", \"auc_window\":None, \"refit_after\":False}, datasets=DATASETS, n_folds=N_FOLDS, times=TIMES)"
   ]
  },
  {
   "cell_type": "markdown",
   "metadata": {},
   "source": [
    "## l1 + positive + refit"
   ]
  },
  {
   "cell_type": "code",
   "execution_count": null,
   "metadata": {
    "collapsed": false,
    "scrolled": true
   },
   "outputs": [],
   "source": [
    "test_supermodel(args={\"algo\":\"l1+\", \"auc_window\":None, \"refit_after\":True}, datasets=DATASETS, n_folds=N_FOLDS, times=TIMES)"
   ]
  },
  {
   "cell_type": "markdown",
   "metadata": {},
   "source": [
    "## l1 + positive + auc_window=0.1"
   ]
  },
  {
   "cell_type": "code",
   "execution_count": null,
   "metadata": {
    "collapsed": false
   },
   "outputs": [],
   "source": [
    "test_supermodel(args={\"algo\":\"l1+\", \"auc_window\":0.1, \"refit_after\":False}, datasets=DATASETS, n_folds=N_FOLDS, times=TIMES)"
   ]
  },
  {
   "cell_type": "markdown",
   "metadata": {},
   "source": [
    "## l1 + positive + auc_window=0.1 + refit"
   ]
  },
  {
   "cell_type": "code",
   "execution_count": null,
   "metadata": {
    "collapsed": false
   },
   "outputs": [],
   "source": [
    "test_supermodel(args={\"algo\":\"l1\", \"auc_window\":0.1, \"refit_after\":True}, datasets=DATASETS, n_folds=N_FOLDS, times=TIMES)"
   ]
  }
 ],
 "metadata": {
  "kernelspec": {
   "display_name": "Python 3",
   "language": "python",
   "name": "python3"
  },
  "language_info": {
   "codemirror_mode": {
    "name": "ipython",
    "version": 3
   },
   "file_extension": ".py",
   "mimetype": "text/x-python",
   "name": "python",
   "nbconvert_exporter": "python",
   "pygments_lexer": "ipython3",
   "version": "3.5.1"
  }
 },
 "nbformat": 4,
 "nbformat_minor": 0
}

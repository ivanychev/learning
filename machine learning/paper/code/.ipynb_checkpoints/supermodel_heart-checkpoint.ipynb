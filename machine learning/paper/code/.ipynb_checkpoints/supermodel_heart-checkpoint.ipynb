{
 "cells": [
  {
   "cell_type": "code",
   "execution_count": 1,
   "metadata": {
    "collapsed": false
   },
   "outputs": [],
   "source": [
    "import utils\n",
    "from supermodel import SVNSupermodel\n",
    "from supermodel import test_supermodel\n",
    "import numpy as np"
   ]
  },
  {
   "cell_type": "code",
   "execution_count": 2,
   "metadata": {
    "collapsed": false
   },
   "outputs": [],
   "source": [
    "DATASETS = [\"heart\"]\n",
    "N_FOLDS = 5\n",
    "TIMES = 40"
   ]
  },
  {
   "cell_type": "markdown",
   "metadata": {},
   "source": [
    "## l2"
   ]
  },
  {
   "cell_type": "code",
   "execution_count": 3,
   "metadata": {
    "collapsed": false
   },
   "outputs": [
    {
     "name": "stdout",
     "output_type": "stream",
     "text": [
      "TESTING HEART\n",
      "0 1 2 3 4 5 6 7 8 9 10 11 12 13 14 15 16 17 18 19 20 21 22 23 24 25 26 27 28 29 30 31 32 33 34 35 36 37 38 39 Result samples = 200\n",
      "Classifiers results:\n",
      "Mean = 0.8845, std = 0.0398\n",
      "Mean = 0.6551, std = 0.0668\n",
      "Mean = 0.8496, std = 0.0448\n",
      "Mean = 0.6904, std = 0.0636\n",
      "Mean = 0.8795, std = 0.0403\n",
      "Mean = 0.8785, std = 0.0409\n",
      "Mean = 0.9022, std = 0.0347\n",
      "Mean = 0.8996, std = 0.0360\n",
      "Mean = 0.8911, std = 0.0366\n",
      "Mean = 0.8521, std = 0.0401\n",
      "Mean = 0.7964, std = 0.0482\n",
      "Max classifier mean:\n",
      "Mean = 0.9022, std = 0.0347\n",
      "Superclassifier score (args = {'auc_window': None, 'refit_after': False, 'dataset_name': 'heart', 'algo': 'l2'})\n",
      "Mean = 0.8944, std = 0.0383\n"
     ]
    }
   ],
   "source": [
    "test_supermodel(args={\"algo\":\"l2\", \"auc_window\":None, \"refit_after\":False}, datasets=DATASETS, n_folds=N_FOLDS, times=TIMES)"
   ]
  },
  {
   "cell_type": "markdown",
   "metadata": {},
   "source": [
    "## l1"
   ]
  },
  {
   "cell_type": "code",
   "execution_count": 4,
   "metadata": {
    "collapsed": false
   },
   "outputs": [
    {
     "name": "stdout",
     "output_type": "stream",
     "text": [
      "TESTING HEART\n",
      "0 1 2 3 4 5 6 7 8 9 10 11 12 13 14 15 16 17 18 19 20 21 22 23 24 25 26 27 28 29 30 31 32 33 34 35 36 37 38 39 Result samples = 200\n",
      "Classifiers results:\n",
      "Mean = 0.8830, std = 0.0434\n",
      "Mean = 0.6546, std = 0.0627\n",
      "Mean = 0.8465, std = 0.0491\n",
      "Mean = 0.6877, std = 0.0634\n",
      "Mean = 0.8791, std = 0.0398\n",
      "Mean = 0.8794, std = 0.0398\n",
      "Mean = 0.9022, std = 0.0344\n",
      "Mean = 0.8997, std = 0.0357\n",
      "Mean = 0.8900, std = 0.0363\n",
      "Mean = 0.8514, std = 0.0426\n",
      "Mean = 0.7956, std = 0.0505\n",
      "Max classifier mean:\n",
      "Mean = 0.9022, std = 0.0344\n",
      "Superclassifier score (args = {'auc_window': None, 'refit_after': False, 'dataset_name': 'heart', 'algo': 'l1'})\n",
      "Mean = 0.8947, std = 0.0355\n"
     ]
    }
   ],
   "source": [
    "test_supermodel(args={\"algo\":\"l1\", \"auc_window\":None, \"refit_after\":False}, datasets=DATASETS, n_folds=N_FOLDS, times=TIMES)"
   ]
  },
  {
   "cell_type": "markdown",
   "metadata": {},
   "source": [
    "## l1 + refit"
   ]
  },
  {
   "cell_type": "code",
   "execution_count": 5,
   "metadata": {
    "collapsed": false,
    "scrolled": true
   },
   "outputs": [
    {
     "name": "stdout",
     "output_type": "stream",
     "text": [
      "TESTING HEART\n",
      "0 1 2 3 4 5 6 7 8 9 10 11 12 13 14 15 16 17 18 19 20 21 22 23 24 25 26 27 28 29 30 31 32 33 34 35 36 37 38 39 Result samples = 200\n",
      "Classifiers results:\n",
      "Mean = 0.9013, std = 0.0362\n",
      "Mean = 0.7069, std = 0.0603\n",
      "Mean = 0.8593, std = 0.0464\n",
      "Mean = 0.7252, std = 0.0615\n",
      "Mean = 0.8966, std = 0.0389\n",
      "Mean = 0.8976, std = 0.0397\n",
      "Mean = 0.9047, std = 0.0362\n",
      "Mean = 0.9037, std = 0.0367\n",
      "Mean = 0.9033, std = 0.0365\n",
      "Mean = 0.8607, std = 0.0443\n",
      "Mean = 0.8005, std = 0.0558\n",
      "Max classifier mean:\n",
      "Mean = 0.9047, std = 0.0362\n",
      "Superclassifier score (args = {'auc_window': None, 'refit_after': True, 'dataset_name': 'heart', 'algo': 'l1'})\n",
      "Mean = 0.8997, std = 0.0384\n"
     ]
    }
   ],
   "source": [
    "test_supermodel(args={\"algo\":\"l1\", \"auc_window\":None, \"refit_after\":True}, datasets=DATASETS, n_folds=N_FOLDS, times=TIMES)"
   ]
  },
  {
   "cell_type": "markdown",
   "metadata": {},
   "source": [
    "## l1 + auc_window=0.05"
   ]
  },
  {
   "cell_type": "code",
   "execution_count": 6,
   "metadata": {
    "collapsed": false
   },
   "outputs": [
    {
     "name": "stdout",
     "output_type": "stream",
     "text": [
      "TESTING HEART\n",
      "0 1 2 3 4 5 6 7 8 9 10 11 12 13 14 15 16 17 18 19 20 21 22 23 24 25 26 27 28 29 30 31 32 33 34 35 36 37 38 39 Result samples = 200\n",
      "Classifiers results:\n",
      "Mean = 0.8847, std = 0.0417\n",
      "Mean = 0.6565, std = 0.0644\n",
      "Mean = 0.8503, std = 0.0453\n",
      "Mean = 0.6975, std = 0.0598\n",
      "Mean = 0.8825, std = 0.0419\n",
      "Mean = 0.8814, std = 0.0431\n",
      "Mean = 0.9017, std = 0.0358\n",
      "Mean = 0.8993, std = 0.0364\n",
      "Mean = 0.8917, std = 0.0385\n",
      "Mean = 0.8517, std = 0.0432\n",
      "Mean = 0.7983, std = 0.0494\n",
      "Max classifier mean:\n",
      "Mean = 0.9017, std = 0.0358\n",
      "Superclassifier score (args = {'auc_window': 0.05, 'refit_after': False, 'dataset_name': 'heart', 'algo': 'l1'})\n",
      "Mean = 0.8992, std = 0.0362\n"
     ]
    }
   ],
   "source": [
    "test_supermodel(args={\"algo\":\"l1\", \"auc_window\":0.05, \"refit_after\":False}, datasets=DATASETS, n_folds=N_FOLDS, times=TIMES)"
   ]
  },
  {
   "cell_type": "markdown",
   "metadata": {},
   "source": [
    "## l1 + auc_window=0.05 + refit"
   ]
  },
  {
   "cell_type": "code",
   "execution_count": 7,
   "metadata": {
    "collapsed": false
   },
   "outputs": [
    {
     "name": "stdout",
     "output_type": "stream",
     "text": [
      "TESTING HEART\n",
      "0 1 2 3 4 5 6 7 8 9 10 11 12 13 14 15 16 17 18 19 20 21 22 23 24 25 26 27 28 29 30 31 32 33 34 35 36 37 38 39 Result samples = 200\n",
      "Classifiers results:\n",
      "Mean = 0.9008, std = 0.0349\n",
      "Mean = 0.7125, std = 0.0561\n",
      "Mean = 0.8606, std = 0.0415\n",
      "Mean = 0.7255, std = 0.0565\n",
      "Mean = 0.8967, std = 0.0373\n",
      "Mean = 0.8974, std = 0.0376\n",
      "Mean = 0.9040, std = 0.0347\n",
      "Mean = 0.9033, std = 0.0356\n",
      "Mean = 0.9025, std = 0.0345\n",
      "Mean = 0.8595, std = 0.0382\n",
      "Mean = 0.7996, std = 0.0486\n",
      "Max classifier mean:\n",
      "Mean = 0.9040, std = 0.0347\n",
      "Superclassifier score (args = {'auc_window': 0.05, 'refit_after': True, 'dataset_name': 'heart', 'algo': 'l1'})\n",
      "Mean = 0.8933, std = 0.0366\n"
     ]
    }
   ],
   "source": [
    "test_supermodel(args={\"algo\":\"l1\", \"auc_window\":0.05, \"refit_after\":True}, datasets=DATASETS, n_folds=N_FOLDS, times=TIMES)"
   ]
  },
  {
   "cell_type": "markdown",
   "metadata": {},
   "source": [
    "## l1 + positive"
   ]
  },
  {
   "cell_type": "code",
   "execution_count": 8,
   "metadata": {
    "collapsed": false
   },
   "outputs": [
    {
     "name": "stdout",
     "output_type": "stream",
     "text": [
      "TESTING HEART\n",
      "0 1 2 3 4 5 6 7 8 9 10 11 12 13 14 15 16 17 18 19 20 21 22 23 24 25 26 27 28 29 30 31 32 33 34 35 36 37 38 39 Result samples = 200\n",
      "Classifiers results:\n",
      "Mean = 0.8878, std = 0.0421\n",
      "Mean = 0.6539, std = 0.0687\n",
      "Mean = 0.8522, std = 0.0462\n",
      "Mean = 0.6927, std = 0.0690\n",
      "Mean = 0.8852, std = 0.0409\n",
      "Mean = 0.8843, std = 0.0420\n",
      "Mean = 0.9030, std = 0.0340\n",
      "Mean = 0.9011, std = 0.0367\n",
      "Mean = 0.8953, std = 0.0385\n",
      "Mean = 0.8558, std = 0.0431\n",
      "Mean = 0.7954, std = 0.0546\n",
      "Max classifier mean:\n",
      "Mean = 0.9030, std = 0.0340\n",
      "Superclassifier score (args = {'auc_window': None, 'refit_after': False, 'dataset_name': 'heart', 'algo': 'l1+'})\n",
      "Mean = 0.8995, std = 0.0365\n"
     ]
    }
   ],
   "source": [
    "test_supermodel(args={\"algo\":\"l1+\", \"auc_window\":None, \"refit_after\":False}, datasets=DATASETS, n_folds=N_FOLDS, times=TIMES)"
   ]
  },
  {
   "cell_type": "markdown",
   "metadata": {},
   "source": [
    "## l1 + positive + refit"
   ]
  },
  {
   "cell_type": "code",
   "execution_count": 9,
   "metadata": {
    "collapsed": false,
    "scrolled": true
   },
   "outputs": [
    {
     "name": "stdout",
     "output_type": "stream",
     "text": [
      "TESTING HEART\n",
      "0 1 2 3 4 5 6 7 8 9 10 11 12 13 14 15 16 17 18 19 20 21 22 23 24 25 26 27 28 29 30 31 32 33 34 35 36 37 38 39 Result samples = 200\n",
      "Classifiers results:\n",
      "Mean = 0.9027, std = 0.0321\n",
      "Mean = 0.7070, std = 0.0611\n",
      "Mean = 0.8613, std = 0.0375\n",
      "Mean = 0.7257, std = 0.0689\n",
      "Mean = 0.8980, std = 0.0334\n",
      "Mean = 0.8982, std = 0.0340\n",
      "Mean = 0.9053, std = 0.0331\n",
      "Mean = 0.9047, std = 0.0328\n",
      "Mean = 0.9033, std = 0.0325\n",
      "Mean = 0.8634, std = 0.0347\n",
      "Mean = 0.8000, std = 0.0491\n",
      "Max classifier mean:\n",
      "Mean = 0.9053, std = 0.0331\n",
      "Superclassifier score (args = {'auc_window': None, 'refit_after': True, 'dataset_name': 'heart', 'algo': 'l1+'})\n",
      "Mean = 0.9045, std = 0.0322\n"
     ]
    }
   ],
   "source": [
    "test_supermodel(args={\"algo\":\"l1+\", \"auc_window\":None, \"refit_after\":True}, datasets=DATASETS, n_folds=N_FOLDS, times=TIMES)"
   ]
  },
  {
   "cell_type": "markdown",
   "metadata": {},
   "source": [
    "## l1 + positive + auc_window=0.05"
   ]
  },
  {
   "cell_type": "code",
   "execution_count": 10,
   "metadata": {
    "collapsed": false
   },
   "outputs": [
    {
     "name": "stdout",
     "output_type": "stream",
     "text": [
      "TESTING HEART\n",
      "0 1 2 3 4 5 6 7 8 9 10 11 12 13 14 15 16 17 18 19 20 21 22 23 24 25 26 27 28 29 30 31 32 33 34 35 36 37 38 39 Result samples = 200\n",
      "Classifiers results:\n",
      "Mean = 0.8852, std = 0.0432\n",
      "Mean = 0.6556, std = 0.0720\n",
      "Mean = 0.8529, std = 0.0475\n",
      "Mean = 0.6917, std = 0.0735\n",
      "Mean = 0.8819, std = 0.0418\n",
      "Mean = 0.8808, std = 0.0422\n",
      "Mean = 0.9017, std = 0.0371\n",
      "Mean = 0.8997, std = 0.0367\n",
      "Mean = 0.8931, std = 0.0395\n",
      "Mean = 0.8548, std = 0.0449\n",
      "Mean = 0.7951, std = 0.0577\n",
      "Max classifier mean:\n",
      "Mean = 0.9017, std = 0.0371\n",
      "Superclassifier score (args = {'auc_window': 0.05, 'refit_after': False, 'dataset_name': 'heart', 'algo': 'l1+'})\n",
      "Mean = 0.8981, std = 0.0372\n"
     ]
    }
   ],
   "source": [
    "test_supermodel(args={\"algo\":\"l1+\", \"auc_window\":0.05, \"refit_after\":False}, datasets=DATASETS, n_folds=N_FOLDS, times=TIMES)"
   ]
  },
  {
   "cell_type": "markdown",
   "metadata": {},
   "source": [
    "## l1 + positive + auc_window=0.05 + refit"
   ]
  },
  {
   "cell_type": "code",
   "execution_count": 11,
   "metadata": {
    "collapsed": false
   },
   "outputs": [
    {
     "name": "stdout",
     "output_type": "stream",
     "text": [
      "TESTING HEART\n",
      "0 1 2 3 4 5 6 7 8 9 10 11 12 13 14 15 16 17 18 19 20 21 22 23 24 25 26 27 28 29 30 31 32 33 34 35 36 37 38 39 Result samples = 200\n",
      "Classifiers results:\n",
      "Mean = 0.9011, std = 0.0350\n",
      "Mean = 0.7043, std = 0.0675\n",
      "Mean = 0.8614, std = 0.0375\n",
      "Mean = 0.7256, std = 0.0610\n",
      "Mean = 0.8964, std = 0.0381\n",
      "Mean = 0.8975, std = 0.0387\n",
      "Mean = 0.9043, std = 0.0347\n",
      "Mean = 0.9036, std = 0.0349\n",
      "Mean = 0.9024, std = 0.0361\n",
      "Mean = 0.8623, std = 0.0403\n",
      "Mean = 0.7979, std = 0.0489\n",
      "Max classifier mean:\n",
      "Mean = 0.9043, std = 0.0347\n",
      "Superclassifier score (args = {'auc_window': 0.05, 'refit_after': True, 'dataset_name': 'heart', 'algo': 'l1'})\n",
      "Mean = 0.8937, std = 0.0372\n"
     ]
    }
   ],
   "source": [
    "test_supermodel(args={\"algo\":\"l1\", \"auc_window\":0.05, \"refit_after\":True}, datasets=DATASETS, n_folds=N_FOLDS, times=TIMES)"
   ]
  },
  {
   "cell_type": "markdown",
   "metadata": {},
   "source": [
    "# Using Robust Logistic Regression"
   ]
  },
  {
   "cell_type": "markdown",
   "metadata": {},
   "source": [
    "## robust + l2"
   ]
  },
  {
   "cell_type": "code",
   "execution_count": 12,
   "metadata": {
    "collapsed": false
   },
   "outputs": [
    {
     "name": "stdout",
     "output_type": "stream",
     "text": [
      "TESTING HEART\n",
      "0 1 2 3 4 5 6 7 8 9 10 11 12 13 14 15 16 17 18 19 20 21 22 23 24 25 26 27 28 29 30 31 32 33 34 35 36 37 38 39 Result samples = 200\n",
      "Classifiers results:\n",
      "Mean = 0.8846, std = 0.0405\n",
      "Mean = 0.6510, std = 0.0738\n",
      "Mean = 0.8540, std = 0.0442\n",
      "Mean = 0.6916, std = 0.0682\n",
      "Mean = 0.8807, std = 0.0399\n",
      "Mean = 0.8801, std = 0.0419\n",
      "Mean = 0.9026, std = 0.0362\n",
      "Mean = 0.8996, std = 0.0360\n",
      "Mean = 0.8919, std = 0.0380\n",
      "Mean = 0.8547, std = 0.0442\n",
      "Mean = 0.8011, std = 0.0540\n",
      "Max classifier mean:\n",
      "Mean = 0.9026, std = 0.0362\n",
      "Superclassifier score (args = {'auc_window': None, 'refit_after': False, 'superclassifier': 'robust', 'dataset_name': 'heart', 'algo': 'l2'})\n",
      "Mean = 0.8979, std = 0.0365\n"
     ]
    }
   ],
   "source": [
    "test_supermodel(args={\"algo\":\"l2\", \"auc_window\":None, \"refit_after\":False, \"superclassifier\":\"robust\"}, datasets=DATASETS, n_folds=N_FOLDS, times=TIMES)"
   ]
  },
  {
   "cell_type": "markdown",
   "metadata": {},
   "source": [
    "## robust + l1"
   ]
  },
  {
   "cell_type": "code",
   "execution_count": 13,
   "metadata": {
    "collapsed": false
   },
   "outputs": [
    {
     "name": "stdout",
     "output_type": "stream",
     "text": [
      "TESTING HEART\n",
      "0 1 2 3 4 5 6 7 8 9 10 11 12 13 14 15 16 17 18 19 20 21 22 23 24 25 26 27 28 29 30 31 32 33 34 35 36 37 38 39 Result samples = 200\n",
      "Classifiers results:\n",
      "Mean = 0.8813, std = 0.0422\n",
      "Mean = 0.6479, std = 0.0724\n",
      "Mean = 0.8494, std = 0.0436\n",
      "Mean = 0.6874, std = 0.0680\n",
      "Mean = 0.8786, std = 0.0406\n",
      "Mean = 0.8776, std = 0.0413\n",
      "Mean = 0.9015, std = 0.0340\n",
      "Mean = 0.8994, std = 0.0358\n",
      "Mean = 0.8909, std = 0.0388\n",
      "Mean = 0.8507, std = 0.0440\n",
      "Mean = 0.7977, std = 0.0525\n",
      "Max classifier mean:\n",
      "Mean = 0.9015, std = 0.0340\n",
      "Superclassifier score (args = {'auc_window': None, 'refit_after': False, 'superclassifier': 'robust', 'dataset_name': 'heart', 'algo': 'l1'})\n",
      "Mean = 0.8967, std = 0.0353\n"
     ]
    }
   ],
   "source": [
    "test_supermodel(args={\"algo\":\"l1\", \"auc_window\":None, \"refit_after\":False, \"superclassifier\":\"robust\"}, datasets=DATASETS, n_folds=N_FOLDS, times=TIMES)"
   ]
  },
  {
   "cell_type": "markdown",
   "metadata": {},
   "source": [
    "## robust + l1 + auc_window=0.05"
   ]
  },
  {
   "cell_type": "code",
   "execution_count": 14,
   "metadata": {
    "collapsed": false
   },
   "outputs": [
    {
     "name": "stdout",
     "output_type": "stream",
     "text": [
      "TESTING HEART\n",
      "0 1 2 3 4 5 6 7 8 9 10 11 12 13 14 15 16 17 18 19 20 21 22 23 24 25 26 27 28 29 30 31 32 33 34 35 36 37 38 39 Result samples = 200\n",
      "Classifiers results:\n",
      "Mean = 0.8860, std = 0.0377\n",
      "Mean = 0.6545, std = 0.0752\n",
      "Mean = 0.8482, std = 0.0475\n",
      "Mean = 0.6962, std = 0.0659\n",
      "Mean = 0.8855, std = 0.0392\n",
      "Mean = 0.8843, std = 0.0379\n",
      "Mean = 0.9043, std = 0.0323\n",
      "Mean = 0.9023, std = 0.0341\n",
      "Mean = 0.8939, std = 0.0349\n",
      "Mean = 0.8554, std = 0.0459\n",
      "Mean = 0.7980, std = 0.0532\n",
      "Max classifier mean:\n",
      "Mean = 0.9043, std = 0.0323\n",
      "Superclassifier score (args = {'auc_window': 0.05, 'refit_after': False, 'superclassifier': 'robust', 'dataset_name': 'heart', 'algo': 'l1'})\n",
      "Mean = 0.8999, std = 0.0332\n"
     ]
    }
   ],
   "source": [
    "test_supermodel(args={\"algo\":\"l1\", \"auc_window\":0.05, \"refit_after\":False, \"superclassifier\":\"robust\"}, datasets=DATASETS, n_folds=N_FOLDS, times=TIMES)"
   ]
  },
  {
   "cell_type": "markdown",
   "metadata": {},
   "source": [
    "## robust + l1 + refit"
   ]
  },
  {
   "cell_type": "code",
   "execution_count": 15,
   "metadata": {
    "collapsed": false
   },
   "outputs": [
    {
     "name": "stdout",
     "output_type": "stream",
     "text": [
      "TESTING HEART\n",
      "0 1 2 3 4 5 6 7 8 9 10 11 12 13 14 15 16 17 18 19 20 21 22 23 24 25 26 27 28 29 30 31 32 33 34 35 36 37 38 39 Result samples = 200\n",
      "Classifiers results:\n",
      "Mean = 0.9025, std = 0.0402\n",
      "Mean = 0.7087, std = 0.0589\n",
      "Mean = 0.8582, std = 0.0428\n",
      "Mean = 0.7258, std = 0.0584\n",
      "Mean = 0.8967, std = 0.0421\n",
      "Mean = 0.8970, std = 0.0430\n",
      "Mean = 0.9039, std = 0.0399\n",
      "Mean = 0.9041, std = 0.0405\n",
      "Mean = 0.9029, std = 0.0418\n",
      "Mean = 0.8599, std = 0.0426\n",
      "Mean = 0.7989, std = 0.0503\n",
      "Max classifier mean:\n",
      "Mean = 0.9041, std = 0.0405\n",
      "Superclassifier score (args = {'auc_window': None, 'refit_after': True, 'superclassifier': 'robust', 'dataset_name': 'heart', 'algo': 'l1'})\n",
      "Mean = 0.9027, std = 0.0416\n"
     ]
    }
   ],
   "source": [
    "test_supermodel(args={\"algo\":\"l1\", \"auc_window\":None, \"refit_after\":True, \"superclassifier\":\"robust\"}, datasets=DATASETS, n_folds=N_FOLDS, times=TIMES)"
   ]
  },
  {
   "cell_type": "markdown",
   "metadata": {},
   "source": [
    "## robust + l1 + auc_window=0.05 + refit"
   ]
  },
  {
   "cell_type": "code",
   "execution_count": 16,
   "metadata": {
    "collapsed": false
   },
   "outputs": [
    {
     "name": "stdout",
     "output_type": "stream",
     "text": [
      "TESTING HEART\n",
      "0 1 2 3 4 5 6 7 8 9 10 11 12 13 14 15 16 17 18 19 20 21 22 23 24 25 26 27 28 29 30 31 32 33 34 35 36 37 38 39 Result samples = 200\n",
      "Classifiers results:\n",
      "Mean = 0.9027, std = 0.0323\n",
      "Mean = 0.7053, std = 0.0684\n",
      "Mean = 0.8584, std = 0.0409\n",
      "Mean = 0.7252, std = 0.0655\n",
      "Mean = 0.8967, std = 0.0354\n",
      "Mean = 0.8970, std = 0.0354\n",
      "Mean = 0.9037, std = 0.0326\n",
      "Mean = 0.9034, std = 0.0321\n",
      "Mean = 0.9026, std = 0.0320\n",
      "Mean = 0.8594, std = 0.0408\n",
      "Mean = 0.7994, std = 0.0495\n",
      "Max classifier mean:\n",
      "Mean = 0.9037, std = 0.0326\n",
      "Superclassifier score (args = {'auc_window': 0.05, 'refit_after': True, 'superclassifier': 'robust', 'dataset_name': 'heart', 'algo': 'l1'})\n",
      "Mean = 0.8965, std = 0.0326\n"
     ]
    }
   ],
   "source": [
    "test_supermodel(args={\"algo\":\"l1\", \"auc_window\":0.05, \"refit_after\":True, \"superclassifier\":\"robust\"}, datasets=DATASETS, n_folds=N_FOLDS, times=TIMES)"
   ]
  }
 ],
 "metadata": {
  "kernelspec": {
   "display_name": "Python 3",
   "language": "python",
   "name": "python3"
  },
  "language_info": {
   "codemirror_mode": {
    "name": "ipython",
    "version": 3
   },
   "file_extension": ".py",
   "mimetype": "text/x-python",
   "name": "python",
   "nbconvert_exporter": "python",
   "pygments_lexer": "ipython3",
   "version": "3.5.1"
  }
 },
 "nbformat": 4,
 "nbformat_minor": 0
}

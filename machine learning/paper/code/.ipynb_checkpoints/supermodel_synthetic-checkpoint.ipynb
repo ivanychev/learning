{
 "cells": [
  {
   "cell_type": "code",
   "execution_count": 1,
   "metadata": {
    "collapsed": false
   },
   "outputs": [],
   "source": [
    "import utils\n",
    "from supermodel import SVNSupermodel\n",
    "from supermodel import test_supermodel\n",
    "import numpy as np"
   ]
  },
  {
   "cell_type": "code",
   "execution_count": null,
   "metadata": {
    "collapsed": false
   },
   "outputs": [],
   "source": [
    "SHAPE = (10000, 50)\n",
    "X = np.random.random(SHAPE)"
   ]
  },
  {
   "cell_type": "markdown",
   "metadata": {},
   "source": [
    "## l2"
   ]
  },
  {
   "cell_type": "code",
   "execution_count": null,
   "metadata": {
    "collapsed": false
   },
   "outputs": [
    {
     "name": "stdout",
     "output_type": "stream",
     "text": [
      "TESTING HEART\n",
      "0 1 2 3 4 5 6 7 8 9 10 11 12 13 14 15 16 17 18 19 20 21 22 23 24 25 26 27 28 29 30 31 32 33 34 35 "
     ]
    }
   ],
   "source": [
    "test_supermodel(args={\"algo\":\"l2\", \"auc_window\":None, \"refit_after\":False}, datasets=DATASETS, n_folds=N_FOLDS, times=TIMES)"
   ]
  },
  {
   "cell_type": "markdown",
   "metadata": {},
   "source": [
    "## l1"
   ]
  },
  {
   "cell_type": "code",
   "execution_count": null,
   "metadata": {
    "collapsed": false
   },
   "outputs": [],
   "source": [
    "test_supermodel(args={\"algo\":\"l1\", \"auc_window\":None, \"refit_after\":False}, datasets=DATASETS, n_folds=N_FOLDS, times=TIMES)"
   ]
  },
  {
   "cell_type": "markdown",
   "metadata": {},
   "source": [
    "## l1 + refit"
   ]
  },
  {
   "cell_type": "code",
   "execution_count": null,
   "metadata": {
    "collapsed": false,
    "scrolled": true
   },
   "outputs": [],
   "source": [
    "test_supermodel(args={\"algo\":\"l1\", \"auc_window\":None, \"refit_after\":True}, datasets=DATASETS, n_folds=N_FOLDS, times=TIMES)"
   ]
  },
  {
   "cell_type": "markdown",
   "metadata": {},
   "source": [
    "## l1 + auc_window=0.05"
   ]
  },
  {
   "cell_type": "code",
   "execution_count": null,
   "metadata": {
    "collapsed": false
   },
   "outputs": [],
   "source": [
    "test_supermodel(args={\"algo\":\"l1\", \"auc_window\":0.05, \"refit_after\":False}, datasets=DATASETS, n_folds=N_FOLDS, times=TIMES)"
   ]
  },
  {
   "cell_type": "markdown",
   "metadata": {},
   "source": [
    "## l1 + auc_window=0.05 + refit"
   ]
  },
  {
   "cell_type": "code",
   "execution_count": null,
   "metadata": {
    "collapsed": false
   },
   "outputs": [],
   "source": [
    "test_supermodel(args={\"algo\":\"l1\", \"auc_window\":0.05, \"refit_after\":True}, datasets=DATASETS, n_folds=N_FOLDS, times=TIMES)"
   ]
  },
  {
   "cell_type": "markdown",
   "metadata": {},
   "source": [
    "## l1 + positive"
   ]
  },
  {
   "cell_type": "code",
   "execution_count": null,
   "metadata": {
    "collapsed": false
   },
   "outputs": [],
   "source": [
    "test_supermodel(args={\"algo\":\"l1+\", \"auc_window\":None, \"refit_after\":False}, datasets=DATASETS, n_folds=N_FOLDS, times=TIMES)"
   ]
  },
  {
   "cell_type": "markdown",
   "metadata": {},
   "source": [
    "## l1 + positive + refit"
   ]
  },
  {
   "cell_type": "code",
   "execution_count": null,
   "metadata": {
    "collapsed": false,
    "scrolled": true
   },
   "outputs": [],
   "source": [
    "test_supermodel(args={\"algo\":\"l1+\", \"auc_window\":None, \"refit_after\":True}, datasets=DATASETS, n_folds=N_FOLDS, times=TIMES)"
   ]
  },
  {
   "cell_type": "markdown",
   "metadata": {},
   "source": [
    "## l1 + positive + auc_window=0.05"
   ]
  },
  {
   "cell_type": "code",
   "execution_count": null,
   "metadata": {
    "collapsed": false
   },
   "outputs": [],
   "source": [
    "test_supermodel(args={\"algo\":\"l1+\", \"auc_window\":0.05, \"refit_after\":False}, datasets=DATASETS, n_folds=N_FOLDS, times=TIMES)"
   ]
  },
  {
   "cell_type": "markdown",
   "metadata": {},
   "source": [
    "## l1 + positive + auc_window=0.05 + refit"
   ]
  },
  {
   "cell_type": "code",
   "execution_count": null,
   "metadata": {
    "collapsed": false
   },
   "outputs": [],
   "source": [
    "test_supermodel(args={\"algo\":\"l1\", \"auc_window\":0.05, \"refit_after\":True}, datasets=DATASETS, n_folds=N_FOLDS, times=TIMES)"
   ]
  },
  {
   "cell_type": "markdown",
   "metadata": {},
   "source": [
    "# Using Robust Logistic Regression"
   ]
  },
  {
   "cell_type": "markdown",
   "metadata": {},
   "source": [
    "## robust + l2"
   ]
  },
  {
   "cell_type": "code",
   "execution_count": null,
   "metadata": {
    "collapsed": false
   },
   "outputs": [],
   "source": [
    "test_supermodel(args={\"algo\":\"l2\", \"auc_window\":None, \"refit_after\":False, \"superclassifier\":\"robust\"}, datasets=DATASETS, n_folds=N_FOLDS, times=TIMES)"
   ]
  },
  {
   "cell_type": "markdown",
   "metadata": {},
   "source": [
    "## robust + l1"
   ]
  },
  {
   "cell_type": "code",
   "execution_count": null,
   "metadata": {
    "collapsed": false
   },
   "outputs": [],
   "source": [
    "test_supermodel(args={\"algo\":\"l1\", \"auc_window\":None, \"refit_after\":False, \"superclassifier\":\"robust\"}, datasets=DATASETS, n_folds=N_FOLDS, times=TIMES)"
   ]
  },
  {
   "cell_type": "markdown",
   "metadata": {},
   "source": [
    "## robust + l1 + auc_window=0.05"
   ]
  },
  {
   "cell_type": "code",
   "execution_count": null,
   "metadata": {
    "collapsed": false
   },
   "outputs": [],
   "source": [
    "test_supermodel(args={\"algo\":\"l1\", \"auc_window\":0.05, \"refit_after\":False, \"superclassifier\":\"robust\"}, datasets=DATASETS, n_folds=N_FOLDS, times=TIMES)"
   ]
  },
  {
   "cell_type": "markdown",
   "metadata": {},
   "source": [
    "## robust + l1 + refit"
   ]
  },
  {
   "cell_type": "code",
   "execution_count": null,
   "metadata": {
    "collapsed": false
   },
   "outputs": [],
   "source": [
    "test_supermodel(args={\"algo\":\"l1\", \"auc_window\":None, \"refit_after\":True, \"superclassifier\":\"robust\"}, datasets=DATASETS, n_folds=N_FOLDS, times=TIMES)"
   ]
  },
  {
   "cell_type": "markdown",
   "metadata": {},
   "source": [
    "## robust + l1 + auc_window=0.05 + refit"
   ]
  },
  {
   "cell_type": "code",
   "execution_count": null,
   "metadata": {
    "collapsed": false
   },
   "outputs": [],
   "source": [
    "test_supermodel(args={\"algo\":\"l1\", \"auc_window\":0.05, \"refit_after\":True, \"superclassifier\":\"robust\"}, datasets=DATASETS, n_folds=N_FOLDS, times=TIMES)"
   ]
  }
 ],
 "metadata": {
  "kernelspec": {
   "display_name": "Python 3",
   "language": "python",
   "name": "python3"
  },
  "language_info": {
   "codemirror_mode": {
    "name": "ipython",
    "version": 3
   },
   "file_extension": ".py",
   "mimetype": "text/x-python",
   "name": "python",
   "nbconvert_exporter": "python",
   "pygments_lexer": "ipython3",
   "version": "3.5.1"
  }
 },
 "nbformat": 4,
 "nbformat_minor": 0
}

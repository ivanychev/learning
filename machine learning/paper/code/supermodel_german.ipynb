{
 "cells": [
  {
   "cell_type": "code",
   "execution_count": 1,
   "metadata": {
    "collapsed": false
   },
   "outputs": [],
   "source": [
    "import utils\n",
    "from supermodel import SVNSupermodel\n",
    "from supermodel import test_supermodel\n",
    "import numpy as np"
   ]
  },
  {
   "cell_type": "code",
   "execution_count": 2,
   "metadata": {
    "collapsed": false
   },
   "outputs": [],
   "source": [
    "DATASETS = [\"german\"]\n",
    "N_FOLDS = 5\n",
    "TIMES = 40"
   ]
  },
  {
   "cell_type": "markdown",
   "metadata": {},
   "source": [
    "## l2"
   ]
  },
  {
   "cell_type": "code",
   "execution_count": 3,
   "metadata": {
    "collapsed": false
   },
   "outputs": [
    {
     "name": "stderr",
     "output_type": "stream",
     "text": [
      "/Library/Frameworks/Python.framework/Versions/3.5/lib/python3.5/site-packages/sklearn/utils/validation.py:420: DataConversionWarning: Data with input dtype int64 was converted to float64 by the scale function.\n",
      "  warnings.warn(msg, DataConversionWarning)\n"
     ]
    },
    {
     "name": "stdout",
     "output_type": "stream",
     "text": [
      "TESTING GERMAN\n",
      "0 1 2 3 4 5 6 7 8 9 10 11 12 13 14 15 16 17 18 19 20 21 22 23 24 25 26 27 28 29 30 31 32 33 34 35 36 37 38 39 Result samples = 200\n",
      "Classifiers results:\n",
      "Mean = 0.7740, std = 0.0295\n",
      "Mean = 0.6192, std = 0.0404\n",
      "Mean = 0.7099, std = 0.0342\n",
      "Mean = 0.6634, std = 0.0371\n",
      "Mean = 0.7524, std = 0.0298\n",
      "Mean = 0.7518, std = 0.0300\n",
      "Mean = 0.7794, std = 0.0286\n",
      "Mean = 0.7822, std = 0.0278\n",
      "Mean = 0.7731, std = 0.0273\n",
      "Mean = 0.7142, std = 0.0324\n",
      "Mean = 0.6465, std = 0.0358\n",
      "Max classifier mean:\n",
      "Mean = 0.7822, std = 0.0278\n",
      "Superclassifier score (args = {'dataset_name': 'german', 'auc_window': None, 'algo': 'l2', 'refit_after': False})\n",
      "Mean = 0.7797, std = 0.0280\n"
     ]
    }
   ],
   "source": [
    "test_supermodel(args={\"algo\":\"l2\", \"auc_window\":None, \"refit_after\":False}, datasets=DATASETS, n_folds=N_FOLDS, times=TIMES)"
   ]
  },
  {
   "cell_type": "markdown",
   "metadata": {},
   "source": [
    "## l1"
   ]
  },
  {
   "cell_type": "code",
   "execution_count": 4,
   "metadata": {
    "collapsed": false
   },
   "outputs": [
    {
     "name": "stdout",
     "output_type": "stream",
     "text": [
      "TESTING GERMAN\n",
      "0 "
     ]
    },
    {
     "name": "stderr",
     "output_type": "stream",
     "text": [
      "/Library/Frameworks/Python.framework/Versions/3.5/lib/python3.5/site-packages/sklearn/utils/validation.py:420: DataConversionWarning: Data with input dtype int64 was converted to float64 by the scale function.\n",
      "  warnings.warn(msg, DataConversionWarning)\n"
     ]
    },
    {
     "name": "stdout",
     "output_type": "stream",
     "text": [
      "1 2 3 4 5 6 7 8 9 10 11 12 13 14 15 16 17 18 19 20 21 22 23 24 25 26 27 28 29 30 31 32 33 34 35 36 37 38 39 Result samples = 200\n",
      "Classifiers results:\n",
      "Mean = 0.7717, std = 0.0341\n",
      "Mean = 0.6136, std = 0.0412\n",
      "Mean = 0.7022, std = 0.0400\n",
      "Mean = 0.6558, std = 0.0377\n",
      "Mean = 0.7458, std = 0.0325\n",
      "Mean = 0.7461, std = 0.0314\n",
      "Mean = 0.7778, std = 0.0315\n",
      "Mean = 0.7801, std = 0.0308\n",
      "Mean = 0.7697, std = 0.0308\n",
      "Mean = 0.7044, std = 0.0354\n",
      "Mean = 0.6374, std = 0.0404\n",
      "Max classifier mean:\n",
      "Mean = 0.7801, std = 0.0308\n",
      "Superclassifier score (args = {'dataset_name': 'german', 'auc_window': None, 'algo': 'l1', 'refit_after': False})\n",
      "Mean = 0.7771, std = 0.0289\n"
     ]
    }
   ],
   "source": [
    "test_supermodel(args={\"algo\":\"l1\", \"auc_window\":None, \"refit_after\":False}, datasets=DATASETS, n_folds=N_FOLDS, times=TIMES)"
   ]
  },
  {
   "cell_type": "markdown",
   "metadata": {},
   "source": [
    "## l1 + refit"
   ]
  },
  {
   "cell_type": "code",
   "execution_count": 5,
   "metadata": {
    "collapsed": false,
    "scrolled": true
   },
   "outputs": [
    {
     "name": "stdout",
     "output_type": "stream",
     "text": [
      "TESTING GERMAN\n",
      "0 "
     ]
    },
    {
     "name": "stderr",
     "output_type": "stream",
     "text": [
      "/Library/Frameworks/Python.framework/Versions/3.5/lib/python3.5/site-packages/sklearn/utils/validation.py:420: DataConversionWarning: Data with input dtype int64 was converted to float64 by the scale function.\n",
      "  warnings.warn(msg, DataConversionWarning)\n"
     ]
    },
    {
     "name": "stdout",
     "output_type": "stream",
     "text": [
      "1 2 3 4 5 6 7 8 9 10 11 12 13 14 15 16 "
     ]
    },
    {
     "name": "stderr",
     "output_type": "stream",
     "text": [
      "/Library/Frameworks/Python.framework/Versions/3.5/lib/python3.5/site-packages/sklearn/svm/base.py:224: ConvergenceWarning: Solver terminated early (max_iter=1000000).  Consider pre-processing your data with StandardScaler or MinMaxScaler.\n",
      "  % self.max_iter, ConvergenceWarning)\n"
     ]
    },
    {
     "name": "stdout",
     "output_type": "stream",
     "text": [
      "17 18 19 20 21 22 23 24 25 26 27 28 29 30 31 32 33 34 35 36 37 38 39 Result samples = 200\n",
      "Classifiers results:\n",
      "Mean = 0.7903, std = 0.0337\n",
      "Mean = 0.6532, std = 0.0417\n",
      "Mean = 0.7205, std = 0.0349\n",
      "Mean = 0.6885, std = 0.0353\n",
      "Mean = 0.7727, std = 0.0327\n",
      "Mean = 0.7715, std = 0.0336\n",
      "Mean = 0.7905, std = 0.0348\n",
      "Mean = 0.7931, std = 0.0339\n",
      "Mean = 0.7880, std = 0.0335\n",
      "Mean = 0.7320, std = 0.0352\n",
      "Mean = 0.6628, std = 0.0360\n",
      "Max classifier mean:\n",
      "Mean = 0.7931, std = 0.0339\n",
      "Superclassifier score (args = {'dataset_name': 'german', 'auc_window': None, 'algo': 'l1', 'refit_after': True})\n",
      "Mean = 0.7896, std = 0.0358\n"
     ]
    }
   ],
   "source": [
    "test_supermodel(args={\"algo\":\"l1\", \"auc_window\":None, \"refit_after\":True}, datasets=DATASETS, n_folds=N_FOLDS, times=TIMES)"
   ]
  },
  {
   "cell_type": "markdown",
   "metadata": {},
   "source": [
    "## l1 + auc_window=0.05"
   ]
  },
  {
   "cell_type": "code",
   "execution_count": 6,
   "metadata": {
    "collapsed": false
   },
   "outputs": [
    {
     "name": "stdout",
     "output_type": "stream",
     "text": [
      "TESTING GERMAN\n",
      "0 "
     ]
    },
    {
     "name": "stderr",
     "output_type": "stream",
     "text": [
      "/Library/Frameworks/Python.framework/Versions/3.5/lib/python3.5/site-packages/sklearn/utils/validation.py:420: DataConversionWarning: Data with input dtype int64 was converted to float64 by the scale function.\n",
      "  warnings.warn(msg, DataConversionWarning)\n"
     ]
    },
    {
     "name": "stdout",
     "output_type": "stream",
     "text": [
      "1 2 3 4 5 6 7 8 9 10 11 12 13 14 15 16 17 18 19 20 21 22 23 24 25 26 27 28 29 30 31 32 33 34 35 36 37 38 39 Result samples = 200\n",
      "Classifiers results:\n",
      "Mean = 0.7725, std = 0.0325\n",
      "Mean = 0.6175, std = 0.0456\n",
      "Mean = 0.7074, std = 0.0420\n",
      "Mean = 0.6613, std = 0.0412\n",
      "Mean = 0.7515, std = 0.0337\n",
      "Mean = 0.7509, std = 0.0350\n",
      "Mean = 0.7775, std = 0.0309\n",
      "Mean = 0.7806, std = 0.0305\n",
      "Mean = 0.7719, std = 0.0319\n",
      "Mean = 0.7112, std = 0.0367\n",
      "Mean = 0.6463, std = 0.0426\n",
      "Max classifier mean:\n",
      "Mean = 0.7806, std = 0.0305\n",
      "Superclassifier score (args = {'dataset_name': 'german', 'auc_window': 0.05, 'algo': 'l1', 'refit_after': False})\n",
      "Mean = 0.7824, std = 0.0319\n"
     ]
    }
   ],
   "source": [
    "test_supermodel(args={\"algo\":\"l1\", \"auc_window\":0.05, \"refit_after\":False}, datasets=DATASETS, n_folds=N_FOLDS, times=TIMES)"
   ]
  },
  {
   "cell_type": "markdown",
   "metadata": {},
   "source": [
    "## l1 + auc_window=0.05 + refit"
   ]
  },
  {
   "cell_type": "code",
   "execution_count": 7,
   "metadata": {
    "collapsed": false
   },
   "outputs": [
    {
     "name": "stdout",
     "output_type": "stream",
     "text": [
      "TESTING GERMAN\n",
      "0 "
     ]
    },
    {
     "name": "stderr",
     "output_type": "stream",
     "text": [
      "/Library/Frameworks/Python.framework/Versions/3.5/lib/python3.5/site-packages/sklearn/utils/validation.py:420: DataConversionWarning: Data with input dtype int64 was converted to float64 by the scale function.\n",
      "  warnings.warn(msg, DataConversionWarning)\n"
     ]
    },
    {
     "name": "stdout",
     "output_type": "stream",
     "text": [
      "1 2 3 4 5 6 7 8 9 10 11 12 13 14 15 16 17 18 19 20 21 22 23 24 25 26 27 28 29 30 31 32 33 34 35 36 37 38 39 Result samples = 200\n",
      "Classifiers results:\n",
      "Mean = 0.7919, std = 0.0295\n",
      "Mean = 0.6526, std = 0.0377\n",
      "Mean = 0.7203, std = 0.0345\n",
      "Mean = 0.6896, std = 0.0348\n",
      "Mean = 0.7697, std = 0.0282\n",
      "Mean = 0.7676, std = 0.0285\n",
      "Mean = 0.7923, std = 0.0293\n",
      "Mean = 0.7945, std = 0.0293\n",
      "Mean = 0.7877, std = 0.0294\n",
      "Mean = 0.7312, std = 0.0323\n",
      "Mean = 0.6626, std = 0.0371\n",
      "Max classifier mean:\n",
      "Mean = 0.7945, std = 0.0293\n",
      "Superclassifier score (args = {'dataset_name': 'german', 'auc_window': 0.05, 'algo': 'l1', 'refit_after': True})\n",
      "Mean = 0.7643, std = 0.0296\n"
     ]
    }
   ],
   "source": [
    "test_supermodel(args={\"algo\":\"l1\", \"auc_window\":0.05, \"refit_after\":True}, datasets=DATASETS, n_folds=N_FOLDS, times=TIMES)"
   ]
  },
  {
   "cell_type": "markdown",
   "metadata": {},
   "source": [
    "## l1 + positive"
   ]
  },
  {
   "cell_type": "code",
   "execution_count": 8,
   "metadata": {
    "collapsed": false
   },
   "outputs": [
    {
     "name": "stdout",
     "output_type": "stream",
     "text": [
      "TESTING GERMAN\n",
      "0 "
     ]
    },
    {
     "name": "stderr",
     "output_type": "stream",
     "text": [
      "/Library/Frameworks/Python.framework/Versions/3.5/lib/python3.5/site-packages/sklearn/utils/validation.py:420: DataConversionWarning: Data with input dtype int64 was converted to float64 by the scale function.\n",
      "  warnings.warn(msg, DataConversionWarning)\n"
     ]
    },
    {
     "name": "stdout",
     "output_type": "stream",
     "text": [
      "1 2 3 4 5 6 7 8 9 10 11 12 13 14 15 16 17 18 19 20 21 22 23 24 25 26 27 28 29 30 31 32 33 34 35 36 37 38 39 Result samples = 200\n",
      "Classifiers results:\n",
      "Mean = 0.7722, std = 0.0358\n",
      "Mean = 0.6127, std = 0.0446\n",
      "Mean = 0.7038, std = 0.0423\n",
      "Mean = 0.6599, std = 0.0408\n",
      "Mean = 0.7494, std = 0.0357\n",
      "Mean = 0.7495, std = 0.0356\n",
      "Mean = 0.7759, std = 0.0340\n",
      "Mean = 0.7787, std = 0.0331\n",
      "Mean = 0.7693, std = 0.0328\n",
      "Mean = 0.7082, std = 0.0384\n",
      "Mean = 0.6409, std = 0.0413\n",
      "Max classifier mean:\n",
      "Mean = 0.7787, std = 0.0331\n",
      "Superclassifier score (args = {'dataset_name': 'german', 'auc_window': None, 'algo': 'l1+', 'refit_after': False})\n",
      "Mean = 0.7798, std = 0.0332\n"
     ]
    }
   ],
   "source": [
    "test_supermodel(args={\"algo\":\"l1+\", \"auc_window\":None, \"refit_after\":False}, datasets=DATASETS, n_folds=N_FOLDS, times=TIMES)"
   ]
  },
  {
   "cell_type": "markdown",
   "metadata": {},
   "source": [
    "## l1 + positive + refit"
   ]
  },
  {
   "cell_type": "code",
   "execution_count": 9,
   "metadata": {
    "collapsed": false,
    "scrolled": true
   },
   "outputs": [
    {
     "name": "stdout",
     "output_type": "stream",
     "text": [
      "TESTING GERMAN\n",
      "0 "
     ]
    },
    {
     "name": "stderr",
     "output_type": "stream",
     "text": [
      "/Library/Frameworks/Python.framework/Versions/3.5/lib/python3.5/site-packages/sklearn/utils/validation.py:420: DataConversionWarning: Data with input dtype int64 was converted to float64 by the scale function.\n",
      "  warnings.warn(msg, DataConversionWarning)\n"
     ]
    },
    {
     "name": "stdout",
     "output_type": "stream",
     "text": [
      "1 2 3 4 5 6 7 8 9 10 11 12 13 14 15 16 17 18 19 20 21 22 23 24 25 26 27 28 29 30 31 32 33 34 35 36 37 38 39 Result samples = 200\n",
      "Classifiers results:\n",
      "Mean = 0.7900, std = 0.0286\n",
      "Mean = 0.6568, std = 0.0398\n",
      "Mean = 0.7219, std = 0.0334\n",
      "Mean = 0.6865, std = 0.0362\n",
      "Mean = 0.7733, std = 0.0300\n",
      "Mean = 0.7715, std = 0.0304\n",
      "Mean = 0.7909, std = 0.0295\n",
      "Mean = 0.7930, std = 0.0286\n",
      "Mean = 0.7877, std = 0.0304\n",
      "Mean = 0.7306, std = 0.0304\n",
      "Mean = 0.6610, std = 0.0314\n",
      "Max classifier mean:\n",
      "Mean = 0.7930, std = 0.0286\n",
      "Superclassifier score (args = {'dataset_name': 'german', 'auc_window': None, 'algo': 'l1+', 'refit_after': True})\n",
      "Mean = 0.7950, std = 0.0288\n"
     ]
    }
   ],
   "source": [
    "test_supermodel(args={\"algo\":\"l1+\", \"auc_window\":None, \"refit_after\":True}, datasets=DATASETS, n_folds=N_FOLDS, times=TIMES)"
   ]
  },
  {
   "cell_type": "markdown",
   "metadata": {},
   "source": [
    "## l1 + positive + auc_window=0.05"
   ]
  },
  {
   "cell_type": "code",
   "execution_count": 10,
   "metadata": {
    "collapsed": false
   },
   "outputs": [
    {
     "name": "stdout",
     "output_type": "stream",
     "text": [
      "TESTING GERMAN\n",
      "0 "
     ]
    },
    {
     "name": "stderr",
     "output_type": "stream",
     "text": [
      "/Library/Frameworks/Python.framework/Versions/3.5/lib/python3.5/site-packages/sklearn/utils/validation.py:420: DataConversionWarning: Data with input dtype int64 was converted to float64 by the scale function.\n",
      "  warnings.warn(msg, DataConversionWarning)\n"
     ]
    },
    {
     "name": "stdout",
     "output_type": "stream",
     "text": [
      "1 2 3 4 5 6 7 8 9 10 11 12 13 14 15 16 17 18 19 20 21 22 23 24 25 26 27 28 29 30 31 32 33 34 35 36 37 38 39 Result samples = 200\n",
      "Classifiers results:\n",
      "Mean = 0.7758, std = 0.0319\n",
      "Mean = 0.6157, std = 0.0446\n",
      "Mean = 0.7045, std = 0.0352\n",
      "Mean = 0.6631, std = 0.0382\n",
      "Mean = 0.7513, std = 0.0314\n",
      "Mean = 0.7511, std = 0.0309\n",
      "Mean = 0.7802, std = 0.0319\n",
      "Mean = 0.7826, std = 0.0310\n",
      "Mean = 0.7733, std = 0.0309\n",
      "Mean = 0.7084, std = 0.0321\n",
      "Mean = 0.6448, std = 0.0400\n",
      "Max classifier mean:\n",
      "Mean = 0.7826, std = 0.0310\n",
      "Superclassifier score (args = {'dataset_name': 'german', 'auc_window': 0.05, 'algo': 'l1+', 'refit_after': False})\n",
      "Mean = 0.7840, std = 0.0300\n"
     ]
    }
   ],
   "source": [
    "test_supermodel(args={\"algo\":\"l1+\", \"auc_window\":0.05, \"refit_after\":False}, datasets=DATASETS, n_folds=N_FOLDS, times=TIMES)"
   ]
  },
  {
   "cell_type": "markdown",
   "metadata": {},
   "source": [
    "## l1 + positive + auc_window=0.05 + refit"
   ]
  },
  {
   "cell_type": "code",
   "execution_count": 11,
   "metadata": {
    "collapsed": false
   },
   "outputs": [
    {
     "name": "stdout",
     "output_type": "stream",
     "text": [
      "TESTING GERMAN\n",
      "0 "
     ]
    },
    {
     "name": "stderr",
     "output_type": "stream",
     "text": [
      "/Library/Frameworks/Python.framework/Versions/3.5/lib/python3.5/site-packages/sklearn/utils/validation.py:420: DataConversionWarning: Data with input dtype int64 was converted to float64 by the scale function.\n",
      "  warnings.warn(msg, DataConversionWarning)\n"
     ]
    },
    {
     "name": "stdout",
     "output_type": "stream",
     "text": [
      "1 2 3 4 5 6 7 8 9 10 11 12 13 14 15 16 17 18 19 20 21 22 23 24 25 26 27 28 29 30 31 32 33 34 35 36 37 38 39 Result samples = 200\n",
      "Classifiers results:\n",
      "Mean = 0.7911, std = 0.0317\n",
      "Mean = 0.6528, std = 0.0381\n",
      "Mean = 0.7237, std = 0.0384\n",
      "Mean = 0.6911, std = 0.0369\n",
      "Mean = 0.7732, std = 0.0326\n",
      "Mean = 0.7718, std = 0.0327\n",
      "Mean = 0.7921, std = 0.0325\n",
      "Mean = 0.7942, std = 0.0317\n",
      "Mean = 0.7895, std = 0.0323\n",
      "Mean = 0.7342, std = 0.0357\n",
      "Mean = 0.6646, std = 0.0398\n",
      "Max classifier mean:\n",
      "Mean = 0.7942, std = 0.0317\n",
      "Superclassifier score (args = {'dataset_name': 'german', 'auc_window': 0.05, 'algo': 'l1', 'refit_after': True})\n",
      "Mean = 0.7677, std = 0.0336\n"
     ]
    }
   ],
   "source": [
    "test_supermodel(args={\"algo\":\"l1\", \"auc_window\":0.05, \"refit_after\":True}, datasets=DATASETS, n_folds=N_FOLDS, times=TIMES)"
   ]
  },
  {
   "cell_type": "markdown",
   "metadata": {},
   "source": [
    "# Using Robust Logistic Regression"
   ]
  },
  {
   "cell_type": "markdown",
   "metadata": {},
   "source": [
    "## robust + l2"
   ]
  },
  {
   "cell_type": "code",
   "execution_count": 12,
   "metadata": {
    "collapsed": false
   },
   "outputs": [
    {
     "name": "stdout",
     "output_type": "stream",
     "text": [
      "TESTING GERMAN\n",
      "0 "
     ]
    },
    {
     "name": "stderr",
     "output_type": "stream",
     "text": [
      "/Library/Frameworks/Python.framework/Versions/3.5/lib/python3.5/site-packages/sklearn/utils/validation.py:420: DataConversionWarning: Data with input dtype int64 was converted to float64 by the scale function.\n",
      "  warnings.warn(msg, DataConversionWarning)\n"
     ]
    },
    {
     "name": "stdout",
     "output_type": "stream",
     "text": [
      "1 2 3 4 5 6 7 8 9 10 11 12 13 14 15 16 17 18 19 20 21 22 23 24 25 26 27 28 29 30 31 32 33 34 35 36 37 38 39 Result samples = 200\n",
      "Classifiers results:\n",
      "Mean = 0.7743, std = 0.0315\n",
      "Mean = 0.6149, std = 0.0441\n",
      "Mean = 0.7045, std = 0.0374\n",
      "Mean = 0.6626, std = 0.0417\n",
      "Mean = 0.7510, std = 0.0341\n",
      "Mean = 0.7515, std = 0.0339\n",
      "Mean = 0.7773, std = 0.0315\n",
      "Mean = 0.7802, std = 0.0311\n",
      "Mean = 0.7731, std = 0.0327\n",
      "Mean = 0.7088, std = 0.0381\n",
      "Mean = 0.6401, std = 0.0423\n",
      "Max classifier mean:\n",
      "Mean = 0.7802, std = 0.0311\n",
      "Superclassifier score (args = {'dataset_name': 'german', 'superclassifier': 'robust', 'auc_window': None, 'algo': 'l2', 'refit_after': False})\n",
      "Mean = 0.7815, std = 0.0310\n"
     ]
    }
   ],
   "source": [
    "test_supermodel(args={\"algo\":\"l2\", \"auc_window\":None, \"refit_after\":False, \"superclassifier\":\"robust\"}, datasets=DATASETS, n_folds=N_FOLDS, times=TIMES)"
   ]
  },
  {
   "cell_type": "markdown",
   "metadata": {},
   "source": [
    "## robust + l1"
   ]
  },
  {
   "cell_type": "code",
   "execution_count": 13,
   "metadata": {
    "collapsed": false
   },
   "outputs": [
    {
     "name": "stdout",
     "output_type": "stream",
     "text": [
      "TESTING GERMAN\n",
      "0 "
     ]
    },
    {
     "name": "stderr",
     "output_type": "stream",
     "text": [
      "/Library/Frameworks/Python.framework/Versions/3.5/lib/python3.5/site-packages/sklearn/utils/validation.py:420: DataConversionWarning: Data with input dtype int64 was converted to float64 by the scale function.\n",
      "  warnings.warn(msg, DataConversionWarning)\n"
     ]
    },
    {
     "name": "stdout",
     "output_type": "stream",
     "text": [
      "1 2 3 4 5 6 7 8 9 10 11 12 13 14 15 16 17 18 19 20 21 22 23 24 25 26 27 28 29 30 31 32 33 34 35 36 37 38 39 Result samples = 200\n",
      "Classifiers results:\n",
      "Mean = 0.7750, std = 0.0324\n",
      "Mean = 0.6148, std = 0.0410\n",
      "Mean = 0.7051, std = 0.0394\n",
      "Mean = 0.6640, std = 0.0395\n",
      "Mean = 0.7516, std = 0.0361\n",
      "Mean = 0.7515, std = 0.0360\n",
      "Mean = 0.7798, std = 0.0312\n",
      "Mean = 0.7819, std = 0.0316\n",
      "Mean = 0.7731, std = 0.0346\n",
      "Mean = 0.7096, std = 0.0367\n",
      "Mean = 0.6426, std = 0.0398\n",
      "Max classifier mean:\n",
      "Mean = 0.7819, std = 0.0316\n",
      "Superclassifier score (args = {'dataset_name': 'german', 'superclassifier': 'robust', 'auc_window': None, 'algo': 'l1', 'refit_after': False})\n",
      "Mean = 0.7819, std = 0.0324\n"
     ]
    }
   ],
   "source": [
    "test_supermodel(args={\"algo\":\"l1\", \"auc_window\":None, \"refit_after\":False, \"superclassifier\":\"robust\"}, datasets=DATASETS, n_folds=N_FOLDS, times=TIMES)"
   ]
  },
  {
   "cell_type": "markdown",
   "metadata": {},
   "source": [
    "## robust + l1 + auc_window=0.05"
   ]
  },
  {
   "cell_type": "code",
   "execution_count": 14,
   "metadata": {
    "collapsed": false
   },
   "outputs": [
    {
     "name": "stdout",
     "output_type": "stream",
     "text": [
      "TESTING GERMAN\n",
      "0 "
     ]
    },
    {
     "name": "stderr",
     "output_type": "stream",
     "text": [
      "/Library/Frameworks/Python.framework/Versions/3.5/lib/python3.5/site-packages/sklearn/utils/validation.py:420: DataConversionWarning: Data with input dtype int64 was converted to float64 by the scale function.\n",
      "  warnings.warn(msg, DataConversionWarning)\n"
     ]
    },
    {
     "name": "stdout",
     "output_type": "stream",
     "text": [
      "1 2 3 4 5 6 7 8 9 10 11 12 13 14 15 16 17 18 19 20 21 22 23 24 25 26 27 28 29 30 31 32 33 34 35 36 37 38 39 Result samples = 200\n",
      "Classifiers results:\n",
      "Mean = 0.7772, std = 0.0351\n",
      "Mean = 0.6119, std = 0.0417\n",
      "Mean = 0.7036, std = 0.0367\n",
      "Mean = 0.6603, std = 0.0401\n",
      "Mean = 0.7491, std = 0.0323\n",
      "Mean = 0.7491, std = 0.0326\n",
      "Mean = 0.7804, std = 0.0359\n",
      "Mean = 0.7829, std = 0.0345\n",
      "Mean = 0.7732, std = 0.0340\n",
      "Mean = 0.7072, std = 0.0358\n",
      "Mean = 0.6438, std = 0.0375\n",
      "Max classifier mean:\n",
      "Mean = 0.7829, std = 0.0345\n",
      "Superclassifier score (args = {'dataset_name': 'german', 'superclassifier': 'robust', 'auc_window': 0.05, 'algo': 'l1', 'refit_after': False})\n",
      "Mean = 0.7839, std = 0.0338\n"
     ]
    }
   ],
   "source": [
    "test_supermodel(args={\"algo\":\"l1\", \"auc_window\":0.05, \"refit_after\":False, \"superclassifier\":\"robust\"}, datasets=DATASETS, n_folds=N_FOLDS, times=TIMES)"
   ]
  },
  {
   "cell_type": "markdown",
   "metadata": {},
   "source": [
    "## robust + l1 + refit"
   ]
  },
  {
   "cell_type": "code",
   "execution_count": 15,
   "metadata": {
    "collapsed": false
   },
   "outputs": [
    {
     "name": "stdout",
     "output_type": "stream",
     "text": [
      "TESTING GERMAN\n",
      "0 "
     ]
    },
    {
     "name": "stderr",
     "output_type": "stream",
     "text": [
      "/Library/Frameworks/Python.framework/Versions/3.5/lib/python3.5/site-packages/sklearn/utils/validation.py:420: DataConversionWarning: Data with input dtype int64 was converted to float64 by the scale function.\n",
      "  warnings.warn(msg, DataConversionWarning)\n"
     ]
    },
    {
     "name": "stdout",
     "output_type": "stream",
     "text": [
      "1 2 3 4 5 6 7 8 9 10 11 12 13 14 15 16 17 18 19 20 21 22 23 24 25 26 27 28 29 30 31 32 33 34 35 36 37 38 39 Result samples = 200\n",
      "Classifiers results:\n",
      "Mean = 0.7909, std = 0.0296\n",
      "Mean = 0.6545, std = 0.0333\n",
      "Mean = 0.7192, std = 0.0356\n",
      "Mean = 0.6866, std = 0.0357\n",
      "Mean = 0.7728, std = 0.0320\n",
      "Mean = 0.7713, std = 0.0318\n",
      "Mean = 0.7917, std = 0.0290\n",
      "Mean = 0.7936, std = 0.0295\n",
      "Mean = 0.7872, std = 0.0294\n",
      "Mean = 0.7311, std = 0.0328\n",
      "Mean = 0.6599, std = 0.0332\n",
      "Max classifier mean:\n",
      "Mean = 0.7936, std = 0.0295\n",
      "Superclassifier score (args = {'dataset_name': 'german', 'superclassifier': 'robust', 'auc_window': None, 'algo': 'l1', 'refit_after': True})\n",
      "Mean = 0.7955, std = 0.0302\n"
     ]
    }
   ],
   "source": [
    "test_supermodel(args={\"algo\":\"l1\", \"auc_window\":None, \"refit_after\":True, \"superclassifier\":\"robust\"}, datasets=DATASETS, n_folds=N_FOLDS, times=TIMES)"
   ]
  },
  {
   "cell_type": "markdown",
   "metadata": {},
   "source": [
    "## robust + l1 + auc_window=0.05 + refit"
   ]
  },
  {
   "cell_type": "code",
   "execution_count": 16,
   "metadata": {
    "collapsed": false
   },
   "outputs": [
    {
     "name": "stdout",
     "output_type": "stream",
     "text": [
      "TESTING GERMAN\n",
      "0 "
     ]
    },
    {
     "name": "stderr",
     "output_type": "stream",
     "text": [
      "/Library/Frameworks/Python.framework/Versions/3.5/lib/python3.5/site-packages/sklearn/utils/validation.py:420: DataConversionWarning: Data with input dtype int64 was converted to float64 by the scale function.\n",
      "  warnings.warn(msg, DataConversionWarning)\n"
     ]
    },
    {
     "name": "stdout",
     "output_type": "stream",
     "text": [
      "1 2 3 4 5 6 7 8 9 10 11 "
     ]
    },
    {
     "name": "stderr",
     "output_type": "stream",
     "text": [
      "/Library/Frameworks/Python.framework/Versions/3.5/lib/python3.5/site-packages/sklearn/svm/base.py:224: ConvergenceWarning: Solver terminated early (max_iter=1000000).  Consider pre-processing your data with StandardScaler or MinMaxScaler.\n",
      "  % self.max_iter, ConvergenceWarning)\n"
     ]
    },
    {
     "name": "stdout",
     "output_type": "stream",
     "text": [
      "12 13 14 15 16 17 18 19 20 21 22 23 24 25 26 27 28 29 30 31 32 33 34 35 36 37 38 39 Result samples = 200\n",
      "Classifiers results:\n",
      "Mean = 0.7918, std = 0.0295\n",
      "Mean = 0.6554, std = 0.0430\n",
      "Mean = 0.7238, std = 0.0348\n",
      "Mean = 0.6891, std = 0.0384\n",
      "Mean = 0.7741, std = 0.0307\n",
      "Mean = 0.7731, std = 0.0304\n",
      "Mean = 0.7919, std = 0.0298\n",
      "Mean = 0.7944, std = 0.0292\n",
      "Mean = 0.7881, std = 0.0296\n",
      "Mean = 0.7316, std = 0.0363\n",
      "Mean = 0.6589, std = 0.0375\n",
      "Max classifier mean:\n",
      "Mean = 0.7944, std = 0.0292\n",
      "Superclassifier score (args = {'dataset_name': 'german', 'superclassifier': 'robust', 'auc_window': 0.05, 'algo': 'l1', 'refit_after': True})\n",
      "Mean = 0.7710, std = 0.0301\n"
     ]
    }
   ],
   "source": [
    "test_supermodel(args={\"algo\":\"l1\", \"auc_window\":0.05, \"refit_after\":True, \"superclassifier\":\"robust\"}, datasets=DATASETS, n_folds=N_FOLDS, times=TIMES)"
   ]
  }
 ],
 "metadata": {
  "kernelspec": {
   "display_name": "Python 3",
   "language": "python",
   "name": "python3"
  },
  "language_info": {
   "codemirror_mode": {
    "name": "ipython",
    "version": 3
   },
   "file_extension": ".py",
   "mimetype": "text/x-python",
   "name": "python",
   "nbconvert_exporter": "python",
   "pygments_lexer": "ipython3",
   "version": "3.5.1"
  }
 },
 "nbformat": 4,
 "nbformat_minor": 0
}

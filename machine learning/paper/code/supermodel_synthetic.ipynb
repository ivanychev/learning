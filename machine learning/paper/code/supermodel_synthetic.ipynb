{
 "cells": [
  {
   "cell_type": "code",
   "execution_count": 1,
   "metadata": {
    "collapsed": false
   },
   "outputs": [],
   "source": [
    "import utils\n",
    "from supermodel import SVNSupermodel\n",
    "from supermodel import test_supermodel\n",
    "import numpy as np\n",
    "import utils\n",
    "import classifiers\n",
    "from scipy.stats import bernoulli"
   ]
  },
  {
   "cell_type": "code",
   "execution_count": 2,
   "metadata": {
    "collapsed": false
   },
   "outputs": [],
   "source": [
    "SHAPE = (1000, 10)\n",
    "\n",
    "def get_randomized_classifiers(ndim, C=100, nsamples = 100):\n",
    "    clfs = utils.get_all_classifiers(C=C)\n",
    "    X = np.random.normal(0, 1, (nsamples, ndim))\n",
    "    y = np.random.randint(0, 2, nsamples)\n",
    "    utils.train_clfs(clfs, X, y)\n",
    "    return clfs\n",
    "\n",
    "def generate_synthetic_test(shape=SHAPE, w_scale = 0.1):\n",
    "    clfs = get_randomized_classifiers(shape[1])\n",
    "    X = np.random.normal(0, 1, shape)\n",
    "    margins = utils.get_margins(clfs, X)\n",
    "    w = w_scale * np.random.random(len(clfs))\n",
    "    p = utils.sigmoid(-np.dot(margins, w))\n",
    "    y = np.zeros(shape[0])\n",
    "    for idx, prob in enumerate(p):\n",
    "        y[idx] = bernoulli.rvs(prob)\n",
    "    return X, y"
   ]
  },
  {
   "cell_type": "code",
   "execution_count": 3,
   "metadata": {
    "collapsed": false
   },
   "outputs": [],
   "source": [
    "X, y = generate_synthetic_test()\n",
    "DATASETS = [(X, y)]\n",
    "N_FOLDS = 5\n",
    "TIMES = 20"
   ]
  },
  {
   "cell_type": "markdown",
   "metadata": {},
   "source": [
    "## l2"
   ]
  },
  {
   "cell_type": "code",
   "execution_count": 4,
   "metadata": {
    "collapsed": false
   },
   "outputs": [
    {
     "name": "stdout",
     "output_type": "stream",
     "text": [
      "<class 'tuple'>\n",
      "Dataset shape: (1000, 10), (1000,)\n",
      "0 1 2 3 4 5 6 7 8 9 10 11 12 13 14 15 16 17 18 19 Result samples = 100\n",
      "Classifiers results:\n",
      "Mean = 0.5082, std = 0.0417\n",
      "Mean = 0.5311, std = 0.0400\n",
      "Mean = 0.5072, std = 0.0367\n",
      "Mean = 0.5031, std = 0.0362\n",
      "Mean = 0.5239, std = 0.0383\n",
      "Mean = 0.5196, std = 0.0375\n",
      "Mean = 0.5080, std = 0.0401\n",
      "Mean = 0.5102, std = 0.0399\n",
      "Mean = 0.5257, std = 0.0397\n",
      "Mean = 0.5189, std = 0.0369\n",
      "Mean = 0.4846, std = 0.0378\n",
      "Max classifier mean:\n",
      "Mean = 0.5311, std = 0.0400\n",
      "Superclassifier score\n",
      "Mean = 0.5202, std = 0.0422\n"
     ]
    }
   ],
   "source": [
    "test_supermodel(args={\"algo\":\"l2\", \"auc_window\":None, \"refit_after\":False}, datasets=DATASETS, n_folds=N_FOLDS, times=TIMES)"
   ]
  },
  {
   "cell_type": "markdown",
   "metadata": {},
   "source": [
    "## l1"
   ]
  },
  {
   "cell_type": "code",
   "execution_count": 5,
   "metadata": {
    "collapsed": false
   },
   "outputs": [
    {
     "name": "stdout",
     "output_type": "stream",
     "text": [
      "<class 'tuple'>\n",
      "Dataset shape: (1000, 10), (1000,)\n",
      "0 1 2 3 4 5 6 7 8 9 10 11 12 13 14 15 16 17 18 19 Result samples = 100\n",
      "Classifiers results:\n",
      "Mean = 0.5046, std = 0.0410\n",
      "Mean = 0.5298, std = 0.0387\n",
      "Mean = 0.4970, std = 0.0430\n",
      "Mean = 0.5070, std = 0.0376\n",
      "Mean = 0.5178, std = 0.0460\n",
      "Mean = 0.5112, std = 0.0446\n",
      "Mean = 0.5056, std = 0.0399\n",
      "Mean = 0.5049, std = 0.0401\n",
      "Mean = 0.5177, std = 0.0388\n",
      "Mean = 0.5174, std = 0.0419\n",
      "Mean = 0.4868, std = 0.0424\n",
      "Max classifier mean:\n",
      "Mean = 0.5298, std = 0.0387\n",
      "Superclassifier score\n",
      "Mean = 0.5212, std = 0.0413\n"
     ]
    }
   ],
   "source": [
    "test_supermodel(args={\"algo\":\"l1\", \"auc_window\":None, \"refit_after\":False}, datasets=DATASETS, n_folds=N_FOLDS, times=TIMES)"
   ]
  },
  {
   "cell_type": "markdown",
   "metadata": {},
   "source": [
    "## l1 + refit"
   ]
  },
  {
   "cell_type": "code",
   "execution_count": 6,
   "metadata": {
    "collapsed": false,
    "scrolled": true
   },
   "outputs": [
    {
     "name": "stdout",
     "output_type": "stream",
     "text": [
      "<class 'tuple'>\n",
      "Dataset shape: (1000, 10), (1000,)\n",
      "0 1 2 3 4 5 6 7 8 9 10 11 12 13 14 15 16 17 18 19 Result samples = 100\n",
      "Classifiers results:\n",
      "Mean = 0.5143, std = 0.0396\n",
      "Mean = 0.5311, std = 0.0357\n",
      "Mean = 0.5195, std = 0.0348\n",
      "Mean = 0.4944, std = 0.0383\n",
      "Mean = 0.5208, std = 0.0332\n",
      "Mean = 0.5183, std = 0.0336\n",
      "Mean = 0.5142, std = 0.0396\n",
      "Mean = 0.5146, std = 0.0389\n",
      "Mean = 0.5303, std = 0.0343\n",
      "Mean = 0.5159, std = 0.0364\n",
      "Mean = 0.4757, std = 0.0352\n",
      "Max classifier mean:\n",
      "Mean = 0.5311, std = 0.0357\n",
      "Superclassifier score\n",
      "Mean = 0.5162, std = 0.0394\n"
     ]
    }
   ],
   "source": [
    "test_supermodel(args={\"algo\":\"l1\", \"auc_window\":None, \"refit_after\":True}, datasets=DATASETS, n_folds=N_FOLDS, times=TIMES)"
   ]
  },
  {
   "cell_type": "markdown",
   "metadata": {},
   "source": [
    "## l1 + auc_window=0.05"
   ]
  },
  {
   "cell_type": "code",
   "execution_count": 7,
   "metadata": {
    "collapsed": false
   },
   "outputs": [
    {
     "name": "stdout",
     "output_type": "stream",
     "text": [
      "<class 'tuple'>\n",
      "Dataset shape: (1000, 10), (1000,)\n",
      "0 1 2 3 4 5 6 7 8 9 10 11 12 13 14 15 16 17 18 19 Result samples = 100\n",
      "Classifiers results:\n",
      "Mean = 0.5075, std = 0.0375\n",
      "Mean = 0.5236, std = 0.0365\n",
      "Mean = 0.5146, std = 0.0418\n",
      "Mean = 0.4995, std = 0.0340\n",
      "Mean = 0.5172, std = 0.0365\n",
      "Mean = 0.5118, std = 0.0371\n",
      "Mean = 0.5099, std = 0.0361\n",
      "Mean = 0.5085, std = 0.0365\n",
      "Mean = 0.5206, std = 0.0357\n",
      "Mean = 0.5181, std = 0.0374\n",
      "Mean = 0.4860, std = 0.0385\n",
      "Max classifier mean:\n",
      "Mean = 0.5236, std = 0.0365\n",
      "Superclassifier score\n",
      "Mean = 0.5165, std = 0.0385\n"
     ]
    }
   ],
   "source": [
    "test_supermodel(args={\"algo\":\"l1\", \"auc_window\":0.05, \"refit_after\":False}, datasets=DATASETS, n_folds=N_FOLDS, times=TIMES)"
   ]
  },
  {
   "cell_type": "markdown",
   "metadata": {},
   "source": [
    "## l1 + auc_window=0.05 + refit"
   ]
  },
  {
   "cell_type": "code",
   "execution_count": 8,
   "metadata": {
    "collapsed": false
   },
   "outputs": [
    {
     "name": "stdout",
     "output_type": "stream",
     "text": [
      "<class 'tuple'>\n",
      "Dataset shape: (1000, 10), (1000,)\n",
      "0 1 2 3 4 5 6 7 8 9 10 11 12 13 14 15 16 17 18 19 Result samples = 100\n",
      "Classifiers results:\n",
      "Mean = 0.5122, std = 0.0364\n",
      "Mean = 0.5378, std = 0.0341\n",
      "Mean = 0.5137, std = 0.0369\n",
      "Mean = 0.4930, std = 0.0371\n",
      "Mean = 0.5248, std = 0.0331\n",
      "Mean = 0.5218, std = 0.0330\n",
      "Mean = 0.5107, std = 0.0364\n",
      "Mean = 0.5128, std = 0.0365\n",
      "Mean = 0.5317, std = 0.0354\n",
      "Mean = 0.5146, std = 0.0364\n",
      "Mean = 0.4722, std = 0.0344\n",
      "Max classifier mean:\n",
      "Mean = 0.5378, std = 0.0341\n",
      "Superclassifier score\n",
      "Mean = 0.5261, std = 0.0383\n"
     ]
    }
   ],
   "source": [
    "test_supermodel(args={\"algo\":\"l1\", \"auc_window\":0.05, \"refit_after\":True}, datasets=DATASETS, n_folds=N_FOLDS, times=TIMES)"
   ]
  },
  {
   "cell_type": "markdown",
   "metadata": {},
   "source": [
    "## l1 + positive"
   ]
  },
  {
   "cell_type": "code",
   "execution_count": 9,
   "metadata": {
    "collapsed": false
   },
   "outputs": [
    {
     "name": "stdout",
     "output_type": "stream",
     "text": [
      "<class 'tuple'>\n",
      "Dataset shape: (1000, 10), (1000,)\n",
      "0 1 2 3 4 5 6 7 8 9 10 11 12 13 14 15 16 17 18 19 Result samples = 100\n",
      "Classifiers results:\n",
      "Mean = 0.5119, std = 0.0343\n",
      "Mean = 0.5260, std = 0.0370\n",
      "Mean = 0.5120, std = 0.0350\n",
      "Mean = 0.4987, std = 0.0367\n",
      "Mean = 0.5240, std = 0.0389\n",
      "Mean = 0.5211, std = 0.0401\n",
      "Mean = 0.5130, std = 0.0349\n",
      "Mean = 0.5115, std = 0.0350\n",
      "Mean = 0.5241, std = 0.0356\n",
      "Mean = 0.5228, std = 0.0420\n",
      "Mean = 0.4848, std = 0.0385\n",
      "Max classifier mean:\n",
      "Mean = 0.5260, std = 0.0370\n",
      "Superclassifier score\n",
      "Mean = 0.5075, std = 0.0409\n"
     ]
    }
   ],
   "source": [
    "test_supermodel(args={\"algo\":\"l1+\", \"auc_window\":None, \"refit_after\":False}, datasets=DATASETS, n_folds=N_FOLDS, times=TIMES)"
   ]
  },
  {
   "cell_type": "markdown",
   "metadata": {},
   "source": [
    "## l1 + positive + refit"
   ]
  },
  {
   "cell_type": "code",
   "execution_count": 10,
   "metadata": {
    "collapsed": false,
    "scrolled": true
   },
   "outputs": [
    {
     "name": "stdout",
     "output_type": "stream",
     "text": [
      "<class 'tuple'>\n",
      "Dataset shape: (1000, 10), (1000,)\n",
      "0 1 2 3 4 5 6 7 8 9 10 11 12 13 14 15 16 17 18 19 Result samples = 100\n",
      "Classifiers results:\n",
      "Mean = 0.5112, std = 0.0361\n",
      "Mean = 0.5319, std = 0.0335\n",
      "Mean = 0.5183, std = 0.0360\n",
      "Mean = 0.4945, std = 0.0349\n",
      "Mean = 0.5214, std = 0.0352\n",
      "Mean = 0.5184, std = 0.0346\n",
      "Mean = 0.5107, std = 0.0353\n",
      "Mean = 0.5119, std = 0.0361\n",
      "Mean = 0.5283, std = 0.0332\n",
      "Mean = 0.5177, std = 0.0399\n",
      "Mean = 0.4794, std = 0.0363\n",
      "Max classifier mean:\n",
      "Mean = 0.5319, std = 0.0335\n",
      "Superclassifier score\n",
      "Mean = 0.5060, std = 0.0410\n"
     ]
    }
   ],
   "source": [
    "test_supermodel(args={\"algo\":\"l1+\", \"auc_window\":None, \"refit_after\":True}, datasets=DATASETS, n_folds=N_FOLDS, times=TIMES)"
   ]
  },
  {
   "cell_type": "markdown",
   "metadata": {},
   "source": [
    "## l1 + positive + auc_window=0.05"
   ]
  },
  {
   "cell_type": "code",
   "execution_count": 11,
   "metadata": {
    "collapsed": false
   },
   "outputs": [
    {
     "name": "stdout",
     "output_type": "stream",
     "text": [
      "<class 'tuple'>\n",
      "Dataset shape: (1000, 10), (1000,)\n",
      "0 1 2 3 4 5 6 7 8 9 10 11 12 13 14 15 16 17 18 19 Result samples = 100\n",
      "Classifiers results:\n",
      "Mean = 0.5062, std = 0.0345\n",
      "Mean = 0.5282, std = 0.0380\n",
      "Mean = 0.5004, std = 0.0370\n",
      "Mean = 0.5005, std = 0.0395\n",
      "Mean = 0.5229, std = 0.0378\n",
      "Mean = 0.5182, std = 0.0387\n",
      "Mean = 0.5074, std = 0.0348\n",
      "Mean = 0.5084, std = 0.0347\n",
      "Mean = 0.5225, std = 0.0366\n",
      "Mean = 0.5156, std = 0.0381\n",
      "Mean = 0.4828, std = 0.0392\n",
      "Max classifier mean:\n",
      "Mean = 0.5282, std = 0.0380\n",
      "Superclassifier score\n",
      "Mean = 0.5113, std = 0.0392\n"
     ]
    }
   ],
   "source": [
    "test_supermodel(args={\"algo\":\"l1+\", \"auc_window\":0.05, \"refit_after\":False}, datasets=DATASETS, n_folds=N_FOLDS, times=TIMES)"
   ]
  },
  {
   "cell_type": "markdown",
   "metadata": {},
   "source": [
    "## l1 + positive + auc_window=0.05 + refit"
   ]
  },
  {
   "cell_type": "code",
   "execution_count": 12,
   "metadata": {
    "collapsed": false
   },
   "outputs": [
    {
     "name": "stdout",
     "output_type": "stream",
     "text": [
      "<class 'tuple'>\n",
      "Dataset shape: (1000, 10), (1000,)\n",
      "0 1 2 3 4 5 6 7 8 9 10 11 12 13 14 15 16 17 18 19 Result samples = 100\n",
      "Classifiers results:\n",
      "Mean = 0.5153, std = 0.0364\n",
      "Mean = 0.5361, std = 0.0327\n",
      "Mean = 0.5191, std = 0.0351\n",
      "Mean = 0.4947, std = 0.0301\n",
      "Mean = 0.5224, std = 0.0330\n",
      "Mean = 0.5192, std = 0.0344\n",
      "Mean = 0.5141, std = 0.0356\n",
      "Mean = 0.5158, std = 0.0350\n",
      "Mean = 0.5320, std = 0.0358\n",
      "Mean = 0.5144, std = 0.0357\n",
      "Mean = 0.4772, std = 0.0365\n",
      "Max classifier mean:\n",
      "Mean = 0.5361, std = 0.0327\n",
      "Superclassifier score\n",
      "Mean = 0.5232, std = 0.0391\n"
     ]
    }
   ],
   "source": [
    "test_supermodel(args={\"algo\":\"l1\", \"auc_window\":0.05, \"refit_after\":True}, datasets=DATASETS, n_folds=N_FOLDS, times=TIMES)"
   ]
  },
  {
   "cell_type": "markdown",
   "metadata": {},
   "source": [
    "# Using Robust Logistic Regression"
   ]
  },
  {
   "cell_type": "markdown",
   "metadata": {},
   "source": [
    "## robust + l2"
   ]
  },
  {
   "cell_type": "code",
   "execution_count": 13,
   "metadata": {
    "collapsed": false
   },
   "outputs": [
    {
     "name": "stdout",
     "output_type": "stream",
     "text": [
      "<class 'tuple'>\n",
      "Dataset shape: (1000, 10), (1000,)\n",
      "0 1 2 3 4 5 6 7 8 9 10 11 12 13 14 15 16 17 18 19 Result samples = 100\n",
      "Classifiers results:\n",
      "Mean = 0.5053, std = 0.0414\n",
      "Mean = 0.5276, std = 0.0344\n",
      "Mean = 0.5082, std = 0.0335\n",
      "Mean = 0.5023, std = 0.0381\n",
      "Mean = 0.5214, std = 0.0341\n",
      "Mean = 0.5171, std = 0.0313\n",
      "Mean = 0.5054, std = 0.0399\n",
      "Mean = 0.5061, std = 0.0391\n",
      "Mean = 0.5211, std = 0.0330\n",
      "Mean = 0.5209, std = 0.0354\n",
      "Mean = 0.4828, std = 0.0395\n",
      "Max classifier mean:\n",
      "Mean = 0.5276, std = 0.0344\n",
      "Superclassifier score\n",
      "Mean = 0.5108, std = 0.0335\n"
     ]
    }
   ],
   "source": [
    "test_supermodel(args={\"algo\":\"l2\", \"auc_window\":None, \"refit_after\":False, \"superclassifier\":\"robust\"}, datasets=DATASETS, n_folds=N_FOLDS, times=TIMES)"
   ]
  },
  {
   "cell_type": "markdown",
   "metadata": {},
   "source": [
    "## robust + l1"
   ]
  },
  {
   "cell_type": "code",
   "execution_count": 14,
   "metadata": {
    "collapsed": false
   },
   "outputs": [
    {
     "name": "stdout",
     "output_type": "stream",
     "text": [
      "<class 'tuple'>\n",
      "Dataset shape: (1000, 10), (1000,)\n",
      "0 1 2 3 4 5 6 7 8 9 10 11 12 13 14 15 16 17 18 19 Result samples = 100\n",
      "Classifiers results:\n",
      "Mean = 0.5061, std = 0.0394\n",
      "Mean = 0.5285, std = 0.0419\n",
      "Mean = 0.5033, std = 0.0376\n",
      "Mean = 0.4967, std = 0.0442\n",
      "Mean = 0.5202, std = 0.0418\n",
      "Mean = 0.5143, std = 0.0394\n",
      "Mean = 0.5075, std = 0.0372\n",
      "Mean = 0.5076, std = 0.0392\n",
      "Mean = 0.5211, std = 0.0376\n",
      "Mean = 0.5147, std = 0.0354\n",
      "Mean = 0.4830, std = 0.0404\n",
      "Max classifier mean:\n",
      "Mean = 0.5285, std = 0.0419\n",
      "Superclassifier score\n",
      "Mean = 0.5084, std = 0.0368\n"
     ]
    }
   ],
   "source": [
    "test_supermodel(args={\"algo\":\"l1\", \"auc_window\":None, \"refit_after\":False, \"superclassifier\":\"robust\"}, datasets=DATASETS, n_folds=N_FOLDS, times=TIMES)"
   ]
  },
  {
   "cell_type": "markdown",
   "metadata": {},
   "source": [
    "## robust + l1 + auc_window=0.05"
   ]
  },
  {
   "cell_type": "code",
   "execution_count": 15,
   "metadata": {
    "collapsed": false
   },
   "outputs": [
    {
     "name": "stdout",
     "output_type": "stream",
     "text": [
      "<class 'tuple'>\n",
      "Dataset shape: (1000, 10), (1000,)\n",
      "0 1 2 3 4 5 6 7 8 9 10 11 12 13 14 15 16 17 18 19 Result samples = 100\n",
      "Classifiers results:\n",
      "Mean = 0.5093, std = 0.0364\n",
      "Mean = 0.5260, std = 0.0393\n",
      "Mean = 0.5092, std = 0.0385\n",
      "Mean = 0.4997, std = 0.0409\n",
      "Mean = 0.5206, std = 0.0339\n",
      "Mean = 0.5153, std = 0.0352\n",
      "Mean = 0.5117, std = 0.0358\n",
      "Mean = 0.5110, std = 0.0370\n",
      "Mean = 0.5207, std = 0.0368\n",
      "Mean = 0.5203, std = 0.0387\n",
      "Mean = 0.4861, std = 0.0412\n",
      "Max classifier mean:\n",
      "Mean = 0.5260, std = 0.0393\n",
      "Superclassifier score\n",
      "Mean = 0.5165, std = 0.0364\n"
     ]
    }
   ],
   "source": [
    "test_supermodel(args={\"algo\":\"l1\", \"auc_window\":0.05, \"refit_after\":False, \"superclassifier\":\"robust\"}, datasets=DATASETS, n_folds=N_FOLDS, times=TIMES)"
   ]
  },
  {
   "cell_type": "markdown",
   "metadata": {},
   "source": [
    "## robust + l1 + refit"
   ]
  },
  {
   "cell_type": "code",
   "execution_count": 16,
   "metadata": {
    "collapsed": false
   },
   "outputs": [
    {
     "name": "stdout",
     "output_type": "stream",
     "text": [
      "<class 'tuple'>\n",
      "Dataset shape: (1000, 10), (1000,)\n",
      "0 1 2 3 4 5 6 7 8 9 10 11 12 13 14 15 16 17 18 19 Result samples = 100\n",
      "Classifiers results:\n",
      "Mean = 0.5142, std = 0.0331\n",
      "Mean = 0.5378, std = 0.0321\n",
      "Mean = 0.5217, std = 0.0385\n",
      "Mean = 0.4930, std = 0.0300\n",
      "Mean = 0.5287, std = 0.0360\n",
      "Mean = 0.5260, std = 0.0355\n",
      "Mean = 0.5134, std = 0.0328\n",
      "Mean = 0.5152, std = 0.0331\n",
      "Mean = 0.5359, std = 0.0331\n",
      "Mean = 0.5185, std = 0.0417\n",
      "Mean = 0.4737, std = 0.0338\n",
      "Max classifier mean:\n",
      "Mean = 0.5378, std = 0.0321\n",
      "Superclassifier score\n",
      "Mean = 0.5185, std = 0.0372\n"
     ]
    }
   ],
   "source": [
    "test_supermodel(args={\"algo\":\"l1\", \"auc_window\":None, \"refit_after\":True, \"superclassifier\":\"robust\"}, datasets=DATASETS, n_folds=N_FOLDS, times=TIMES)"
   ]
  },
  {
   "cell_type": "markdown",
   "metadata": {},
   "source": [
    "## robust + l1 + auc_window=0.05 + refit"
   ]
  },
  {
   "cell_type": "code",
   "execution_count": 17,
   "metadata": {
    "collapsed": false
   },
   "outputs": [
    {
     "name": "stdout",
     "output_type": "stream",
     "text": [
      "<class 'tuple'>\n",
      "Dataset shape: (1000, 10), (1000,)\n",
      "0 1 2 3 4 5 6 7 8 9 10 11 12 13 14 15 16 17 18 19 Result samples = 100\n",
      "Classifiers results:\n",
      "Mean = 0.5154, std = 0.0333\n",
      "Mean = 0.5383, std = 0.0310\n",
      "Mean = 0.5235, std = 0.0333\n",
      "Mean = 0.4967, std = 0.0353\n",
      "Mean = 0.5228, std = 0.0318\n",
      "Mean = 0.5206, std = 0.0332\n",
      "Mean = 0.5142, std = 0.0330\n",
      "Mean = 0.5163, std = 0.0333\n",
      "Mean = 0.5366, std = 0.0324\n",
      "Mean = 0.5169, std = 0.0355\n",
      "Mean = 0.4712, std = 0.0327\n",
      "Max classifier mean:\n",
      "Mean = 0.5383, std = 0.0310\n",
      "Superclassifier score\n",
      "Mean = 0.5043, std = 0.0310\n"
     ]
    }
   ],
   "source": [
    "test_supermodel(args={\"algo\":\"l1\", \"auc_window\":0.05, \"refit_after\":True, \"superclassifier\":\"robust\"}, datasets=DATASETS, n_folds=N_FOLDS, times=TIMES)"
   ]
  }
 ],
 "metadata": {
  "kernelspec": {
   "display_name": "Python 3",
   "language": "python",
   "name": "python3"
  },
  "language_info": {
   "codemirror_mode": {
    "name": "ipython",
    "version": 3
   },
   "file_extension": ".py",
   "mimetype": "text/x-python",
   "name": "python",
   "nbconvert_exporter": "python",
   "pygments_lexer": "ipython3",
   "version": "3.5.1"
  }
 },
 "nbformat": 4,
 "nbformat_minor": 0
}

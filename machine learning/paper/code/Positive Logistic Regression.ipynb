{
 "cells": [
  {
   "cell_type": "code",
   "execution_count": 6,
   "metadata": {
    "collapsed": true
   },
   "outputs": [],
   "source": [
    "import numpy as np\n",
    "from sklearn.datasets import make_classification\n",
    "from robust_logregr import RobustLogregr\n",
    "from sklearn.linear_model import LogisticRegression\n",
    "from sklearn.cross_validation import KFold\n",
    "from sklearn.metrics import roc_auc_score"
   ]
  },
  {
   "cell_type": "code",
   "execution_count": 9,
   "metadata": {
    "collapsed": false
   },
   "outputs": [
    {
     "name": "stdout",
     "output_type": "stream",
     "text": [
      "Simple: 0.917967, robust: 0.850738\n",
      "Simple: 0.918928, robust: 0.849316\n",
      "Simple: 0.916216, robust: 0.849148\n",
      "Simple: 0.916545, robust: 0.847654\n",
      "Simple: 0.917432, robust: 0.850097\n"
     ]
    }
   ],
   "source": [
    "X, y = make_classification(n_samples=100000, n_features=100, n_informative=20)\n",
    "cv = KFold(y.size, n_folds=5)\n",
    "\n",
    "for train, test in cv:\n",
    "    cls1 = LogisticRegression()\n",
    "    cls2 = RobustLogregr()\n",
    "    cls1.fit(X[train], y[train])\n",
    "    cls2.fit(X[train], y[train])\n",
    "#     print(cls1.coef_)\n",
    "#     print(cls2.coef_)\n",
    "    score1 = roc_auc_score(y[test], cls1.predict_proba(X[test])[:, 1])\n",
    "    score2 = roc_auc_score(y[test], cls2.predict_proba(X[test])[:, 1])\n",
    "    print(\"Simple: %f, robust: %f\" % (score1, score2))"
   ]
  }
 ],
 "metadata": {
  "kernelspec": {
   "display_name": "Python 3",
   "language": "python",
   "name": "python3"
  },
  "language_info": {
   "codemirror_mode": {
    "name": "ipython",
    "version": 3
   },
   "file_extension": ".py",
   "mimetype": "text/x-python",
   "name": "python",
   "nbconvert_exporter": "python",
   "pygments_lexer": "ipython3",
   "version": "3.5.1"
  }
 },
 "nbformat": 4,
 "nbformat_minor": 0
}

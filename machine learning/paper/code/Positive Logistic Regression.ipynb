{
 "cells": [
  {
   "cell_type": "code",
   "execution_count": 1,
   "metadata": {
    "collapsed": true
   },
   "outputs": [],
   "source": [
    "import numpy as np\n",
    "from sklearn.datasets import make_classification\n",
    "from robust_logregr import RobustLogregr\n",
    "from sklearn.linear_model import LogisticRegression\n",
    "from sklearn.cross_validation import KFold\n",
    "from sklearn.metrics import roc_auc_score"
   ]
  },
  {
   "cell_type": "code",
   "execution_count": 3,
   "metadata": {
    "collapsed": false
   },
   "outputs": [
    {
     "name": "stdout",
     "output_type": "stream",
     "text": [
      "[-0.83902523]\n",
      "Simple: 0.981255, robust: 0.981139\n",
      "[-0.85738359]\n",
      "Simple: 0.982026, robust: 0.982228\n",
      "[-0.82165921]\n",
      "Simple: 0.980152, robust: 0.979975\n",
      "[-0.85325701]\n",
      "Simple: 0.982225, robust: 0.982258\n",
      "[-0.80262765]\n",
      "Simple: 0.984749, robust: 0.985066\n"
     ]
    }
   ],
   "source": [
    "X, y = make_classification(10000)\n",
    "cv = KFold(y.size, n_folds=5)\n",
    "\n",
    "for train, test in cv:\n",
    "    cls1 = LogisticRegression()\n",
    "    cls2 = RobustLogregr()\n",
    "    cls1.fit(X[train], y[train])\n",
    "    print(cls1.intercept_)\n",
    "    cls2.fit(X[train], y[train])\n",
    "    score1 = roc_auc_score(y[test], cls1.predict_proba(X[test])[:, 1])\n",
    "    score2 = roc_auc_score(y[test], cls2.predict_proba(X[test])[:, 1])\n",
    "    print(\"Simple: %f, robust: %f\" % (score1, score2))"
   ]
  }
 ],
 "metadata": {
  "kernelspec": {
   "display_name": "Python 3",
   "language": "python",
   "name": "python3"
  },
  "language_info": {
   "codemirror_mode": {
    "name": "ipython",
    "version": 3
   },
   "file_extension": ".py",
   "mimetype": "text/x-python",
   "name": "python",
   "nbconvert_exporter": "python",
   "pygments_lexer": "ipython3",
   "version": "3.5.1"
  }
 },
 "nbformat": 4,
 "nbformat_minor": 0
}

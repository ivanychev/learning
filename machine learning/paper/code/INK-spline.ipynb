{
 "cells": [
  {
   "cell_type": "code",
   "execution_count": 3,
   "metadata": {
    "collapsed": false
   },
   "outputs": [],
   "source": [
    "import numpy as np\n",
    "import numbers\n",
    "from scipy.misc import comb\n",
    "import ink\n",
    "\n",
    "def _is_integer(val):\n",
    "    return isinstance(val, (int, np.int32, np.int64))\n",
    "\n",
    "# Python 3.5"
   ]
  },
  {
   "cell_type": "markdown",
   "metadata": {
    "collapsed": true
   },
   "source": [
    "[Used paper](http://sci-hub.io/10.1109/IJCNN.2013.6706860)\n",
    "\n",
    "$$\n",
    "K(x, y) = \\sum_{r=0}^{d} (x-a)^r(y-a)^r + \\sum_{r=0}^{d} \\frac{1}{2d - r + 1} \\begin{pmatrix} d\\\\r \\end{pmatrix}\n",
    "(|x - y|)^r(\\mathrm{min}(x, y)  - a)^{2d - r + 1}\n",
    "$$\n",
    "\n",
    "$$\n",
    "\\mathbf{K}(\\mathbf{x}, \\mathbf{y}) = \\prod_{j=1}^n K_j(x_j, y_j)\n",
    "$$\n",
    "\n",
    "$$\n",
    "\\widetilde{\\mathbf{K}}(\\mathbf{x}, \\mathbf{y}) = \\frac{\\mathbf{K}(\\mathbf{x}, \\mathbf{y})}{\\sqrt{\\mathbf{K}(\\mathbf{x}, \\mathbf{x})\n",
    "\\mathbf{K}(\\mathbf{y}, \\mathbf{y})}}\n",
    "$$\n",
    "\n",
    "Где под INK-spline ядром понимается $\\widetilde{\\mathbf{K}}$"
   ]
  },
  {
   "cell_type": "markdown",
   "metadata": {},
   "source": [
    "## Old version"
   ]
  },
  {
   "cell_type": "code",
   "execution_count": 4,
   "metadata": {
    "collapsed": true
   },
   "outputs": [],
   "source": [
    "from functools import partial\n",
    "import numpy as np\n",
    "from scipy.misc import comb\n",
    "\n",
    "glob = 0\n",
    "\n",
    "def _is_integer(val):\n",
    "    return isinstance(val, (int, np.int32, np.int64))\n",
    "\n",
    "def K(X: np.ndarray, Y: np.ndarray, degree: int, a: int) -> np.ndarray:\n",
    "    gram = np.zeros((X.shape[0], Y.shape[0]))\n",
    "    verbose_len = X.shape[0]\n",
    "    for idx, x in enumerate(X):\n",
    "        S = np.zeros(Y.shape)\n",
    "        for r in range(degree + 1):\n",
    "            S += ((x - a)*(Y - a))**r +\\\n",
    "            1.0/(2 * degree - r + 1) * comb(degree, r)*((np.abs(x - Y))**r)*(np.minimum(x, Y) - a)**(2*degree - r + 1)\n",
    "        gram_row = np.multiply.reduce(S, axis=1)\n",
    "        gram[idx] = gram_row\n",
    "    return gram\n",
    "\n",
    "def K_norm(X: np.ndarray, Y:np.ndarray, degree: int, a: int, axis: str) -> np.ndarray:\n",
    "    assert axis == \"x\" or axis ==\"y\", \"Invalid axis argument\"\n",
    "    gram = np.zeros((X.shape[0], Y.shape[0]))\n",
    "    if axis==\"x\":\n",
    "        for idx, x in enumerate(X):\n",
    "            S = np.zeros(x.shape)\n",
    "            for r in range(degree + 1):\n",
    "                S += ((x - a)*(x - a))**r +\\\n",
    "                1.0/(2 * degree - r + 1) * comb(degree, r)*(0**r)*(x - a)**(2*degree - r + 1)\n",
    "            S = np.multiply.reduce(S)\n",
    "            gram[idx] = S\n",
    "    elif axis==\"y\":\n",
    "        for idx, y in enumerate(Y):\n",
    "            S = np.zeros(y.shape)\n",
    "            for r in range(degree + 1):\n",
    "                S += ((y - a) * (y - a)) ** r + \\\n",
    "                     1.0 / (2 * degree - r + 1) * comb(degree, r) * (0 ** r) * (y - a) ** (2 * degree - r + 1)\n",
    "            S = np.multiply.reduce(S)\n",
    "            gram[:, idx:idx+1] = S\n",
    "    else:\n",
    "        raise ValueError(\"Invalid axis name\")\n",
    "    return gram\n",
    "\n",
    "\n",
    "def ink(x: np.ndarray, y: np.ndarray, degree: int, a: int = -3) -> np.ndarray:\n",
    "    assert _is_integer(degree) and degree > 0, \"Degree must be positive integer\"\n",
    "    assert isinstance(x, np.ndarray) and isinstance(y, np.ndarray), \"X and Y must be numpy arrays\"\n",
    "    if len(x.shape) == 1:\n",
    "        x = x.reshape(1, x.shape[0])\n",
    "    if len(y.shape) == 1:\n",
    "        y = y.reshape(1, y.shape[0])\n",
    "    x[x < a] = a\n",
    "    y[y < a] = a\n",
    "    return K(x, y, degree, a) / np.sqrt(K_norm(x, y, degree, a, \"x\") * K_norm(x, y, degree, a, \"y\"))\n",
    "\n",
    "def get_sklearn_ink(degree: int, a: int):\n",
    "    return partial(ink, degree=degree, a=a)"
   ]
  },
  {
   "cell_type": "markdown",
   "metadata": {},
   "source": [
    "## New version"
   ]
  },
  {
   "cell_type": "code",
   "execution_count": 101,
   "metadata": {
    "collapsed": false
   },
   "outputs": [],
   "source": [
    "def make_fat_xy(X, Y):\n",
    "    fatX = np.tile(X, (Y.shape[0], 1))\n",
    "    fatY = np.tile(Y, (1, X.shape[0])).reshape(X.shape[0] * Y.shape[0], X.shape[1])\n",
    "    return fatX, fatY\n",
    "\n",
    "def new_K(X: np.ndarray, Y: np.ndarray, degree: int, a: int) -> np.ndarray:\n",
    "    %time\n",
    "    fatX, fatY = make_fat_xy(X, Y)\n",
    "    %time\n",
    "    first = ((fatX - a)*(fatY - a))\n",
    "    %time\n",
    "    absXYdiff = (np.abs(fatX - fatY))\n",
    "    %time\n",
    "    XYmin_minus_A = np.minimum(fatX, fatY) - a\n",
    "    %time\n",
    "    S = np.zeros(fatX.shape)\n",
    "    %time\n",
    "    for r in range(degree + 1):\n",
    "        S += first**r +\\\n",
    "            1.0/(2 * degree - r + 1) * comb(degree, r)*(absXYdiff**r)*(XYmin_minus_A)**(2*degree - r + 1)\n",
    "        %time\n",
    "    S = np.multiply.reduce(S, axis=1)\n",
    "    %time\n",
    "    gram = np.transpose(S.reshape((Y.shape[0], X.shape[0])))\n",
    "    %time\n",
    "    return gram\n",
    "\n",
    "def new_K_norm(X: np.ndarray, Y: np.ndarray, degree: int, a: int) -> np.ndarray:\n",
    "    Sx = np.zeros(X.shape)\n",
    "    Sy = np.zeros(Y.shape)\n",
    "    firstX = ((X - a)*(X - a))\n",
    "    firstY = ((Y - a)*(Y - a))\n",
    "    for r in range(degree + 1):\n",
    "        Sx += firstX**r + 1.0/(2 * degree - r + 1) * comb(degree, r)*(0**r)*(X - a)**(2*degree - r + 1)\n",
    "        Sy += firstY**r + 1.0/(2 * degree - r + 1) * comb(degree, r)*(0**r)*(Y - a)**(2*degree - r + 1)\n",
    "    Sx = np.multiply.reduce(Sx, axis=1)\n",
    "    Sy = np.multiply.reduce(Sy, axis=1)\n",
    "    Sx_matrixed = np.tile(Sx.reshape(Sx.shape[0], 1), Sy.shape[0])\n",
    "    Sy_matrixed = np.tile(Sy, (Sx.shape[0], 1))\n",
    "    return np.sqrt(Sx_matrixed * Sy_matrixed)\n",
    "    \n",
    "    \n",
    "\n",
    "def new_ink(X: np.ndarray, Y: np.ndarray, degree: int, a: int = -3) -> np.ndarray:\n",
    "    assert _is_integer(degree) and degree > 0, \"Degree must be positive integer\"\n",
    "    assert isinstance(X, np.ndarray) and isinstance(Y, np.ndarray), \"X and Y must be numpy arrays\"\n",
    "    if len(X.shape) == 1:\n",
    "        X = X.reshape(1, X.shape[0])\n",
    "    if len(Y.shape) == 1:\n",
    "        Y = Y.reshape(1, Y.shape[0])\n",
    "    X[X < a] = a\n",
    "    Y[Y < a] = a\n",
    "    return new_K(X, Y, degree, a) / new_K_norm(X, Y, degree, a)"
   ]
  },
  {
   "cell_type": "code",
   "execution_count": 48,
   "metadata": {
    "collapsed": false
   },
   "outputs": [
    {
     "name": "stdout",
     "output_type": "stream",
     "text": [
      "[[ 0.85704509]]\n",
      "\n",
      "\n",
      "[[ 0.85704509]]\n"
     ]
    }
   ],
   "source": [
    "print(ink(np.array([1, 2, 3]), np.array([4, 5, 6]), 1))\n",
    "print(new_ink(np.array([1, 2, 3]), np.array([4, 5, 6]), 1))"
   ]
  },
  {
   "cell_type": "code",
   "execution_count": 103,
   "metadata": {
    "collapsed": false
   },
   "outputs": [
    {
     "name": "stdout",
     "output_type": "stream",
     "text": [
      "CPU times: user 2 µs, sys: 0 ns, total: 2 µs\n",
      "Wall time: 4.05 µs\n",
      "CPU times: user 4 µs, sys: 1 µs, total: 5 µs\n",
      "Wall time: 10 µs\n",
      "CPU times: user 6 µs, sys: 4 µs, total: 10 µs\n",
      "Wall time: 35 µs\n",
      "CPU times: user 2 µs, sys: 1e+03 ns, total: 3 µs\n",
      "Wall time: 4.05 µs\n",
      "CPU times: user 2 µs, sys: 1e+03 ns, total: 3 µs\n",
      "Wall time: 20 µs\n",
      "CPU times: user 1e+03 ns, sys: 1 µs, total: 2 µs\n",
      "Wall time: 4.05 µs\n",
      "CPU times: user 2 µs, sys: 0 ns, total: 2 µs\n",
      "Wall time: 7.87 µs\n",
      "CPU times: user 2 µs, sys: 0 ns, total: 2 µs\n",
      "Wall time: 16.9 µs\n",
      "CPU times: user 2 µs, sys: 0 ns, total: 2 µs\n",
      "Wall time: 5.01 µs\n",
      "CPU times: user 2 µs, sys: 0 ns, total: 2 µs\n",
      "Wall time: 4.05 µs\n"
     ]
    },
    {
     "data": {
      "text/plain": [
       "array([[ 0.83645066,  0.86809448,  0.86790361, ...,  0.83833956,\n",
       "         0.83927464,  0.82112949],\n",
       "       [ 0.84080737,  0.8504549 ,  0.85323693, ...,  0.81908079,\n",
       "         0.85871453,  0.86491871],\n",
       "       [ 0.84707083,  0.86639706,  0.82215073, ...,  0.80546032,\n",
       "         0.84380091,  0.82886667],\n",
       "       ..., \n",
       "       [ 0.85875133,  0.84372679,  0.87082871, ...,  0.80506342,\n",
       "         0.82443225,  0.86841358],\n",
       "       [ 0.85483051,  0.87708893,  0.85501822, ...,  0.83499496,\n",
       "         0.87020118,  0.90230197],\n",
       "       [ 0.88030099,  0.82386021,  0.84549206, ...,  0.85247555,\n",
       "         0.84265922,  0.8704307 ]])"
      ]
     },
     "execution_count": 103,
     "metadata": {},
     "output_type": "execute_result"
    }
   ],
   "source": [
    "X = np.random.random((1000, 50))\n",
    "Y = np.random.random((1600, 50))\n",
    "\n",
    "ink(X, Y, 1)\n",
    "new_ink(X, Y, 1)"
   ]
  }
 ],
 "metadata": {
  "kernelspec": {
   "display_name": "Python 3",
   "language": "python",
   "name": "python3"
  },
  "language_info": {
   "codemirror_mode": {
    "name": "ipython",
    "version": 3
   },
   "file_extension": ".py",
   "mimetype": "text/x-python",
   "name": "python",
   "nbconvert_exporter": "python",
   "pygments_lexer": "ipython3",
   "version": "3.5.1"
  }
 },
 "nbformat": 4,
 "nbformat_minor": 0
}

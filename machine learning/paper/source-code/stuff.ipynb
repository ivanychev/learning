{
 "cells": [
  {
   "cell_type": "code",
   "execution_count": 1,
   "metadata": {
    "collapsed": true
   },
   "outputs": [],
   "source": [
    "import sys\n",
    "import german\n",
    "import heart\n",
    "import wine\n",
    "from sklearn.cross_validation import KFold\n",
    "from sklearn.cross_validation import StratifiedKFold\n",
    "# import random\n",
    "import classifiers\n",
    "from itertools import combinations\n",
    "from matplotlib import pylab as pl\n",
    "import numpy as np\n",
    "%matplotlib inline"
   ]
  },
  {
   "cell_type": "markdown",
   "metadata": {},
   "source": [
    "## Readme\n",
    "\n",
    "Kernel set is specified in `get_classifier_specs()` procedure. `get_data` returns a dictionary like `{\"dataset_name\":(X, Y), ...}`. Margins are calculated for each kernel via `SVC.decision.function()` method\n",
    "\n",
    "__Note__: INK-spline SVM learning process usually takes a lot of time."
   ]
  },
  {
   "cell_type": "code",
   "execution_count": 2,
   "metadata": {
    "collapsed": true
   },
   "outputs": [],
   "source": [
    "def get_classifier_specs():\n",
    "    \"\"\"\n",
    "    Procedure specifies interesting kernels that are observed in the project.\n",
    "    If you want to change the set of classifiers, you are welcome to edit this function.\n",
    "    Specs format available in docs and classifiers.py module\n",
    "    :return: list of kernel specs, that are processed in get_classifiers()\n",
    "    \"\"\"\n",
    "    specs = []\n",
    "    specs.append([\"linear\"])\n",
    "    specs.append([\"poly\", 2])\n",
    "    specs.append([\"poly\", 3])\n",
    "    specs.append([\"poly\", 4])\n",
    "#     specs.append([\"ink\", 1, -3])\n",
    "#     specs.append([\"ink\", 2, -3])\n",
    "    for i in [0.0001, 0.001, 0.01, 0.1, 1]:\n",
    "        specs.append(([\"rbf\", i]))\n",
    "    return specs\n",
    "\n",
    "def get_data():\n",
    "    \"\"\"\n",
    "    Loads data from processed sources\n",
    "    :return: list of (X, y) tuples\n",
    "    \"\"\"\n",
    "    data = []\n",
    "    data.append(german.load())\n",
    "    data.append(heart.load())\n",
    "    data.append(wine.load())\n",
    "\n",
    "    data_dict = {}\n",
    "    for dataset in data:\n",
    "        data_dict[dataset[2]] = (dataset[0], dataset[1])\n",
    "    return data_dict\n",
    "\n",
    "def train_clfs(clfs, X_train, Y_train):\n",
    "    for clf in clfs:\n",
    "        clf.fit(X_train, Y_train)\n",
    "    return None\n",
    "\n",
    "def get_margins(clfs, X_train):\n",
    "    margins = np.zeros((X_train.shape[0], len(clfs)))\n",
    "    for idx, clf in enumerate(clfs):\n",
    "        margins[:, idx] = clf.decision_function(X_train)\n",
    "    return margins"
   ]
  },
  {
   "cell_type": "markdown",
   "metadata": {},
   "source": [
    "## SVM Distance"
   ]
  },
  {
   "cell_type": "code",
   "execution_count": 3,
   "metadata": {
    "collapsed": true
   },
   "outputs": [],
   "source": [
    "def clf_symdiff(clf1, clf2):\n",
    "    sv_set1 = set(clf1.support_)\n",
    "    sv_set2 = set(clf2.support_)\n",
    "    return len(sv_set1 ^ sv_set2)\n",
    "\n",
    "def clf_symdiff_normalized(clf1, clf2):\n",
    "    sv_set1 = set(clf1.support_)\n",
    "    sv_set2 = set(clf2.support_)\n",
    "    return len(sv_set1 ^ sv_set2) / (len(sv_set1) + len(sv_set2))"
   ]
  },
  {
   "cell_type": "markdown",
   "metadata": {},
   "source": [
    "## Calculating and drawing here"
   ]
  },
  {
   "cell_type": "code",
   "execution_count": 4,
   "metadata": {
    "collapsed": false
   },
   "outputs": [],
   "source": [
    "def margin_cov_pic(margins, clfs):\n",
    "    clfs_num = len(clfs)\n",
    "    covs_num = round(clfs_num * (clfs_num - 1) / 2)\n",
    "    covs = np.zeros(covs_num)\n",
    "    difs = np.zeros(covs_num)\n",
    "    idx = 0\n",
    "    for i in range(clfs_num):\n",
    "        for j in range(i + 1, clfs_num):\n",
    "            covs[idx] = np.corrcoef(margins[:, i], margins[:, j])[0, 1]\n",
    "            difs[idx] = clf_symdiff(clfs[i], clfs[j])\n",
    "            idx += 1\n",
    "    pl.scatter(difs, 1 - covs, marker='o')\n",
    "    pl.show()\n",
    "            \n",
    "# def do_things(dataset, key):\n",
    "#     folds = StratifiedKFold(dataset[1], shuffle=True, random_state=None, n_folds=5)\n",
    "#     specs = get_classifier_specs()\n",
    "#     clfs = classifiers.get(specs, C=100)\n",
    "#     for train, test in folds:\n",
    "#         X_train, X_test = dataset[0][train], dataset[0][test]\n",
    "#         Y_train, Y_test = dataset[1][train], dataset[1][test]\n",
    "#         train_clfs(clfs, X_train, Y_train)\n",
    "#         margins = get_margins(clfs, X_train)\n",
    "#         margin_cov_pic(margins, clfs)"
   ]
  },
  {
   "cell_type": "markdown",
   "metadata": {},
   "source": [
    "## Wine dataset"
   ]
  },
  {
   "cell_type": "code",
   "execution_count": 5,
   "metadata": {
    "collapsed": false
   },
   "outputs": [
    {
     "name": "stderr",
     "output_type": "stream",
     "text": [
      "/Library/Frameworks/Python.framework/Versions/3.5/lib/python3.5/site-packages/sklearn/utils/validation.py:420: DataConversionWarning: Data with input dtype int64 was converted to float64 by the normalize function.\n",
      "  warnings.warn(msg, DataConversionWarning)\n"
     ]
    }
   ],
   "source": [
    "data = get_data()\n",
    "dataset = data[\"wine\"]\n",
    "specs = get_classifier_specs()\n",
    "clfs = classifiers.get(specs)\n",
    "train_clfs(clfs, dataset[0], dataset[1])\n",
    "        "
   ]
  },
  {
   "cell_type": "code",
   "execution_count": 6,
   "metadata": {
    "collapsed": false
   },
   "outputs": [
    {
     "data": {
      "image/png": "[encoded data removed]",
      "text/plain": [
       "<matplotlib.figure.Figure at 0x10bd0aba8>"
      ]
     },
     "metadata": {},
     "output_type": "display_data"
    }
   ],
   "source": [
    "margins = get_margins(clfs, dataset[0])\n",
    "margin_cov_pic(margins, clfs)"
   ]
  },
  {
   "cell_type": "markdown",
   "metadata": {
    "collapsed": true
   },
   "source": [
    "## German credits"
   ]
  },
  {
   "cell_type": "code",
   "execution_count": 7,
   "metadata": {
    "collapsed": false
   },
   "outputs": [
    {
     "name": "stderr",
     "output_type": "stream",
     "text": [
      "/Library/Frameworks/Python.framework/Versions/3.5/lib/python3.5/site-packages/sklearn/utils/validation.py:420: DataConversionWarning: Data with input dtype int64 was converted to float64 by the normalize function.\n",
      "  warnings.warn(msg, DataConversionWarning)\n"
     ]
    }
   ],
   "source": [
    "data = get_data()\n",
    "dataset = data[\"german\"]\n",
    "specs = get_classifier_specs()\n",
    "clfs = classifiers.get(specs)\n",
    "train_clfs(clfs, dataset[0], dataset[1])"
   ]
  },
  {
   "cell_type": "code",
   "execution_count": 8,
   "metadata": {
    "collapsed": false
   },
   "outputs": [
    {
     "data": {
      "image/png": "[encoded data removed]",
      "text/plain": [
       "<matplotlib.figure.Figure at 0x10bd92b00>"
      ]
     },
     "metadata": {},
     "output_type": "display_data"
    }
   ],
   "source": [
    "margins = get_margins(clfs, dataset[0])\n",
    "margin_cov_pic(margins, clfs)"
   ]
  },
  {
   "cell_type": "markdown",
   "metadata": {
    "collapsed": true
   },
   "source": [
    "## Heart dataset"
   ]
  },
  {
   "cell_type": "code",
   "execution_count": 9,
   "metadata": {
    "collapsed": false
   },
   "outputs": [
    {
     "name": "stderr",
     "output_type": "stream",
     "text": [
      "/Library/Frameworks/Python.framework/Versions/3.5/lib/python3.5/site-packages/sklearn/utils/validation.py:420: DataConversionWarning: Data with input dtype int64 was converted to float64 by the normalize function.\n",
      "  warnings.warn(msg, DataConversionWarning)\n"
     ]
    }
   ],
   "source": [
    "data = get_data()\n",
    "dataset = data[\"heart\"]\n",
    "specs = get_classifier_specs()\n",
    "clfs = classifiers.get(specs)\n",
    "train_clfs(clfs, dataset[0], dataset[1])"
   ]
  },
  {
   "cell_type": "code",
   "execution_count": 10,
   "metadata": {
    "collapsed": false
   },
   "outputs": [
    {
     "data": {
      "image/png": "[encoded data removed]",
      "text/plain": [
       "<matplotlib.figure.Figure at 0x10bd0a780>"
      ]
     },
     "metadata": {},
     "output_type": "display_data"
    }
   ],
   "source": [
    "margins = get_margins(clfs, dataset[0])\n",
    "margin_cov_pic(margins, clfs)"
   ]
  }
 ],
 "metadata": {
  "kernelspec": {
   "display_name": "Python 3",
   "language": "python",
   "name": "python3"
  },
  "language_info": {
   "codemirror_mode": {
    "name": "ipython",
    "version": 3
   },
   "file_extension": ".py",
   "mimetype": "text/x-python",
   "name": "python",
   "nbconvert_exporter": "python",
   "pygments_lexer": "ipython3",
   "version": "3.5.1"
  }
 },
 "nbformat": 4,
 "nbformat_minor": 0
}

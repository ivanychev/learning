{
 "cells": [
  {
   "cell_type": "code",
   "execution_count": 1,
   "metadata": {
    "collapsed": true
   },
   "outputs": [],
   "source": [
    "import utils\n",
    "from utils import test_classifier\n",
    "from utils import test_classifiers\n",
    "import ink\n",
    "import numpy as np"
   ]
  },
  {
   "cell_type": "code",
   "execution_count": null,
   "metadata": {
    "collapsed": false
   },
   "outputs": [],
   "source": []
  },
  {
   "cell_type": "code",
   "execution_count": null,
   "metadata": {
    "collapsed": false
   },
   "outputs": [],
   "source": [
    "def normalize(X):\n",
    "    mean = np.mean(X[train_idx], axis=0)\n",
    "    std = np.std(X[train_idx], axis=0)\n",
    "    return (X[train_idx] - mean)/std, (X[test_idx] - mean)/std"
   ]
  },
  {
   "cell_type": "code",
   "execution_count": 7,
   "metadata": {
    "collapsed": false
   },
   "outputs": [
    {
     "name": "stdout",
     "output_type": "stream",
     "text": [
      "[]\n"
     ]
    }
   ],
   "source": [
    "clfs = utils.get_all_classifiers(spec_verbose=False)\n",
    "clf = clfs[4]\n",
    "\n",
    "X_raw, y_raw , _ = utils.get_dataset(\"housing\")\n",
    "train_idx = list(range(405))\n",
    "test_idx = list(range(405, 506))\n",
    "# X_train, X_test = utils.normalize(X, train_idx, test_idx)\n",
    "# clf.fit(X_train, y[train_idx])\n",
    "# clf.predict(X_test)\n",
    "\n",
    "# X, y, train_idx, test_idx = test_classifier(\"housing\", clf)\n",
    "# print(np.min(X_raw[train_idx], axis=0))\n",
    "# X_train, X_test = utils.normalize(X_raw, train_idx, test_idx)\n",
    "# print(np.min(X_train, axis=0))\n",
    "\n",
    "a = np.array([1, 2, 3, 4, 5])\n",
    "a_train, a_test = utils.normalize(X_raw, [0], [])\n",
    "print(a_train)"
   ]
  }
 ],
 "metadata": {
  "kernelspec": {
   "display_name": "Python 3",
   "language": "python",
   "name": "python3"
  },
  "language_info": {
   "codemirror_mode": {
    "name": "ipython",
    "version": 3
   },
   "file_extension": ".py",
   "mimetype": "text/x-python",
   "name": "python",
   "nbconvert_exporter": "python",
   "pygments_lexer": "ipython3",
   "version": "3.5.1"
  }
 },
 "nbformat": 4,
 "nbformat_minor": 0
}

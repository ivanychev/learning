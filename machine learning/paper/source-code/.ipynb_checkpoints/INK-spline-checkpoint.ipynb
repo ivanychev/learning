{
 "cells": [
  {
   "cell_type": "code",
   "execution_count": 1,
   "metadata": {
    "collapsed": false
   },
   "outputs": [],
   "source": [
    "import numpy as np\n",
    "import numbers\n",
    "from scipy.misc import comb\n",
    "\n",
    "def _is_integer(val):\n",
    "    return isinstance(val, (int, np.int32, np.int64))\n",
    "\n",
    "# Python 3.5"
   ]
  },
  {
   "cell_type": "markdown",
   "metadata": {
    "collapsed": true
   },
   "source": [
    "[Used paper](http://sci-hub.io/10.1109/IJCNN.2013.6706860)\n",
    "\n",
    "$$\n",
    "K(x, y) = \\sum_{r=0}^{d} (x-a)^r(y-a)^r + \\sum_{r=0}^{d} \\frac{1}{2d - r + 1} \\begin{pmatrix} d\\\\r \\end{pmatrix}\n",
    "(|x - y|)^r(\\mathrm{min}(x, y)  - a)^{2d - r + 1}\n",
    "$$\n",
    "\n",
    "$$\n",
    "\\mathbf{K}(\\mathbf{x}, \\mathbf{y}) = \\prod_{j=1}^n K_j(x_j, y_j)\n",
    "$$\n",
    "\n",
    "$$\n",
    "\\widetilde{\\mathbf{K}}(\\mathbf{x}, \\mathbf{y}) = \\frac{\\mathbf{K}(\\mathbf{x}, \\mathbf{y})}{\\sqrt{\\mathbf{K}(\\mathbf{x}, \\mathbf{x})\n",
    "\\mathbf{K}(\\mathbf{y}, \\mathbf{y})}}\n",
    "$$\n",
    "\n",
    "Где под INK-spline ядром понимается $\\widetilde{\\mathbf{K}}$"
   ]
  },
  {
   "cell_type": "code",
   "execution_count": 2,
   "metadata": {
    "collapsed": false
   },
   "outputs": [],
   "source": [
    "def K(x: np.ndarray, y: np.ndarray, degree: int, a: int) -> float:\n",
    "    S = np.zeros(x.shape[0])\n",
    "    for i in np.where(x < y):\n",
    "        x[i], y[i] = y[i], x[i]\n",
    "    for r in range(degree + 1):\n",
    "        S += ((x - a)*(y - a))**r +\\\n",
    "        1.0/(2 * degree - r + 1) * comb(degree, r)*((x - y)**r)*(y - a)**(2*degree - r + 1)\n",
    "    return np.multiply.reduce(S)\n",
    "\n",
    "def inke(x: np.ndarray, y: np.ndarray, degree: int, a: int = -3) -> float:\n",
    "    assert _is_integer(degree) and degree > 0, \"Degree must be positive integer\"\n",
    "    assert isinstance(x, np.ndarray) and isinstance(y, np.ndarray), \"X and Y must be numpy arrays\"\n",
    "    assert len(x.shape) == len(y.shape) == 1, \"X and Y must have only one dimension\"\n",
    "    \n",
    "    return K(x, y, degree, a) / np.sqrt(K(x, x, degree, a) * K(y, y, degree, a))"
   ]
  },
  {
   "cell_type": "code",
   "execution_count": 3,
   "metadata": {
    "collapsed": false,
    "scrolled": true
   },
   "outputs": [
    {
     "data": {
      "text/plain": [
       "0.85704509128454698"
      ]
     },
     "execution_count": 3,
     "metadata": {},
     "output_type": "execute_result"
    }
   ],
   "source": [
    "inke(np.array([1, 2, 3]), np.array([4, 5, 6]), 1)"
   ]
  },
  {
   "cell_type": "markdown",
   "metadata": {
    "collapsed": true
   },
   "source": [
    "[Used paper](http://sci-hub.io/10.1109/IJCNN.2013.6706860)\n",
    "\n",
    "$$\n",
    "K(x, y) = \\sum_{r=0}^{d} (x-a)^r(y-a)^r + \\sum_{r=0}^{d} \\frac{1}{2d - r + 1} \\begin{pmatrix} d\\\\r \\end{pmatrix}\n",
    "(|x - y|)^r(\\mathrm{min}(x, y)  - a)^{2d - r + 1}\n",
    "$$\n",
    "\n",
    "$$\n",
    "\\mathbf{K}(\\mathbf{x}, \\mathbf{y}) = \\prod_{j=1}^n K_j(x_j, y_j)\n",
    "$$\n",
    "\n",
    "$$\n",
    "\\widetilde{\\mathbf{K}}(\\mathbf{x}, \\mathbf{y}) = \\frac{\\mathbf{K}(\\mathbf{x}, \\mathbf{y})}{\\sqrt{\\mathbf{K}(\\mathbf{x}, \\mathbf{x})\n",
    "\\mathbf{K}(\\mathbf{y}, \\mathbf{y})}}\n",
    "$$\n",
    "\n",
    "Где под INK-spline ядром понимается $\\widetilde{\\mathbf{K}}$"
   ]
  },
  {
   "cell_type": "code",
   "execution_count": 22,
   "metadata": {
    "collapsed": true
   },
   "outputs": [],
   "source": [
    "def duplicate_x(x, Y):\n",
    "    size = Y.shape[0]\n",
    "    X = np.repeat(x.reshape(1, x.shape[0]), [size], axis=1)\n",
    "    return X\n",
    "\n",
    "def new_K(X: np.ndarray, Y: np.ndarray, degree: int, a: int) -> np.ndarray:\n",
    "    gram = np.zeros((X.shape[0], Y.shape[0]))\n",
    "    for idx, x in enumerate(X):\n",
    "        S = np.zeros(Y.shape)\n",
    "        for r in range(degree + 1):\n",
    "            S += ((x - a)*(Y - a))**r +\\\n",
    "            1.0/(2 * degree - r + 1) * comb(degree, r)*((np.abs(x - Y))**r)*(np.minimum(x, Y) - a)**(2*degree - r + 1)\n",
    "        gram_row = np.multiply.reduce(S, axis=1)\n",
    "        print(gram_row)\n",
    "        gram[idx] = gram_row\n",
    "    return gram\n",
    "\n",
    "def K_norm(X: np.ndarray, degree: int, a: int, axis: str) -> np.ndarray:\n",
    "    assert axis == \"x\" or axis ==\"y\", \"Invalid axis argument\"\n",
    "    gram = np.zeros((X.shape[0], X.shape[0]))\n",
    "    for idx, x in enumerate(X):\n",
    "        S = np.zeros(x.shape)\n",
    "        for r in range(degree + 1):\n",
    "            S += ((x - a))**(2*r) +\\\n",
    "            1.0/(2 * degree - r + 1) * comb(degree, r)*(x - a)**(2*degree - r + 1)\n",
    "        S = np.multiply.reduce(S)\n",
    "        gram[idx] = S\n",
    "    if axis == \"x\":\n",
    "        return gram\n",
    "    if axis == \"y\":\n",
    "        return np.transpose(gram)\n",
    "        \n",
    "        \n",
    "def new_ink(x: np.ndarray, y: np.ndarray, degree: int, a: int = -3) -> np.ndarray:\n",
    "    assert _is_integer(degree) and degree > 0, \"Degree must be positive integer\"\n",
    "    assert isinstance(x, np.ndarray) and isinstance(y, np.ndarray), \"X and Y must be numpy arrays\"\n",
    "    \n",
    "    if len(x.shape) == 1:\n",
    "        x = x.reshape(1, x.shape[0])\n",
    "    if len(y.shape) == 1:\n",
    "        y = y.reshape(1, y.shape[0])\n",
    "    return new_K(x, y, degree, a) / np.sqrt(K_norm(x, degree, a) * K_norm(y, degree, a))"
   ]
  },
  {
   "cell_type": "code",
   "execution_count": 23,
   "metadata": {
    "collapsed": false
   },
   "outputs": [
    {
     "name": "stdout",
     "output_type": "stream",
     "text": [
      "[ 1616762.38888889]\n",
      "[ 282733.88888889]\n",
      "[ 12586563.88888889]\n"
     ]
    },
    {
     "data": {
      "text/plain": [
       "array([[ 0.85704509]])"
      ]
     },
     "execution_count": 23,
     "metadata": {},
     "output_type": "execute_result"
    }
   ],
   "source": [
    "new_ink(np.array([1, 2, 3]), np.array([4, 5, 6]), 1)"
   ]
  },
  {
   "cell_type": "code",
   "execution_count": 24,
   "metadata": {
    "collapsed": false
   },
   "outputs": [
    {
     "name": "stdout",
     "output_type": "stream",
     "text": [
      "[[ 1.          0.85704509]\n",
      " [ 0.85704509  1.        ]]\n",
      "[  282733.88888889  1616762.38888889]\n",
      "[  1616762.38888889  12586563.88888889]\n",
      "[  282733.88888889  1616762.38888889]\n",
      "[  1616762.38888889  12586563.88888889]\n",
      "[  282733.88888889  1616762.38888889]\n",
      "[  1616762.38888889  12586563.88888889]\n",
      "[[ 1.  1.]\n",
      " [ 1.  1.]]\n"
     ]
    }
   ],
   "source": [
    "import ink\n",
    "import numpy.random\n",
    "from functools import partial\n",
    "\n",
    "degree = 1\n",
    "former = ink.ink_svc_get(degree)\n",
    "now = partial(new_ink, degree=degree)\n",
    "A = numpy.array([[1, 2, 3], [4, 5, 6]])\n",
    "\n",
    "print(former(A, A))\n",
    "print(now(A, A))"
   ]
  },
  {
   "cell_type": "code",
   "execution_count": 20,
   "metadata": {
    "collapsed": false
   },
   "outputs": [
    {
     "name": "stdout",
     "output_type": "stream",
     "text": [
      "[[ 1.]]\n",
      "[[ 1.]]\n"
     ]
    }
   ],
   "source": [
    "A = numpy.random.randn(1, 3)\n",
    "print(former(A, A))\n",
    "print(now(A, A))"
   ]
  }
 ],
 "metadata": {
  "kernelspec": {
   "display_name": "Python 3",
   "language": "python",
   "name": "python3"
  },
  "language_info": {
   "codemirror_mode": {
    "name": "ipython",
    "version": 3
   },
   "file_extension": ".py",
   "mimetype": "text/x-python",
   "name": "python",
   "nbconvert_exporter": "python",
   "pygments_lexer": "ipython3",
   "version": "3.5.1"
  }
 },
 "nbformat": 4,
 "nbformat_minor": 0
}

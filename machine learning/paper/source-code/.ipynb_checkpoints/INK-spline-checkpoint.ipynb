{
 "cells": [
  {
   "cell_type": "code",
   "execution_count": 6,
   "metadata": {
    "collapsed": false
   },
   "outputs": [],
   "source": [
    "import numpy as np\n",
    "import numbers\n",
    "from scipy.misc import comb\n",
    "\n",
    "def _is_integer(val):\n",
    "    return isinstance(val, (int, np.int32, np.int64))\n",
    "\n",
    "# Python 3.5"
   ]
  },
  {
   "cell_type": "markdown",
   "metadata": {
    "collapsed": true
   },
   "source": [
    "[Used paper](http://sci-hub.io/10.1109/IJCNN.2013.6706860)\n",
    "\n",
    "$$\n",
    "K(x, y) = \\sum_{r=0}^{d} (x-a)^r(y-a)^r + \\sum_{r=0}^{d} \\frac{1}{2d - r + 1} \\begin{pmatrix} d\\\\r \\end{pmatrix}\n",
    "(x - y)^r(y-a)^{2d - r + 1}\n",
    "$$\n",
    "\n",
    "$$\n",
    "\\mathbf{K}(\\mathbf{x}, \\mathbf{y}) = \\prod_{j=1}^n K_j(x_j, y_j)\n",
    "$$\n",
    "\n",
    "$$\n",
    "\\widetilde{\\mathbf{K}}(\\mathbf{x}, \\mathbf{y}) = \\frac{\\mathbf{K}(\\mathbf{x}, \\mathbf{y})}{\\sqrt{\\mathbf{K}(\\mathbf{x}, \\mathbf{x})\n",
    "\\mathbf{K}(\\mathbf{y}, \\mathbf{y})}}\n",
    "$$\n",
    "\n",
    "Где под INK-spline ядром понимается $\\widetilde{\\mathbf{K}}$ и $y \\leq x$ без потери общности"
   ]
  },
  {
   "cell_type": "code",
   "execution_count": 9,
   "metadata": {
    "collapsed": false
   },
   "outputs": [
    {
     "ename": "SyntaxError",
     "evalue": "non-default argument follows default argument (<ipython-input-9-cc5605fb36fa>, line 17)",
     "output_type": "error",
     "traceback": [
      "\u001b[0;36m  File \u001b[0;32m\"<ipython-input-9-cc5605fb36fa>\"\u001b[0;36m, line \u001b[0;32m17\u001b[0m\n\u001b[0;31m    def ink(x: ndarray, y: ndarray, a: int = -3, degree: int) -> float:\u001b[0m\n\u001b[0m           ^\u001b[0m\n\u001b[0;31mSyntaxError\u001b[0m\u001b[0;31m:\u001b[0m non-default argument follows default argument\n"
     ]
    }
   ],
   "source": [
    "def _sort_xy(x: np.ndarray, y: np.ndarray):\n",
    "    matrix = np.vstack((x, y))\n",
    "    matrix = np.sort(matrix, axis=1)\n",
    "    y = matrix[0].copy()\n",
    "    x = matrix[1].copy()\n",
    "    return x, y\n",
    "\n",
    "def _K(x: np.ndarray, y: np.ndarray, a: int, degree: int) -> float:\n",
    "    S = np.zeros(x.shape[0])\n",
    "    a = np.zeros(x.shape[0]) + a\n",
    "    x, y = _sort_xy(x, y)\n",
    "    for r in range(degree + 1):\n",
    "        S += np.power(x - a, r)*np.power(y - a, r) +\\\n",
    "        1.0/(2 * degree - r + 1) * comb(degree, r)*np.power(x - y, r)*np.power(y - a, 2*d - r + 1)\n",
    "    return np.multiply.reduce(S)\n",
    "    \n",
    "\n",
    "def ink(x: ndarray, y: ndarray, degree: int, a: int = -3) -> float:\n",
    "    assert _is_integer(degree) and d > 0, \"Degree must be positive integer\"\n",
    "    assert isinstance(x, np.ndarray) and isinstance(y, ndarray), \"X and Y must be numpy arrays\"\n",
    "    assert len(x.shape) == len(y.shape) == 1, \"X and Y must have only one dimension\"\n",
    "    \n",
    "    return _K(x, y) / np.power(K(x, x) * K(x, y), 1/2)\n",
    "    \n",
    "    "
   ]
  }
 ],
 "metadata": {
  "kernelspec": {
   "display_name": "Python 3",
   "language": "python",
   "name": "python3"
  },
  "language_info": {
   "codemirror_mode": {
    "name": "ipython",
    "version": 3
   },
   "file_extension": ".py",
   "mimetype": "text/x-python",
   "name": "python",
   "nbconvert_exporter": "python",
   "pygments_lexer": "ipython3",
   "version": "3.5.1"
  }
 },
 "nbformat": 4,
 "nbformat_minor": 0
}

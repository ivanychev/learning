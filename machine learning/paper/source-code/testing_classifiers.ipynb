{
 "cells": [
  {
   "cell_type": "code",
   "execution_count": 5,
   "metadata": {
    "collapsed": true
   },
   "outputs": [],
   "source": [
    "import utils\n",
    "from utils import test_classifier\n",
    "from utils import test_classifiers\n",
    "from sklearn.preprocessing import StandardScaler\n",
    "import warnings\n",
    "import ink\n",
    "import numpy as np"
   ]
  },
  {
   "cell_type": "code",
   "execution_count": 7,
   "metadata": {
    "collapsed": true
   },
   "outputs": [],
   "source": [
    "def scale(X):\n",
    "    scaler = StandardScaler()\n",
    "    scaler.fit()\n",
    "    return scaler.transform(X)"
   ]
  },
  {
   "cell_type": "code",
   "execution_count": 15,
   "metadata": {
    "collapsed": false
   },
   "outputs": [
    {
     "name": "stdout",
     "output_type": "stream",
     "text": [
      "(506, 13)\n",
      "(506, 1)\n",
      "(1,)\n",
      "[-1.55784179]\n"
     ]
    }
   ],
   "source": [
    "clfs = utils.get_all_classifiers(spec_verbose=False)\n",
    "clf = clfs[4]\n",
    "\n",
    "X, y, _ = utils.get_dataset(\"housing\")\n",
    "train_idx = list(range(405))\n",
    "test_idx = list(range(405, 506))\n",
    "print(X.shape)\n",
    "X_sample = X[:, 2:3]\n",
    "X_train = scale(X_sample)\n",
    "print(X_train.shape)\n",
    "print(np.min(X_train, axis=0).shape)\n",
    "print(np.min(X_train, axis=0))"
   ]
  }
 ],
 "metadata": {
  "kernelspec": {
   "display_name": "Python 3",
   "language": "python",
   "name": "python3"
  },
  "language_info": {
   "codemirror_mode": {
    "name": "ipython",
    "version": 3
   },
   "file_extension": ".py",
   "mimetype": "text/x-python",
   "name": "python",
   "nbconvert_exporter": "python",
   "pygments_lexer": "ipython3",
   "version": "3.5.1"
  }
 },
 "nbformat": 4,
 "nbformat_minor": 0
}

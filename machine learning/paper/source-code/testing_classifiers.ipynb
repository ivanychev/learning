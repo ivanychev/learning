{
 "cells": [
  {
   "cell_type": "code",
   "execution_count": 1,
   "metadata": {
    "collapsed": false
   },
   "outputs": [],
   "source": [
    "import utils\n",
    "from utils import test_classifier\n",
    "from utils import test_classifiers\n",
    "from sklearn.preprocessing import StandardScaler\n",
    "import warnings\n",
    "import ink\n",
    "import numpy as np"
   ]
  },
  {
   "cell_type": "code",
   "execution_count": 2,
   "metadata": {
    "collapsed": true
   },
   "outputs": [],
   "source": [
    "def scale(X):\n",
    "    scaler = StandardScaler()\n",
    "    scaler.fit()\n",
    "    return scaler.transform(X)"
   ]
  },
  {
   "cell_type": "code",
   "execution_count": 3,
   "metadata": {
    "collapsed": false
   },
   "outputs": [
    {
     "name": "stdout",
     "output_type": "stream",
     "text": [
      "Testing heart dataset...\n",
      "Folds = 5, Folds type = simple\n",
      "Kernel type: linear\n",
      "Score = 0.834746, std = 0.052271\n",
      "Kernel type: poly, degree = 2\n",
      "Score = 0.558927, std = 0.040363\n",
      "Kernel type: poly, degree = 3\n",
      "Score = 0.740791, std = 0.059867\n",
      "Kernel type: poly, degree = 4\n",
      "Score = 0.565763, std = 0.052852\n",
      "Kernel type: ink, degree = 1, downer limit (a) = -3.000000\n",
      "Score = 0.824576, std = 0.051699\n",
      "Kernel type: ink, degree = 2, downer limit (a) = -3.000000\n",
      "Score = 0.827966, std = 0.050291\n",
      "Kernel type: rbf, gamma = 0.001000\n",
      "Score = 0.538701, std = 0.043448\n",
      "Kernel type: rbf, gamma = 0.001000\n",
      "Score = 0.538701, std = 0.043448\n",
      "Kernel type: rbf, gamma = 0.010000\n",
      "Score = 0.801186, std = 0.050049\n",
      "Kernel type: rbf, gamma = 0.100000\n",
      "Score = 0.814520, std = 0.063703\n",
      "Kernel type: rbf, gamma = 1.000000\n",
      "Score = 0.538701, std = 0.043448\n",
      "Kernel type: rbf, gamma = 10.000000\n",
      "Score = 0.538701, std = 0.043448\n",
      "Testing heart dataset finished\n",
      "\n",
      "Testing housing dataset...\n",
      "Folds = 5, Folds type = simple\n",
      "Kernel type: linear\n",
      "Score = 0.922966, std = 0.037146\n",
      "Kernel type: poly, degree = 2\n",
      "Score = 0.782566, std = 0.139095\n",
      "Kernel type: poly, degree = 3\n",
      "Score = 0.837934, std = 0.079374\n",
      "Kernel type: poly, degree = 4\n",
      "Score = 0.800330, std = 0.127095\n",
      "Kernel type: ink, degree = 1, downer limit (a) = -3.000000\n",
      "Score = 0.713221, std = 0.150411\n",
      "Kernel type: ink, degree = 2, downer limit (a) = -3.000000\n",
      "Score = 0.703359, std = 0.143612\n",
      "Kernel type: rbf, gamma = 0.001000\n",
      "Score = 0.754863, std = 0.174797\n",
      "Kernel type: rbf, gamma = 0.001000\n",
      "Score = 0.754863, std = 0.174797\n",
      "Kernel type: rbf, gamma = 0.010000\n",
      "Score = 0.754863, std = 0.174797\n",
      "Kernel type: rbf, gamma = 0.100000\n",
      "Score = 0.798292, std = 0.170744\n",
      "Kernel type: rbf, gamma = 1.000000\n",
      "Score = 0.754863, std = 0.174797\n",
      "Kernel type: rbf, gamma = 10.000000\n",
      "Score = 0.754863, std = 0.174797\n",
      "Testing housing dataset finished\n",
      "\n",
      "Testing wine dataset...\n",
      "Folds = 5, Folds type = simple\n",
      "Kernel type: linear\n",
      "Score = 0.743383, std = 0.043239\n",
      "Kernel type: poly, degree = 2\n",
      "Score = 0.674989, std = 0.046465\n",
      "Kernel type: poly, degree = 3\n",
      "Score = 0.711733, std = 0.043532\n",
      "Kernel type: poly, degree = 4\n",
      "Score = 0.685808, std = 0.046593\n",
      "Kernel type: ink, degree = 1, downer limit (a) = -3.000000\n",
      "Score = 0.751751, std = 0.040544\n",
      "Kernel type: ink, degree = 2, downer limit (a) = -3.000000\n",
      "Score = 0.741340, std = 0.044079\n",
      "Kernel type: rbf, gamma = 0.001000\n",
      "Score = 0.665193, std = 0.053552\n",
      "Kernel type: rbf, gamma = 0.001000\n",
      "Score = 0.665193, std = 0.053552\n",
      "Kernel type: rbf, gamma = 0.010000\n",
      "Score = 0.713781, std = 0.051388\n",
      "Kernel type: rbf, gamma = 0.100000\n",
      "Score = 0.751551, std = 0.042175\n",
      "Kernel type: rbf, gamma = 1.000000\n",
      "Score = 0.665193, std = 0.054213\n",
      "Kernel type: rbf, gamma = 10.000000\n",
      "Score = 0.665193, std = 0.053552\n",
      "Testing wine dataset finished\n",
      "\n",
      "Testing german dataset...\n",
      "Folds = 5, Folds type = simple\n",
      "Kernel type: linear\n",
      "Score = 0.757000, std = 0.026571\n",
      "Kernel type: poly, degree = 2\n",
      "Score = 0.700000, std = 0.031780\n",
      "Kernel type: poly, degree = 3\n",
      "Score = 0.703000, std = 0.030100\n",
      "Kernel type: poly, degree = 4\n",
      "Score = 0.701000, std = 0.031686\n",
      "Kernel type: ink, degree = 1, downer limit (a) = -3.000000\n",
      "Score = 0.700000, std = 0.029665\n",
      "Kernel type: ink, degree = 2, downer limit (a) = -3.000000\n",
      "Score = 0.700000, std = 0.029665\n",
      "Kernel type: rbf, gamma = 0.001000\n",
      "Score = 0.700000, std = 0.029665\n",
      "Kernel type: rbf, gamma = 0.001000\n",
      "Score = 0.700000, std = 0.029665\n",
      "Kernel type: rbf, gamma = 0.010000\n",
      "Score = 0.700000, std = 0.029665\n",
      "Kernel type: rbf, gamma = 0.100000\n",
      "Score = 0.700000, std = 0.029665\n",
      "Kernel type: rbf, gamma = 1.000000\n",
      "Score = 0.700000, std = 0.029665\n",
      "Kernel type: rbf, gamma = 10.000000\n",
      "Score = 0.700000, std = 0.029665\n",
      "Testing german dataset finished\n",
      "\n",
      "Testing spambase dataset...\n",
      "Folds = 5, Folds type = simple\n",
      "Kernel type: linear\n",
      "Score = 0.863304, std = 0.051944\n",
      "Kernel type: poly, degree = 2\n",
      "Score = 0.665365, std = 0.257980\n",
      "Kernel type: poly, degree = 3\n",
      "Score = 0.473420, std = 0.237048\n",
      "Kernel type: poly, degree = 4\n",
      "Score = 0.292342, std = 0.071175\n",
      "Kernel type: ink, degree = 1, downer limit (a) = -3.000000\n",
      "Score = 0.861144, std = 0.094748\n",
      "Kernel type: ink, degree = 2, downer limit (a) = -3.000000\n",
      "Score = 0.853757, std = 0.102646\n",
      "Kernel type: rbf, gamma = 0.001000\n",
      "Score = 0.692760, std = 0.293900\n",
      "Kernel type: rbf, gamma = 0.001000\n",
      "Score = 0.692760, std = 0.293900\n",
      "Kernel type: rbf, gamma = 0.010000\n",
      "Score = 0.834859, std = 0.129336\n",
      "Kernel type: rbf, gamma = 0.100000\n",
      "Score = 0.652343, std = 0.341608\n",
      "Kernel type: rbf, gamma = 1.000000\n",
      "Score = 0.233696, std = 0.383927\n",
      "Kernel type: rbf, gamma = 10.000000\n",
      "Score = 0.221087, std = 0.389703\n",
      "Testing spambase dataset finished\n",
      "\n"
     ]
    }
   ],
   "source": [
    "for key, val in utils.DATA_MODULES.items():\n",
    "    test_classifiers(key)"
   ]
  },
  {
   "cell_type": "code",
   "execution_count": 4,
   "metadata": {
    "collapsed": false
   },
   "outputs": [
    {
     "name": "stdout",
     "output_type": "stream",
     "text": [
      "[[-0.30846818  0.15054026 -1.10399643 -0.30756234  0.05126794  0.33352314\n",
      "   0.02485248 -0.03572686 -0.89119031 -0.43651821 -1.2319245   0.42111818\n",
      "  -0.93603973]]\n",
      "[[ 1.]]\n"
     ]
    }
   ],
   "source": [
    "clfs = utils.get_all_classifiers(spec_verbose=False)\n",
    "clf = clfs[4]\n",
    "\n",
    "X, y, _ = utils.get_dataset(\"housing\")\n",
    "train_idx = list(range(405))\n",
    "test_idx = list(range(405, 506))\n",
    "X_train, X_test = utils.scale(X, train_idx, test_idx)\n",
    "\n",
    "a = X_train[0:1, :]\n",
    "res = ink.get_sklearn_ink(degree=1, a=-3)(a, a)\n",
    "print(a)\n",
    "print(res)"
   ]
  },
  {
   "cell_type": "code",
   "execution_count": 5,
   "metadata": {
    "collapsed": false
   },
   "outputs": [
    {
     "data": {
      "text/plain": [
       "[['linear'],\n",
       " ['poly', 2],\n",
       " ['poly', 3],\n",
       " ['poly', 4],\n",
       " ['ink', 1, -3],\n",
       " ['ink', 2, -3],\n",
       " ['rbf', 0.001],\n",
       " ['rbf', 0.001],\n",
       " ['rbf', 0.01],\n",
       " ['rbf', 0.1],\n",
       " ['rbf', 1],\n",
       " ['rbf', 10]]"
      ]
     },
     "execution_count": 5,
     "metadata": {},
     "output_type": "execute_result"
    }
   ],
   "source": [
    "utils.get_classifier_specs()"
   ]
  },
  {
   "cell_type": "code",
   "execution_count": 6,
   "metadata": {
    "collapsed": false
   },
   "outputs": [
    {
     "ename": "SyntaxError",
     "evalue": "invalid syntax (<ipython-input-6-91c9d40df94c>, line 10)",
     "output_type": "error",
     "traceback": [
      "\u001b[0;36m  File \u001b[0;32m\"<ipython-input-6-91c9d40df94c>\"\u001b[0;36m, line \u001b[0;32m10\u001b[0m\n\u001b[0;31m    assert len(specs)=len(c), \"Specs and regularization constants arrays lengths don't match\"\u001b[0m\n\u001b[0m                     ^\u001b[0m\n\u001b[0;31mSyntaxError\u001b[0m\u001b[0;31m:\u001b[0m invalid syntax\n"
     ]
    }
   ],
   "source": []
  }
 ],
 "metadata": {
  "kernelspec": {
   "display_name": "Python 3",
   "language": "python",
   "name": "python3"
  },
  "language_info": {
   "codemirror_mode": {
    "name": "ipython",
    "version": 3
   },
   "file_extension": ".py",
   "mimetype": "text/x-python",
   "name": "python",
   "nbconvert_exporter": "python",
   "pygments_lexer": "ipython3",
   "version": "3.5.1"
  }
 },
 "nbformat": 4,
 "nbformat_minor": 0
}

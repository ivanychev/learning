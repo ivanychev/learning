{
 "cells": [
  {
   "cell_type": "markdown",
   "metadata": {},
   "source": [
    "# One more thing"
   ]
  },
  {
   "cell_type": "code",
   "execution_count": 2,
   "metadata": {
    "collapsed": false
   },
   "outputs": [],
   "source": [
    "import pandas as pd\n",
    "import numpy as np\n",
    "import matplotlib.pylab as pl\n",
    "from sklearn.ensemble import GradientBoostingClassifier\n",
    "from sklearn.metrics import roc_auc_score\n",
    "from sklearn.cross_validation import KFold\n",
    "import time\n",
    "from functools import partial\n",
    "import datetime\n",
    "from sklearn.preprocessing import StandardScaler\n",
    "from sklearn.linear_model import LogisticRegression\n",
    "from scipy.optimize import minimize_scalar\n",
    "%matplotlib inline"
   ]
  },
  {
   "cell_type": "code",
   "execution_count": 3,
   "metadata": {
    "collapsed": false
   },
   "outputs": [
    {
     "data": {
      "text/html": [
       "<div>\n",
       "<table border=\"1\" class=\"dataframe\">\n",
       "  <thead>\n",
       "    <tr style=\"text-align: right;\">\n",
       "      <th></th>\n",
       "      <th>start_time</th>\n",
       "      <th>lobby_type</th>\n",
       "      <th>r1_hero</th>\n",
       "      <th>r1_level</th>\n",
       "      <th>r1_xp</th>\n",
       "      <th>r1_gold</th>\n",
       "      <th>r1_lh</th>\n",
       "      <th>r1_kills</th>\n",
       "      <th>r1_deaths</th>\n",
       "      <th>r1_items</th>\n",
       "      <th>...</th>\n",
       "      <th>radiant_ward_sentry_count</th>\n",
       "      <th>radiant_first_ward_time</th>\n",
       "      <th>dire_bottle_time</th>\n",
       "      <th>dire_courier_time</th>\n",
       "      <th>dire_flying_courier_time</th>\n",
       "      <th>dire_tpscroll_count</th>\n",
       "      <th>dire_boots_count</th>\n",
       "      <th>dire_ward_observer_count</th>\n",
       "      <th>dire_ward_sentry_count</th>\n",
       "      <th>dire_first_ward_time</th>\n",
       "    </tr>\n",
       "    <tr>\n",
       "      <th>match_id</th>\n",
       "      <th></th>\n",
       "      <th></th>\n",
       "      <th></th>\n",
       "      <th></th>\n",
       "      <th></th>\n",
       "      <th></th>\n",
       "      <th></th>\n",
       "      <th></th>\n",
       "      <th></th>\n",
       "      <th></th>\n",
       "      <th></th>\n",
       "      <th></th>\n",
       "      <th></th>\n",
       "      <th></th>\n",
       "      <th></th>\n",
       "      <th></th>\n",
       "      <th></th>\n",
       "      <th></th>\n",
       "      <th></th>\n",
       "      <th></th>\n",
       "      <th></th>\n",
       "    </tr>\n",
       "  </thead>\n",
       "  <tbody>\n",
       "    <tr>\n",
       "      <th>6</th>\n",
       "      <td>1430287923</td>\n",
       "      <td>0</td>\n",
       "      <td>93</td>\n",
       "      <td>4</td>\n",
       "      <td>1103</td>\n",
       "      <td>1089</td>\n",
       "      <td>8</td>\n",
       "      <td>0</td>\n",
       "      <td>1</td>\n",
       "      <td>9</td>\n",
       "      <td>...</td>\n",
       "      <td>0</td>\n",
       "      <td>12</td>\n",
       "      <td>247</td>\n",
       "      <td>-86</td>\n",
       "      <td>272</td>\n",
       "      <td>3</td>\n",
       "      <td>4</td>\n",
       "      <td>2</td>\n",
       "      <td>0</td>\n",
       "      <td>118</td>\n",
       "    </tr>\n",
       "    <tr>\n",
       "      <th>7</th>\n",
       "      <td>1430293357</td>\n",
       "      <td>1</td>\n",
       "      <td>20</td>\n",
       "      <td>2</td>\n",
       "      <td>556</td>\n",
       "      <td>570</td>\n",
       "      <td>1</td>\n",
       "      <td>0</td>\n",
       "      <td>0</td>\n",
       "      <td>9</td>\n",
       "      <td>...</td>\n",
       "      <td>2</td>\n",
       "      <td>-29</td>\n",
       "      <td>168</td>\n",
       "      <td>-54</td>\n",
       "      <td>NaN</td>\n",
       "      <td>3</td>\n",
       "      <td>2</td>\n",
       "      <td>2</td>\n",
       "      <td>1</td>\n",
       "      <td>16</td>\n",
       "    </tr>\n",
       "    <tr>\n",
       "      <th>10</th>\n",
       "      <td>1430301774</td>\n",
       "      <td>1</td>\n",
       "      <td>112</td>\n",
       "      <td>2</td>\n",
       "      <td>751</td>\n",
       "      <td>808</td>\n",
       "      <td>1</td>\n",
       "      <td>0</td>\n",
       "      <td>0</td>\n",
       "      <td>13</td>\n",
       "      <td>...</td>\n",
       "      <td>1</td>\n",
       "      <td>-22</td>\n",
       "      <td>46</td>\n",
       "      <td>-87</td>\n",
       "      <td>186</td>\n",
       "      <td>1</td>\n",
       "      <td>3</td>\n",
       "      <td>3</td>\n",
       "      <td>0</td>\n",
       "      <td>-34</td>\n",
       "    </tr>\n",
       "    <tr>\n",
       "      <th>13</th>\n",
       "      <td>1430323933</td>\n",
       "      <td>1</td>\n",
       "      <td>27</td>\n",
       "      <td>3</td>\n",
       "      <td>708</td>\n",
       "      <td>903</td>\n",
       "      <td>1</td>\n",
       "      <td>1</td>\n",
       "      <td>1</td>\n",
       "      <td>11</td>\n",
       "      <td>...</td>\n",
       "      <td>2</td>\n",
       "      <td>-49</td>\n",
       "      <td>30</td>\n",
       "      <td>-89</td>\n",
       "      <td>210</td>\n",
       "      <td>3</td>\n",
       "      <td>4</td>\n",
       "      <td>2</td>\n",
       "      <td>1</td>\n",
       "      <td>-26</td>\n",
       "    </tr>\n",
       "    <tr>\n",
       "      <th>16</th>\n",
       "      <td>1430331112</td>\n",
       "      <td>1</td>\n",
       "      <td>39</td>\n",
       "      <td>4</td>\n",
       "      <td>1259</td>\n",
       "      <td>661</td>\n",
       "      <td>4</td>\n",
       "      <td>0</td>\n",
       "      <td>0</td>\n",
       "      <td>9</td>\n",
       "      <td>...</td>\n",
       "      <td>0</td>\n",
       "      <td>36</td>\n",
       "      <td>180</td>\n",
       "      <td>-86</td>\n",
       "      <td>180</td>\n",
       "      <td>1</td>\n",
       "      <td>3</td>\n",
       "      <td>2</td>\n",
       "      <td>1</td>\n",
       "      <td>-33</td>\n",
       "    </tr>\n",
       "  </tbody>\n",
       "</table>\n",
       "<p>5 rows × 102 columns</p>\n",
       "</div>"
      ],
      "text/plain": [
       "          start_time  lobby_type  r1_hero  r1_level  r1_xp  r1_gold  r1_lh  \\\n",
       "match_id                                                                     \n",
       "6         1430287923           0       93         4   1103     1089      8   \n",
       "7         1430293357           1       20         2    556      570      1   \n",
       "10        1430301774           1      112         2    751      808      1   \n",
       "13        1430323933           1       27         3    708      903      1   \n",
       "16        1430331112           1       39         4   1259      661      4   \n",
       "\n",
       "          r1_kills  r1_deaths  r1_items          ...           \\\n",
       "match_id                                         ...            \n",
       "6                0          1         9          ...            \n",
       "7                0          0         9          ...            \n",
       "10               0          0        13          ...            \n",
       "13               1          1        11          ...            \n",
       "16               0          0         9          ...            \n",
       "\n",
       "          radiant_ward_sentry_count  radiant_first_ward_time  \\\n",
       "match_id                                                       \n",
       "6                                 0                       12   \n",
       "7                                 2                      -29   \n",
       "10                                1                      -22   \n",
       "13                                2                      -49   \n",
       "16                                0                       36   \n",
       "\n",
       "          dire_bottle_time  dire_courier_time  dire_flying_courier_time  \\\n",
       "match_id                                                                  \n",
       "6                      247                -86                       272   \n",
       "7                      168                -54                       NaN   \n",
       "10                      46                -87                       186   \n",
       "13                      30                -89                       210   \n",
       "16                     180                -86                       180   \n",
       "\n",
       "          dire_tpscroll_count  dire_boots_count  dire_ward_observer_count  \\\n",
       "match_id                                                                    \n",
       "6                           3                 4                         2   \n",
       "7                           3                 2                         2   \n",
       "10                          1                 3                         3   \n",
       "13                          3                 4                         2   \n",
       "16                          1                 3                         2   \n",
       "\n",
       "          dire_ward_sentry_count  dire_first_ward_time  \n",
       "match_id                                                \n",
       "6                              0                   118  \n",
       "7                              1                    16  \n",
       "10                             0                   -34  \n",
       "13                             1                   -26  \n",
       "16                             1                   -33  \n",
       "\n",
       "[5 rows x 102 columns]"
      ]
     },
     "execution_count": 3,
     "metadata": {},
     "output_type": "execute_result"
    }
   ],
   "source": [
    "features = pd.read_csv('./features.csv', index_col='match_id')\n",
    "features_test = pd.read_csv('./features_test.csv', index_col='match_id')\n",
    "features_copy = features.copy()\n",
    "features_test_copy = features_test.copy()\n",
    "features_test.head()"
   ]
  },
  {
   "cell_type": "markdown",
   "metadata": {},
   "source": [
    "## Подход 1: градиентный бустинг \"в лоб\""
   ]
  },
  {
   "cell_type": "markdown",
   "metadata": {},
   "source": [
    "### Удаляем столбцы, связанные с итогами матча"
   ]
  },
  {
   "cell_type": "code",
   "execution_count": 4,
   "metadata": {
    "collapsed": false
   },
   "outputs": [],
   "source": [
    "MATCH_RESULT_COLUMNS = [\"tower_status_radiant\", \n",
    "                        \"tower_status_dire\", \n",
    "                        \"barracks_status_radiant\", \n",
    "                        \"barracks_status_dire\",\n",
    "                        \"duration\"]\n",
    "features.drop(MATCH_RESULT_COLUMNS, axis=1, inplace=True)"
   ]
  },
  {
   "cell_type": "markdown",
   "metadata": {},
   "source": [
    "### Проверяем наличие пропусков"
   ]
  },
  {
   "cell_type": "code",
   "execution_count": 5,
   "metadata": {
    "collapsed": false
   },
   "outputs": [
    {
     "name": "stdout",
     "output_type": "stream",
     "text": [
      "['first_blood_time' 'first_blood_team' 'first_blood_player1'\n",
      " 'first_blood_player2' 'radiant_bottle_time' 'radiant_courier_time'\n",
      " 'radiant_flying_courier_time' 'radiant_first_ward_time' 'dire_bottle_time'\n",
      " 'dire_courier_time' 'dire_flying_courier_time' 'dire_first_ward_time']\n"
     ]
    }
   ],
   "source": [
    "def get_columns_with_na(df):\n",
    "    missed = df.shape[0] - df.count()\n",
    "    missed_labels = missed.index.values[missed.values > 0]\n",
    "    return missed_labels\n",
    "\n",
    "print(get_columns_with_na(features))"
   ]
  },
  {
   "cell_type": "markdown",
   "metadata": {},
   "source": [
    ">  Запишите названия признаков, имеющих пропуски, и попробуйте для любых двух из них дать обоснование, почему их значения могут быть пропущены\n",
    "\n",
    "* `first_blood_player1` - возможны игроки, которые за первые пять минут не убили ни одного противника\n",
    "* `dire_bottle_time` - dire не покупали bottle за первые пять минут"
   ]
  },
  {
   "cell_type": "markdown",
   "metadata": {},
   "source": [
    "### Заполняем пропуски"
   ]
  },
  {
   "cell_type": "code",
   "execution_count": 6,
   "metadata": {
    "collapsed": false
   },
   "outputs": [],
   "source": [
    "def fill_na_calc_jumps(df, method, columns):\n",
    "    jumps = pd.Series()\n",
    "    for column in columns:\n",
    "        jumps[column] = (method == \"big\")   * (df[column].max() + 5 * df[column].std()) +\\\n",
    "                        (method == \"small\") * (df[column].min() - 5 * df[column].std()) +\\\n",
    "                        (method == \"zero\")  * (0)\n",
    "    return jumps\n",
    "\n",
    "def fill_na(df, method, jumps=None):\n",
    "    \"\"\"\n",
    "    method \\in [\"zero\", \"big\", \"small\"]\n",
    "    \"\"\"\n",
    "    columns = get_columns_with_na(df)\n",
    "    if not isinstance(jumps, pd.Series):\n",
    "        jumps = fill_na_calc_jumps(df, method, columns)\n",
    "    for column in columns:\n",
    "        df[column] = df[column].fillna(jumps[column])\n",
    "    return df, jumps"
   ]
  },
  {
   "cell_type": "code",
   "execution_count": 7,
   "metadata": {
    "collapsed": false
   },
   "outputs": [
    {
     "name": "stdout",
     "output_type": "stream",
     "text": [
      "<class 'pandas.core.frame.DataFrame'>\n"
     ]
    }
   ],
   "source": [
    "print(type(features_test))\n",
    "features, f_jumps = fill_na(features, \"zero\")\n",
    "features_test, ft_jumps = fill_na(features_test, \"zero\", f_jumps)"
   ]
  },
  {
   "cell_type": "markdown",
   "metadata": {},
   "source": [
    "### Целевая переменная"
   ]
  },
  {
   "cell_type": "code",
   "execution_count": 8,
   "metadata": {
    "collapsed": false
   },
   "outputs": [],
   "source": [
    "target = \"radiant_win\"\n",
    "\n",
    "def get_train_test(df_train, df_test, target_column):\n",
    "    train_columns = list(df_train.columns.values)\n",
    "    train_columns.remove(target_column)\n",
    "    assert train_columns == list(df_test.columns.values)\n",
    "    X_train = df_train[train_columns].as_matrix()\n",
    "    X_test = df_test[train_columns].as_matrix()\n",
    "    y_train = df_train[target_column].as_matrix()\n",
    "    return X_train, y_train, X_test\n",
    "    \n",
    "X_train, y_train, X_test = get_train_test(features, features_test, target)"
   ]
  },
  {
   "cell_type": "markdown",
   "metadata": {},
   "source": [
    "### Обучаем градиентный бустинг"
   ]
  },
  {
   "cell_type": "code",
   "execution_count": 8,
   "metadata": {
    "collapsed": false
   },
   "outputs": [
    {
     "name": "stdout",
     "output_type": "stream",
     "text": [
      "CPU times: user 44 s, sys: 635 ms, total: 44.6 s\n",
      "Wall time: 44.9 s\n",
      "trees = 10, score = 0.665132\n",
      "CPU times: user 1min 2s, sys: 673 ms, total: 1min 3s\n",
      "Wall time: 1min 3s\n",
      "trees = 15, score = 0.676325\n",
      "CPU times: user 1min 20s, sys: 744 ms, total: 1min 21s\n",
      "Wall time: 1min 22s\n",
      "trees = 20, score = 0.681743\n",
      "CPU times: user 1min 41s, sys: 925 ms, total: 1min 42s\n",
      "Wall time: 1min 43s\n",
      "trees = 25, score = 0.686081\n",
      "CPU times: user 2min 11s, sys: 1.41 s, total: 2min 12s\n",
      "Wall time: 2min 13s\n",
      "trees = 30, score = 0.689488\n"
     ]
    }
   ],
   "source": [
    "def test_boosting(X_train, y_train, X_test, ntrees, bins=5, learning_rate=0.1):\n",
    "    split = KFold(X_train.shape[0], bins, shuffle=True)\n",
    "    clf = GradientBoostingClassifier(n_estimators=ntrees, verbose=False, learning_rate=learning_rate)\n",
    "    scores = []\n",
    "    for itrain, itest in split:\n",
    "        clf.fit(X_train[itrain], y_train[itrain])\n",
    "        pred = clf.predict_proba(X_train[itest])[:, 1]\n",
    "        score = roc_auc_score(y_train[itest], pred)\n",
    "        scores.append(score)\n",
    "    return sum(scores)/len(scores)\n",
    "\n",
    "for trees in range(10, 31, 5):\n",
    "    %time score = test_boosting(X_train, y_train, X_test, trees)\n",
    "    print(\"trees = %d, score = %f\" %(trees, score))"
   ]
  },
  {
   "cell_type": "markdown",
   "metadata": {},
   "source": [
    "### Отчет\n",
    "\n",
    "1. [Пропуски и что они могут означать](#Проверяем-наличие-пропусков)\n",
    "2. [Целевая переменная](#Целевая-переменная)\n",
    "3. [Время кросс-валидации для 30-ти деревьев (внизу) и соответствующее качество](#Обучаем-градиентный-бустинг)\n",
    "4. Согласно скорам из предыдущего пункта наращивание количества деревьев мало влияет на результат"
   ]
  },
  {
   "cell_type": "markdown",
   "metadata": {},
   "source": [
    "## Логистическая регрессия"
   ]
  },
  {
   "cell_type": "markdown",
   "metadata": {},
   "source": [
    "### Преобразуем признаки"
   ]
  },
  {
   "cell_type": "code",
   "execution_count": 9,
   "metadata": {
    "collapsed": false
   },
   "outputs": [],
   "source": [
    "scaler = StandardScaler()\n",
    "X_train = scaler.fit_transform(X_train)"
   ]
  },
  {
   "cell_type": "code",
   "execution_count": 10,
   "metadata": {
    "collapsed": true
   },
   "outputs": [],
   "source": [
    "X_test = scaler.transform(X_test)"
   ]
  },
  {
   "cell_type": "code",
   "execution_count": 11,
   "metadata": {
    "collapsed": false
   },
   "outputs": [
    {
     "name": "stdout",
     "output_type": "stream",
     "text": [
      "CPU times: user 14.6 s, sys: 561 ms, total: 15.2 s\n",
      "Wall time: 15.3 s\n",
      "3.88146351138 0.716273195058\n",
      "CPU times: user 12.3 s, sys: 397 ms, total: 12.7 s\n",
      "Wall time: 12.7 s\n",
      "6.21853648862 0.716273022396\n",
      "CPU times: user 12.8 s, sys: 455 ms, total: 13.2 s\n",
      "Wall time: 13.3 s\n",
      "2.43707297725 0.716273333969\n",
      "CPU times: user 13.7 s, sys: 513 ms, total: 14.2 s\n",
      "Wall time: 14.3 s\n",
      "1.54439053413 0.716273366717\n",
      "CPU times: user 15.1 s, sys: 602 ms, total: 15.7 s\n",
      "Wall time: 15.8 s\n",
      "1.27011729172 0.716273536204\n",
      "CPU times: user 14.7 s, sys: 558 ms, total: 15.2 s\n",
      "Wall time: 15.4 s\n",
      "0.823172257107 0.716273632731\n",
      "CPU times: user 15.5 s, sys: 625 ms, total: 16.1 s\n",
      "Wall time: 16.3 s\n",
      "0.852898553624 0.716273657141\n",
      "CPU times: user 13.5 s, sys: 498 ms, total: 14 s\n",
      "Wall time: 14.1 s\n",
      "1.00320450346 0.716273621067\n",
      "CPU times: user 13.2 s, sys: 492 ms, total: 13.7 s\n",
      "Wall time: 13.9 s\n",
      "0.910310317752 0.716273566047\n",
      "CPU times: user 14.4 s, sys: 569 ms, total: 15 s\n",
      "Wall time: 15.2 s\n",
      "0.907692407353 0.716273580878\n",
      "CPU times: user 12.4 s, sys: 418 ms, total: 12.8 s\n",
      "Wall time: 12.9 s\n",
      "0.873827943374 0.71627365716\n",
      "CPU times: user 11.4 s, sys: 357 ms, total: 11.8 s\n",
      "Wall time: 11.8 s\n",
      "0.863390939243 0.716273641261\n",
      "CPU times: user 11.6 s, sys: 373 ms, total: 12 s\n",
      "Wall time: 12.1 s\n",
      "0.886763017603 0.716273629605\n",
      "CPU times: user 12.5 s, sys: 469 ms, total: 13 s\n",
      "Wall time: 13.1 s\n",
      "0.878768702082 0.716273653974\n",
      "CPU times: user 14.1 s, sys: 508 ms, total: 14.6 s\n",
      "Wall time: 14.7 s\n",
      "0.869841362537 0.716273625373\n",
      "CPU times: user 12.7 s, sys: 486 ms, total: 13.2 s\n",
      "Wall time: 13.3 s\n",
      "0.87571514527 0.716273667744\n",
      "CPU times: user 12.3 s, sys: 425 ms, total: 12.7 s\n",
      "Wall time: 12.8 s\n",
      "0.876881500186 0.716273674096\n",
      "CPU times: user 12.5 s, sys: 451 ms, total: 12.9 s\n",
      "Wall time: 13 s\n",
      "0.877602347167 0.716273666683\n",
      "CPU times: user 11.5 s, sys: 366 ms, total: 11.9 s\n",
      "Wall time: 11.9 s\n",
      "0.876625047403 0.716273675155\n",
      "CPU times: user 11.4 s, sys: 350 ms, total: 11.7 s\n",
      "Wall time: 11.8 s\n",
      "0.876557150338 0.716273676215\n",
      "CPU times: user 11.4 s, sys: 344 ms, total: 11.7 s\n",
      "Wall time: 11.8 s\n",
      "0.876235533021 0.716273674096\n",
      "CPU times: user 12.3 s, sys: 427 ms, total: 12.7 s\n",
      "Wall time: 12.8 s\n",
      "0.876434303454 0.716273677274\n",
      "CPU times: user 15.9 s, sys: 615 ms, total: 16.5 s\n",
      "Wall time: 16.8 s\n",
      "0.876378092516 0.716273675155\n",
      "CPU times: user 14.4 s, sys: 531 ms, total: 15 s\n",
      "Wall time: 15.1 s\n",
      "0.876479059721 0.716273678333\n",
      "CPU times: user 14.2 s, sys: 523 ms, total: 14.7 s\n",
      "Wall time: 14.8 s\n",
      "0.87648529653 0.716273677274\n",
      "CPU times: user 12 s, sys: 402 ms, total: 12.4 s\n",
      "Wall time: 12.5 s\n",
      "0.876459799992 0.716273676214\n",
      "CPU times: user 13.7 s, sys: 452 ms, total: 14.2 s\n",
      "Wall time: 14.3 s\n",
      "0.876471703159 0.716273677273\n",
      "CPU times: user 13.8 s, sys: 450 ms, total: 14.3 s\n",
      "Wall time: 14.5 s\n",
      "0.876475713387 0.716273677273\n"
     ]
    }
   ],
   "source": [
    "split = KFold(X_train.shape[0], 5, shuffle=True)\n",
    "def test_logregr(X_train, y_train, X_test, C=1.0, bins=5):\n",
    "    clf = LogisticRegression(penalty='l2', C=C, n_jobs=-1)   \n",
    "#     split = KFold(X_train.shape[0], bins, shuffle=True)\n",
    "    scores = []\n",
    "    for itrain, itest in split:\n",
    "        clf.fit(X_train[itrain], y_train[itrain])\n",
    "        pred = clf.predict_proba(X_train[itest])[:, 1]\n",
    "        score = roc_auc_score(y_train[itest], pred)\n",
    "        scores.append(score)\n",
    "    return sum(scores)/len(scores)\n",
    "\n",
    "def _test_logregr(C):\n",
    "    res = %time -1.0 * test_logregr(X_train, y_train, X_test, C)\n",
    "    print(C, -res)\n",
    "    return res\n",
    "\n",
    "solution = minimize_scalar(_test_logregr, bounds=(0.1, 10), method='bounded')"
   ]
  },
  {
   "cell_type": "code",
   "execution_count": 12,
   "metadata": {
    "collapsed": false,
    "scrolled": true
   },
   "outputs": [],
   "source": [
    "C = solution.x"
   ]
  },
  {
   "cell_type": "markdown",
   "metadata": {},
   "source": [
    "В результате двух вызовов оптимизации получили 0.1 и 3.9 с примерно одинаковыми значениями score. Поэтому параметр регуляризации не особо влияет на score. Логистическая регрессия обучается на порядок быстрее, чем градиентный бустинг. score выше примерно на 5 процентов. Попробуем улучшить результат регрессии, убрав категориальные признаки."
   ]
  },
  {
   "cell_type": "markdown",
   "metadata": {},
   "source": [
    "### Удаляем категориальные признаки"
   ]
  },
  {
   "cell_type": "code",
   "execution_count": 11,
   "metadata": {
    "collapsed": false
   },
   "outputs": [],
   "source": [
    "categorial = [\"lobby_type\", \n",
    "              \"r1_hero\", \n",
    "              \"r2_hero\", \n",
    "              \"r3_hero\", \n",
    "              \"r4_hero\", \n",
    "              \"r5_hero\", \n",
    "              \"d1_hero\", \n",
    "              \"d2_hero\", \n",
    "              \"d3_hero\", \n",
    "              \"d4_hero\", \n",
    "              \"d5_hero\"]\n",
    "features_test = features_test.drop(categorial, axis=1)\n",
    "features = features.drop(categorial, axis=1)\n",
    "X_train, y_train, X_test = get_train_test(features, features_test, target)\n",
    "X_train = scaler.fit_transform(X_train)\n",
    "X_test = scaler.transform(X_test)"
   ]
  },
  {
   "cell_type": "code",
   "execution_count": null,
   "metadata": {
    "collapsed": false
   },
   "outputs": [],
   "source": [
    "split = KFold(X_train.shape[0], 5, shuffle=True)\n",
    "def test_logregr(X_train, y_train, X_test, C=1.0, bins=5):\n",
    "    clf = LogisticRegression(penalty='l2', C=C, n_jobs=-1)   \n",
    "#     split = KFold(X_train.shape[0], bins, shuffle=True)\n",
    "    scores = []\n",
    "    for itrain, itest in split:\n",
    "        clf.fit(X_train[itrain], y_train[itrain])\n",
    "        pred = clf.predict_proba(X_train[itest])[:, 1]\n",
    "        score = roc_auc_score(y_train[itest], pred)\n",
    "        scores.append(score)\n",
    "    return sum(scores)/len(scores)\n",
    "\n",
    "def _test_logregr(C):\n",
    "    res = %time -1.0 * test_logregr(X_train, y_train, X_test, C)\n",
    "    print(C, -res)\n",
    "    return res\n",
    "\n",
    "solution = minimize_scalar(_test_logregr, bounds=(0.1, 10), method='bounded')"
   ]
  },
  {
   "cell_type": "markdown",
   "metadata": {},
   "source": [
    "При обучении номинальные признаки и так игнорируются, что наглядно показывается с помощью `clf.coef_`. Качество не изменилось."
   ]
  },
  {
   "cell_type": "markdown",
   "metadata": {},
   "source": [
    "### Идентификаторы героев"
   ]
  },
  {
   "cell_type": "code",
   "execution_count": 16,
   "metadata": {
    "collapsed": false
   },
   "outputs": [],
   "source": [
    "features = features_copy\n",
    "features_test = features_test_copy\n",
    "features.drop(MATCH_RESULT_COLUMNS, axis=1, inplace=True)\n",
    "features, f_jumps = fill_na(features, \"zero\")\n",
    "features_test, ft_jumps = fill_na(features_test, \"zero\", f_jumps)"
   ]
  },
  {
   "cell_type": "code",
   "execution_count": 17,
   "metadata": {
    "collapsed": true
   },
   "outputs": [],
   "source": [
    "X_train, y_train, X_test = get_train_test(features, features_test, target)"
   ]
  },
  {
   "cell_type": "code",
   "execution_count": 18,
   "metadata": {
    "collapsed": false
   },
   "outputs": [
    {
     "name": "stdout",
     "output_type": "stream",
     "text": [
      "112\n"
     ]
    }
   ],
   "source": [
    "heroes      = [\"r1_hero\", \n",
    "              \"r2_hero\", \n",
    "              \"r3_hero\", \n",
    "              \"r4_hero\", \n",
    "              \"r5_hero\", \n",
    "              \"d1_hero\", \n",
    "              \"d2_hero\", \n",
    "              \"d3_hero\", \n",
    "              \"d4_hero\", \n",
    "              \"d5_hero\"]\n",
    "ids = None\n",
    "for num in heroes:\n",
    "    ids_current = features[num].unique()\n",
    "    if ids is None:\n",
    "        ids = ids_current\n",
    "    else:\n",
    "        np.concatenate((ids, ids_current), axis=0)\n",
    "ids = np.sort(ids)\n",
    "ids_num = ids[-1]\n",
    "print(ids_num)"
   ]
  },
  {
   "cell_type": "code",
   "execution_count": 19,
   "metadata": {
    "collapsed": false
   },
   "outputs": [],
   "source": [
    "X_pick = np.zeros((features.shape[0], ids_num))\n",
    "X_pick_test = np.zeros((features_test.shape[0], ids_num))\n",
    "for i, match_id in enumerate(features.index):\n",
    "    for p in range(5):\n",
    "        X_pick[i, features.ix[match_id, 'r%d_hero' % (p+1)]-1] = 1\n",
    "        X_pick[i, features.ix[match_id, 'd%d_hero' % (p+1)]-1] = -1\n",
    "for i, match_id in enumerate(features_test.index):\n",
    "    for p in range(5):\n",
    "        X_pick_test[i, features_test.ix[match_id, 'r%d_hero' % (p+1)]-1] = 1\n",
    "        X_pick_test[i, features_test.ix[match_id, 'd%d_hero' % (p+1)]-1] = -1"
   ]
  },
  {
   "cell_type": "code",
   "execution_count": 20,
   "metadata": {
    "collapsed": true
   },
   "outputs": [],
   "source": [
    "X_test = np.concatenate((X_test, X_pick_test), axis=1)\n",
    "X_train = np.concatenate((X_train, X_pick), axis=1)"
   ]
  },
  {
   "cell_type": "code",
   "execution_count": 21,
   "metadata": {
    "collapsed": false
   },
   "outputs": [
    {
     "name": "stdout",
     "output_type": "stream",
     "text": [
      "[[ 0.04589563 -0.00677798  0.0139267   0.01463089  0.07224463  0.196151\n",
      "   0.22774778 -0.04761809 -0.05411918  0.04318361 -0.00910018  0.02027218\n",
      "   0.07330509  0.21985558  0.20246897 -0.05564847 -0.06509896  0.03108239\n",
      "   0.00615267  0.0118183   0.07900521  0.18353214  0.21454902 -0.05271359\n",
      "  -0.06608509  0.04830959  0.01002317  0.01974143  0.08860139  0.17487593\n",
      "   0.22690436 -0.04805885 -0.0712373   0.03555884 -0.00609838  0.04934023\n",
      "   0.05944213  0.17214197  0.22453754 -0.05080782 -0.0716725   0.04455671\n",
      "  -0.01217981 -0.03538618 -0.0811837  -0.19530937 -0.20633109  0.05181034\n",
      "   0.06516805 -0.03012053 -0.00893486 -0.01792977 -0.09984168 -0.20177528\n",
      "  -0.21645956  0.0542142   0.0644005  -0.04266554 -0.01682118  0.01158383\n",
      "  -0.14222328 -0.14857558 -0.22073434  0.03236842  0.05736013 -0.03973225\n",
      "  -0.00107517 -0.0208834  -0.07815516 -0.19697329 -0.21864848  0.04913313\n",
      "   0.06553626 -0.03840884 -0.00485074 -0.00296552 -0.13433469 -0.17090173\n",
      "  -0.21035697  0.05250273  0.07163716 -0.04995344  0.00274251  0.01110058\n",
      "   0.00538845 -0.03788117 -0.00446615 -0.03236885  0.03183643 -0.04444512\n",
      "   0.02411533 -0.01039848  0.00496161 -0.04286539  0.01466243  0.02589088\n",
      "  -0.00822873  0.04432903 -0.01633978  0.00851883 -0.00118672  0.03288537\n",
      "   0.03858121 -0.13998674 -0.06698648 -0.01123591  0.02899402  0.03025238\n",
      "   0.15069938  0.05740765 -0.00291159 -0.01134958  0.05261701 -0.01471279\n",
      "  -0.09407408  0.01517572 -0.03722598  0.00373071 -0.02891642  0.01917033\n",
      "   0.02556819  0.01467406 -0.1103903   0.08231664 -0.00082398  0.\n",
      "  -0.16135057 -0.07066887 -0.00210543  0.09461503 -0.00610408  0.01972954\n",
      "   0.02449014  0.05238062 -0.06747709 -0.0287216  -0.01953816  0.025887\n",
      "   0.01413543  0.02996352 -0.22389391  0.03254748 -0.04689148  0.10756213\n",
      "  -0.01941884  0.00084591 -0.00441597 -0.0189035  -0.11995487  0.01579353\n",
      "   0.02835312 -0.01389848  0.01895831  0.05186307 -0.03869249 -0.02848778\n",
      "  -0.08353023 -0.00961276  0.13655564 -0.03907828  0.00851764  0.01466525\n",
      "  -0.0513204   0.04897107 -0.02497972 -0.01932123 -0.00672463 -0.02737231\n",
      "   0.16821055 -0.01473972  0.08087671  0.04461603  0.12455273  0.00412914\n",
      "   0.04830928 -0.01577894 -0.02515843 -0.06337795  0.03661234 -0.00080168\n",
      "  -0.03690481 -0.01923391  0.00081723  0.03942687  0.01409435 -0.01568233\n",
      "   0.04107745 -0.06994487 -0.03898396  0.00663402 -0.00747745 -0.01189762\n",
      "   0.04037469  0.02193208  0.02883418  0.04020759 -0.02252352  0.00917081\n",
      "  -0.0380473  -0.02656735 -0.07086403  0.05720806 -0.08720583  0.06678226\n",
      "   0.02184943 -0.04953608  0.00587511  0.0096799   0.          0.\n",
      "  -0.00736116  0.03940799  0.         -0.00328789]]\n",
      "[[  4.35544264e-02  -3.62668634e-03   1.72728314e-02  -1.72468027e-02\n",
      "    8.54539569e-02   2.04318179e-01   2.23287868e-01  -3.24537992e-02\n",
      "   -5.11261629e-02   3.79769165e-02  -1.25561726e-02   1.91724387e-02\n",
      "    5.81688836e-02   1.98772930e-01   2.30935270e-01  -3.86627459e-02\n",
      "   -4.87462740e-02   2.56820586e-02   1.43511769e-02   8.90192446e-03\n",
      "    7.81962327e-02   1.60082425e-01   2.35152034e-01  -2.85326394e-02\n",
      "   -5.54597618e-02   4.78595352e-02   8.59157053e-03   4.75785918e-03\n",
      "    1.06560731e-01   1.44443695e-01   2.35665109e-01  -3.36319879e-02\n",
      "   -6.48910401e-02   3.49678687e-02   9.16754220e-03   4.85941955e-02\n",
      "    6.20964244e-02   1.66890184e-01   2.21116164e-01  -4.12656161e-02\n",
      "   -6.68873163e-02   5.40122688e-02  -6.22541440e-03  -2.55396420e-02\n",
      "   -7.33317650e-02  -1.85443116e-01  -2.16614943e-01   3.50744328e-02\n",
      "    6.03539272e-02  -2.94004860e-02  -6.28726074e-03  -7.07336341e-03\n",
      "   -9.74511414e-02  -2.08544217e-01  -2.05930112e-01   4.31523072e-02\n",
      "    4.75570611e-02  -3.84424631e-02  -8.99743928e-03  -5.01428590e-04\n",
      "   -1.21270084e-01  -1.37478980e-01  -2.34022880e-01   2.26943750e-02\n",
      "    5.04185605e-02  -3.90463584e-02  -7.89127394e-03  -2.90798377e-02\n",
      "   -6.61932430e-02  -1.70624422e-01  -2.23752041e-01   3.44532352e-02\n",
      "    4.93527562e-02  -4.25640698e-02  -4.88299335e-04   1.95342594e-02\n",
      "   -1.31197970e-01  -1.50633214e-01  -2.31796743e-01   1.68912378e-02\n",
      "    6.46611370e-02  -4.25715864e-02   1.05959266e-02   9.00025155e-03\n",
      "   -5.95511004e-03  -4.27125761e-02   1.13022410e-04  -3.31176043e-02\n",
      "    3.66137198e-02  -3.50329316e-02   3.12415275e-02  -8.90404076e-03\n",
      "    6.84133421e-03  -4.12005847e-02   3.70489565e-03   2.30189171e-02\n",
      "   -1.57462151e-02   4.56318965e-02  -1.13573156e-02   1.18607390e-02\n",
      "   -3.45205667e-03   3.60466690e-02   4.37727208e-02  -1.33884094e-01\n",
      "   -6.55086172e-02  -2.39133454e-02   3.23293630e-02   2.91512618e-02\n",
      "    1.53132557e-01   6.49030594e-02  -7.10209112e-03  -9.99986982e-03\n",
      "    4.97300536e-02  -2.41082931e-02  -9.16793301e-02   1.08698070e-02\n",
      "   -4.07313510e-02   3.13453130e-04  -2.99511183e-02   1.98956705e-02\n",
      "    2.81803295e-02   1.22165498e-02  -1.15083458e-01   7.44463410e-02\n",
      "   -1.14769163e-03   0.00000000e+00  -1.57854604e-01  -8.35548421e-02\n",
      "   -1.41355051e-02   9.54934737e-02  -6.84693304e-03   2.28150434e-02\n",
      "    2.58459422e-02   4.38223891e-02  -7.50392334e-02  -3.42867725e-02\n",
      "   -1.80734409e-02   2.03053470e-02   1.69989489e-02   3.49272406e-02\n",
      "   -2.15772463e-01   4.24274349e-02  -4.05596316e-02   1.06136937e-01\n",
      "   -3.56544700e-02   4.72688492e-03   2.52535175e-05  -1.61265196e-02\n",
      "   -1.27258797e-01   1.60922403e-02   3.09424307e-02  -1.45578688e-02\n",
      "    2.71466664e-02   4.73844678e-02  -3.94799607e-02  -3.02018511e-02\n",
      "   -7.55060756e-02  -1.72561551e-02   1.21449511e-01  -4.21930622e-02\n",
      "    1.01687186e-02   1.17608976e-02  -5.60889929e-02   5.46045541e-02\n",
      "   -2.20561889e-02  -1.11802618e-02  -1.29363864e-02  -2.20672285e-02\n",
      "    1.69634528e-01  -1.51092023e-02   8.78206387e-02   5.42835668e-02\n",
      "    1.24545731e-01   7.84822746e-03   5.40320680e-02  -9.40197254e-03\n",
      "   -2.57981130e-02  -7.14924794e-02   3.33939151e-02  -1.27044466e-02\n",
      "   -3.32782432e-02  -1.03249347e-02   8.02863917e-03   2.80638770e-02\n",
      "    1.33367843e-02  -6.97682896e-03   3.83019400e-02  -6.97601363e-02\n",
      "   -3.95630936e-02   1.70326127e-03  -1.28898458e-02  -7.76673759e-03\n",
      "    3.68843891e-02   2.54867202e-02   3.06648147e-02   3.56601362e-02\n",
      "   -1.19752436e-02   1.03793764e-02  -3.99579530e-02  -2.82615992e-02\n",
      "   -7.42897604e-02   5.93160615e-02  -7.25902076e-02   7.07905393e-02\n",
      "    1.38311793e-02  -5.15592056e-02  -1.81389148e-03   6.74730571e-03\n",
      "    0.00000000e+00   0.00000000e+00  -8.46478201e-03   4.47908119e-02\n",
      "    0.00000000e+00  -1.04791147e-02]]\n",
      "[[  5.58003962e-02  -7.93482677e-05   9.14257587e-03  -2.29598047e-03\n",
      "    8.52369135e-02   1.96787280e-01   2.11656267e-01  -2.26184155e-02\n",
      "   -5.03845127e-02   3.53011762e-02  -1.04794902e-02   1.93413178e-02\n",
      "    6.68678508e-02   1.88688453e-01   2.28253972e-01  -3.05147817e-02\n",
      "   -4.40829667e-02   2.50240067e-02   1.34251877e-02  -1.66144423e-03\n",
      "    7.81688518e-02   1.67668631e-01   2.38683170e-01  -3.51609514e-02\n",
      "   -5.36030682e-02   4.39835129e-02   5.72199558e-03  -6.27874421e-03\n",
      "    1.10269191e-01   1.52859594e-01   2.42804580e-01  -2.70431908e-02\n",
      "   -5.65519165e-02   4.09497362e-02   9.16418390e-04   2.64110005e-02\n",
      "    7.59901554e-02   1.73408808e-01   2.16596409e-01  -2.99288548e-02\n",
      "   -5.41120174e-02   5.08495348e-02  -9.88958303e-03   2.83696423e-03\n",
      "   -9.41628107e-02  -1.87077193e-01  -2.14557150e-01   4.08862262e-02\n",
      "    5.19537346e-02  -3.26560323e-02  -6.42355386e-03   6.31291763e-03\n",
      "   -1.00506471e-01  -2.10016726e-01  -2.10923718e-01   3.87418781e-02\n",
      "    4.71802056e-02  -3.79239779e-02  -1.38453397e-02  -5.33615622e-03\n",
      "   -1.08191476e-01  -1.18056711e-01  -2.55448277e-01   8.98114632e-03\n",
      "    4.45984114e-02  -4.60140189e-02  -6.53660530e-03  -1.42332748e-02\n",
      "   -8.99528957e-02  -1.82140186e-01  -2.08918837e-01   2.98492493e-02\n",
      "    4.48397788e-02  -4.56181853e-02  -2.17849346e-03   6.12602242e-03\n",
      "   -1.14134186e-01  -1.34475824e-01  -2.47703372e-01   1.08972652e-02\n",
      "    6.17459510e-02  -4.05112213e-02   7.71202763e-03   2.32392484e-03\n",
      "   -5.20245200e-04  -3.99695737e-02   3.65796498e-03  -3.82171641e-02\n",
      "    3.47357254e-02  -4.15613903e-02   3.01573553e-02  -7.54387594e-03\n",
      "    7.59930434e-03  -4.50665925e-02   9.17014461e-03   1.88415821e-02\n",
      "   -5.91256072e-03   3.96170161e-02  -2.61928549e-03   2.11284955e-03\n",
      "   -3.83737234e-03   3.20398237e-02   4.50389060e-02  -1.41707812e-01\n",
      "   -5.98109843e-02  -2.00770197e-02   2.74182837e-02   3.05839701e-02\n",
      "    1.52837665e-01   6.30990197e-02  -4.25353775e-03  -7.15432494e-03\n",
      "    4.67346761e-02  -1.83336762e-02  -9.40538665e-02   9.69827378e-03\n",
      "   -3.13848008e-02  -1.74098277e-03  -2.19267287e-02   2.01601662e-02\n",
      "    2.82599447e-02   1.03376345e-02  -1.16495073e-01   7.72785554e-02\n",
      "    3.73937480e-03   0.00000000e+00  -1.59951644e-01  -7.86243333e-02\n",
      "   -5.17416744e-03   9.23929790e-02  -2.92557568e-03   1.90189776e-02\n",
      "    2.95514812e-02   5.26016868e-02  -7.58450248e-02  -2.48573067e-02\n",
      "   -1.66522162e-02   2.15058147e-02   6.13627170e-03   2.58542001e-02\n",
      "   -2.18168951e-01   3.76255969e-02  -4.29752759e-02   1.17233518e-01\n",
      "   -2.38286339e-02  -7.11435970e-04  -3.98283856e-03  -2.37561689e-02\n",
      "   -1.23180178e-01   2.27005272e-02   3.61999133e-02  -1.15147751e-02\n",
      "    1.74099732e-02   4.71484735e-02  -3.67784835e-02  -2.89261758e-02\n",
      "   -8.74332523e-02  -1.77890935e-02   1.23626082e-01  -3.68012704e-02\n",
      "    1.52006374e-02   1.41479216e-02  -5.36709346e-02   4.81278342e-02\n",
      "   -1.93348934e-02  -2.07697519e-02  -1.95315368e-02  -1.71328933e-02\n",
      "    1.66583843e-01  -1.15562731e-02   8.47003833e-02   4.84736578e-02\n",
      "    1.26941131e-01   1.10690584e-02   5.32256622e-02  -1.34694314e-02\n",
      "   -2.82844224e-02  -5.59441443e-02   3.01259961e-02   1.50945760e-04\n",
      "   -3.09073665e-02  -1.43964037e-02   4.84236367e-03   3.97601853e-02\n",
      "    1.72049718e-02  -1.37229234e-02   4.45992030e-02  -6.19714937e-02\n",
      "   -4.16815296e-02  -4.97087289e-03  -8.87043543e-03  -1.53581008e-02\n",
      "    3.75672787e-02   2.12361337e-02   2.98877267e-02   3.44641919e-02\n",
      "   -2.50641395e-02   8.13536136e-03  -3.51717197e-02  -2.07231532e-02\n",
      "   -7.24427197e-02   5.14147849e-02  -8.51070445e-02   6.29283916e-02\n",
      "    2.63847772e-02  -5.73843468e-02   7.02906306e-03   1.42635105e-02\n",
      "    0.00000000e+00   0.00000000e+00  -7.35798934e-03   4.51939998e-02\n",
      "    0.00000000e+00  -1.20641330e-02]]\n"
     ]
    },
    {
     "ename": "KeyboardInterrupt",
     "evalue": "",
     "output_type": "error",
     "traceback": [
      "\u001b[0;31m---------------------------------------------------------------------------\u001b[0m",
      "\u001b[0;31mKeyboardInterrupt\u001b[0m                         Traceback (most recent call last)",
      "\u001b[0;32m<ipython-input-21-2621be9f0961>\u001b[0m in \u001b[0;36m<module>\u001b[0;34m()\u001b[0m\n\u001b[1;32m     20\u001b[0m     \u001b[0;32mreturn\u001b[0m \u001b[0mres\u001b[0m\u001b[0;34m\u001b[0m\u001b[0m\n\u001b[1;32m     21\u001b[0m \u001b[0;34m\u001b[0m\u001b[0m\n\u001b[0;32m---> 22\u001b[0;31m \u001b[0msolution\u001b[0m \u001b[0;34m=\u001b[0m \u001b[0mminimize_scalar\u001b[0m\u001b[0;34m(\u001b[0m\u001b[0m_test_logregr\u001b[0m\u001b[0;34m,\u001b[0m \u001b[0mbounds\u001b[0m\u001b[0;34m=\u001b[0m\u001b[0;34m(\u001b[0m\u001b[0;36m0.1\u001b[0m\u001b[0;34m,\u001b[0m \u001b[0;36m10\u001b[0m\u001b[0;34m)\u001b[0m\u001b[0;34m,\u001b[0m \u001b[0mmethod\u001b[0m\u001b[0;34m=\u001b[0m\u001b[0;34m'bounded'\u001b[0m\u001b[0;34m)\u001b[0m\u001b[0;34m\u001b[0m\u001b[0m\n\u001b[0m",
      "\u001b[0;32m/Library/Frameworks/Python.framework/Versions/3.5/lib/python3.5/site-packages/scipy/optimize/_minimize.py\u001b[0m in \u001b[0;36mminimize_scalar\u001b[0;34m(fun, bracket, bounds, args, method, tol, options)\u001b[0m\n\u001b[1;32m    609\u001b[0m             raise ValueError('The `bounds` parameter is mandatory for '\n\u001b[1;32m    610\u001b[0m                              'method `bounded`.')\n\u001b[0;32m--> 611\u001b[0;31m         \u001b[0;32mreturn\u001b[0m \u001b[0m_minimize_scalar_bounded\u001b[0m\u001b[0;34m(\u001b[0m\u001b[0mfun\u001b[0m\u001b[0;34m,\u001b[0m \u001b[0mbounds\u001b[0m\u001b[0;34m,\u001b[0m \u001b[0margs\u001b[0m\u001b[0;34m,\u001b[0m \u001b[0;34m**\u001b[0m\u001b[0moptions\u001b[0m\u001b[0;34m)\u001b[0m\u001b[0;34m\u001b[0m\u001b[0m\n\u001b[0m\u001b[1;32m    612\u001b[0m     \u001b[0;32melif\u001b[0m \u001b[0mmeth\u001b[0m \u001b[0;34m==\u001b[0m \u001b[0;34m'golden'\u001b[0m\u001b[0;34m:\u001b[0m\u001b[0;34m\u001b[0m\u001b[0m\n\u001b[1;32m    613\u001b[0m         \u001b[0;32mreturn\u001b[0m \u001b[0m_minimize_scalar_golden\u001b[0m\u001b[0;34m(\u001b[0m\u001b[0mfun\u001b[0m\u001b[0;34m,\u001b[0m \u001b[0mbracket\u001b[0m\u001b[0;34m,\u001b[0m \u001b[0margs\u001b[0m\u001b[0;34m,\u001b[0m \u001b[0;34m**\u001b[0m\u001b[0moptions\u001b[0m\u001b[0;34m)\u001b[0m\u001b[0;34m\u001b[0m\u001b[0m\n",
      "\u001b[0;32m/Library/Frameworks/Python.framework/Versions/3.5/lib/python3.5/site-packages/scipy/optimize/optimize.py\u001b[0m in \u001b[0;36m_minimize_scalar_bounded\u001b[0;34m(func, bounds, args, xatol, maxiter, disp, **unknown_options)\u001b[0m\n\u001b[1;32m   1599\u001b[0m     \u001b[0mrat\u001b[0m \u001b[0;34m=\u001b[0m \u001b[0me\u001b[0m \u001b[0;34m=\u001b[0m \u001b[0;36m0.0\u001b[0m\u001b[0;34m\u001b[0m\u001b[0m\n\u001b[1;32m   1600\u001b[0m     \u001b[0mx\u001b[0m \u001b[0;34m=\u001b[0m \u001b[0mxf\u001b[0m\u001b[0;34m\u001b[0m\u001b[0m\n\u001b[0;32m-> 1601\u001b[0;31m     \u001b[0mfx\u001b[0m \u001b[0;34m=\u001b[0m \u001b[0mfunc\u001b[0m\u001b[0;34m(\u001b[0m\u001b[0mx\u001b[0m\u001b[0;34m,\u001b[0m \u001b[0;34m*\u001b[0m\u001b[0margs\u001b[0m\u001b[0;34m)\u001b[0m\u001b[0;34m\u001b[0m\u001b[0m\n\u001b[0m\u001b[1;32m   1602\u001b[0m     \u001b[0mnum\u001b[0m \u001b[0;34m=\u001b[0m \u001b[0;36m1\u001b[0m\u001b[0;34m\u001b[0m\u001b[0m\n\u001b[1;32m   1603\u001b[0m     \u001b[0mfmin_data\u001b[0m \u001b[0;34m=\u001b[0m \u001b[0;34m(\u001b[0m\u001b[0;36m1\u001b[0m\u001b[0;34m,\u001b[0m \u001b[0mxf\u001b[0m\u001b[0;34m,\u001b[0m \u001b[0mfx\u001b[0m\u001b[0;34m)\u001b[0m\u001b[0;34m\u001b[0m\u001b[0m\n",
      "\u001b[0;32m<ipython-input-21-2621be9f0961>\u001b[0m in \u001b[0;36m_test_logregr\u001b[0;34m(C)\u001b[0m\n\u001b[1;32m     16\u001b[0m \u001b[0;34m\u001b[0m\u001b[0m\n\u001b[1;32m     17\u001b[0m \u001b[0;32mdef\u001b[0m \u001b[0m_test_logregr\u001b[0m\u001b[0;34m(\u001b[0m\u001b[0mC\u001b[0m\u001b[0;34m)\u001b[0m\u001b[0;34m:\u001b[0m\u001b[0;34m\u001b[0m\u001b[0m\n\u001b[0;32m---> 18\u001b[0;31m     \u001b[0mres\u001b[0m \u001b[0;34m=\u001b[0m \u001b[0mget_ipython\u001b[0m\u001b[0;34m(\u001b[0m\u001b[0;34m)\u001b[0m\u001b[0;34m.\u001b[0m\u001b[0mmagic\u001b[0m\u001b[0;34m(\u001b[0m\u001b[0;34m'time -1.0 * test_logregr(X_train, y_train, X_test, C)'\u001b[0m\u001b[0;34m)\u001b[0m\u001b[0;34m\u001b[0m\u001b[0m\n\u001b[0m\u001b[1;32m     19\u001b[0m     \u001b[0mprint\u001b[0m\u001b[0;34m(\u001b[0m\u001b[0mC\u001b[0m\u001b[0;34m,\u001b[0m \u001b[0;34m-\u001b[0m\u001b[0mres\u001b[0m\u001b[0;34m)\u001b[0m\u001b[0;34m\u001b[0m\u001b[0m\n\u001b[1;32m     20\u001b[0m     \u001b[0;32mreturn\u001b[0m \u001b[0mres\u001b[0m\u001b[0;34m\u001b[0m\u001b[0m\n",
      "\u001b[0;32m/Library/Frameworks/Python.framework/Versions/3.5/lib/python3.5/site-packages/IPython/core/interactiveshell.py\u001b[0m in \u001b[0;36mmagic\u001b[0;34m(self, arg_s)\u001b[0m\n\u001b[1;32m   2161\u001b[0m         \u001b[0mmagic_name\u001b[0m\u001b[0;34m,\u001b[0m \u001b[0m_\u001b[0m\u001b[0;34m,\u001b[0m \u001b[0mmagic_arg_s\u001b[0m \u001b[0;34m=\u001b[0m \u001b[0marg_s\u001b[0m\u001b[0;34m.\u001b[0m\u001b[0mpartition\u001b[0m\u001b[0;34m(\u001b[0m\u001b[0;34m' '\u001b[0m\u001b[0;34m)\u001b[0m\u001b[0;34m\u001b[0m\u001b[0m\n\u001b[1;32m   2162\u001b[0m         \u001b[0mmagic_name\u001b[0m \u001b[0;34m=\u001b[0m \u001b[0mmagic_name\u001b[0m\u001b[0;34m.\u001b[0m\u001b[0mlstrip\u001b[0m\u001b[0;34m(\u001b[0m\u001b[0mprefilter\u001b[0m\u001b[0;34m.\u001b[0m\u001b[0mESC_MAGIC\u001b[0m\u001b[0;34m)\u001b[0m\u001b[0;34m\u001b[0m\u001b[0m\n\u001b[0;32m-> 2163\u001b[0;31m         \u001b[0;32mreturn\u001b[0m \u001b[0mself\u001b[0m\u001b[0;34m.\u001b[0m\u001b[0mrun_line_magic\u001b[0m\u001b[0;34m(\u001b[0m\u001b[0mmagic_name\u001b[0m\u001b[0;34m,\u001b[0m \u001b[0mmagic_arg_s\u001b[0m\u001b[0;34m)\u001b[0m\u001b[0;34m\u001b[0m\u001b[0m\n\u001b[0m\u001b[1;32m   2164\u001b[0m \u001b[0;34m\u001b[0m\u001b[0m\n\u001b[1;32m   2165\u001b[0m     \u001b[0;31m#-------------------------------------------------------------------------\u001b[0m\u001b[0;34m\u001b[0m\u001b[0;34m\u001b[0m\u001b[0m\n",
      "\u001b[0;32m/Library/Frameworks/Python.framework/Versions/3.5/lib/python3.5/site-packages/IPython/core/interactiveshell.py\u001b[0m in \u001b[0;36mrun_line_magic\u001b[0;34m(self, magic_name, line)\u001b[0m\n\u001b[1;32m   2082\u001b[0m                 \u001b[0mkwargs\u001b[0m\u001b[0;34m[\u001b[0m\u001b[0;34m'local_ns'\u001b[0m\u001b[0;34m]\u001b[0m \u001b[0;34m=\u001b[0m \u001b[0msys\u001b[0m\u001b[0;34m.\u001b[0m\u001b[0m_getframe\u001b[0m\u001b[0;34m(\u001b[0m\u001b[0mstack_depth\u001b[0m\u001b[0;34m)\u001b[0m\u001b[0;34m.\u001b[0m\u001b[0mf_locals\u001b[0m\u001b[0;34m\u001b[0m\u001b[0m\n\u001b[1;32m   2083\u001b[0m             \u001b[0;32mwith\u001b[0m \u001b[0mself\u001b[0m\u001b[0;34m.\u001b[0m\u001b[0mbuiltin_trap\u001b[0m\u001b[0;34m:\u001b[0m\u001b[0;34m\u001b[0m\u001b[0m\n\u001b[0;32m-> 2084\u001b[0;31m                 \u001b[0mresult\u001b[0m \u001b[0;34m=\u001b[0m \u001b[0mfn\u001b[0m\u001b[0;34m(\u001b[0m\u001b[0;34m*\u001b[0m\u001b[0margs\u001b[0m\u001b[0;34m,\u001b[0m\u001b[0;34m**\u001b[0m\u001b[0mkwargs\u001b[0m\u001b[0;34m)\u001b[0m\u001b[0;34m\u001b[0m\u001b[0m\n\u001b[0m\u001b[1;32m   2085\u001b[0m             \u001b[0;32mreturn\u001b[0m \u001b[0mresult\u001b[0m\u001b[0;34m\u001b[0m\u001b[0m\n\u001b[1;32m   2086\u001b[0m \u001b[0;34m\u001b[0m\u001b[0m\n",
      "\u001b[0;32m<decorator-gen-60>\u001b[0m in \u001b[0;36mtime\u001b[0;34m(self, line, cell, local_ns)\u001b[0m\n",
      "\u001b[0;32m/Library/Frameworks/Python.framework/Versions/3.5/lib/python3.5/site-packages/IPython/core/magic.py\u001b[0m in \u001b[0;36m<lambda>\u001b[0;34m(f, *a, **k)\u001b[0m\n\u001b[1;32m    191\u001b[0m     \u001b[0;31m# but it's overkill for just that one bit of state.\u001b[0m\u001b[0;34m\u001b[0m\u001b[0;34m\u001b[0m\u001b[0m\n\u001b[1;32m    192\u001b[0m     \u001b[0;32mdef\u001b[0m \u001b[0mmagic_deco\u001b[0m\u001b[0;34m(\u001b[0m\u001b[0marg\u001b[0m\u001b[0;34m)\u001b[0m\u001b[0;34m:\u001b[0m\u001b[0;34m\u001b[0m\u001b[0m\n\u001b[0;32m--> 193\u001b[0;31m         \u001b[0mcall\u001b[0m \u001b[0;34m=\u001b[0m \u001b[0;32mlambda\u001b[0m \u001b[0mf\u001b[0m\u001b[0;34m,\u001b[0m \u001b[0;34m*\u001b[0m\u001b[0ma\u001b[0m\u001b[0;34m,\u001b[0m \u001b[0;34m**\u001b[0m\u001b[0mk\u001b[0m\u001b[0;34m:\u001b[0m \u001b[0mf\u001b[0m\u001b[0;34m(\u001b[0m\u001b[0;34m*\u001b[0m\u001b[0ma\u001b[0m\u001b[0;34m,\u001b[0m \u001b[0;34m**\u001b[0m\u001b[0mk\u001b[0m\u001b[0;34m)\u001b[0m\u001b[0;34m\u001b[0m\u001b[0m\n\u001b[0m\u001b[1;32m    194\u001b[0m \u001b[0;34m\u001b[0m\u001b[0m\n\u001b[1;32m    195\u001b[0m         \u001b[0;32mif\u001b[0m \u001b[0mcallable\u001b[0m\u001b[0;34m(\u001b[0m\u001b[0marg\u001b[0m\u001b[0;34m)\u001b[0m\u001b[0;34m:\u001b[0m\u001b[0;34m\u001b[0m\u001b[0m\n",
      "\u001b[0;32m/Library/Frameworks/Python.framework/Versions/3.5/lib/python3.5/site-packages/IPython/core/magics/execution.py\u001b[0m in \u001b[0;36mtime\u001b[0;34m(self, line, cell, local_ns)\u001b[0m\n\u001b[1;32m   1171\u001b[0m         \u001b[0;32mif\u001b[0m \u001b[0mmode\u001b[0m\u001b[0;34m==\u001b[0m\u001b[0;34m'eval'\u001b[0m\u001b[0;34m:\u001b[0m\u001b[0;34m\u001b[0m\u001b[0m\n\u001b[1;32m   1172\u001b[0m             \u001b[0mst\u001b[0m \u001b[0;34m=\u001b[0m \u001b[0mclock2\u001b[0m\u001b[0;34m(\u001b[0m\u001b[0;34m)\u001b[0m\u001b[0;34m\u001b[0m\u001b[0m\n\u001b[0;32m-> 1173\u001b[0;31m             \u001b[0mout\u001b[0m \u001b[0;34m=\u001b[0m \u001b[0meval\u001b[0m\u001b[0;34m(\u001b[0m\u001b[0mcode\u001b[0m\u001b[0;34m,\u001b[0m \u001b[0mglob\u001b[0m\u001b[0;34m,\u001b[0m \u001b[0mlocal_ns\u001b[0m\u001b[0;34m)\u001b[0m\u001b[0;34m\u001b[0m\u001b[0m\n\u001b[0m\u001b[1;32m   1174\u001b[0m             \u001b[0mend\u001b[0m \u001b[0;34m=\u001b[0m \u001b[0mclock2\u001b[0m\u001b[0;34m(\u001b[0m\u001b[0;34m)\u001b[0m\u001b[0;34m\u001b[0m\u001b[0m\n\u001b[1;32m   1175\u001b[0m         \u001b[0;32melse\u001b[0m\u001b[0;34m:\u001b[0m\u001b[0;34m\u001b[0m\u001b[0m\n",
      "\u001b[0;32m<timed eval>\u001b[0m in \u001b[0;36m<module>\u001b[0;34m()\u001b[0m\n",
      "\u001b[0;32m<ipython-input-21-2621be9f0961>\u001b[0m in \u001b[0;36mtest_logregr\u001b[0;34m(X_train, y_train, X_test, C, bins)\u001b[0m\n\u001b[1;32m      8\u001b[0m     \u001b[0mscores\u001b[0m \u001b[0;34m=\u001b[0m \u001b[0;34m[\u001b[0m\u001b[0;34m]\u001b[0m\u001b[0;34m\u001b[0m\u001b[0m\n\u001b[1;32m      9\u001b[0m     \u001b[0;32mfor\u001b[0m \u001b[0mitrain\u001b[0m\u001b[0;34m,\u001b[0m \u001b[0mitest\u001b[0m \u001b[0;32min\u001b[0m \u001b[0msplit\u001b[0m\u001b[0;34m:\u001b[0m\u001b[0;34m\u001b[0m\u001b[0m\n\u001b[0;32m---> 10\u001b[0;31m         \u001b[0mclf\u001b[0m\u001b[0;34m.\u001b[0m\u001b[0mfit\u001b[0m\u001b[0;34m(\u001b[0m\u001b[0mX_train\u001b[0m\u001b[0;34m[\u001b[0m\u001b[0mitrain\u001b[0m\u001b[0;34m]\u001b[0m\u001b[0;34m,\u001b[0m \u001b[0my_train\u001b[0m\u001b[0;34m[\u001b[0m\u001b[0mitrain\u001b[0m\u001b[0;34m]\u001b[0m\u001b[0;34m)\u001b[0m\u001b[0;34m\u001b[0m\u001b[0m\n\u001b[0m\u001b[1;32m     11\u001b[0m         \u001b[0mprint\u001b[0m\u001b[0;34m(\u001b[0m\u001b[0mclf\u001b[0m\u001b[0;34m.\u001b[0m\u001b[0mcoef_\u001b[0m\u001b[0;34m)\u001b[0m\u001b[0;34m\u001b[0m\u001b[0m\n\u001b[1;32m     12\u001b[0m         \u001b[0mpred\u001b[0m \u001b[0;34m=\u001b[0m \u001b[0mclf\u001b[0m\u001b[0;34m.\u001b[0m\u001b[0mpredict_proba\u001b[0m\u001b[0;34m(\u001b[0m\u001b[0mX_train\u001b[0m\u001b[0;34m[\u001b[0m\u001b[0mitest\u001b[0m\u001b[0;34m]\u001b[0m\u001b[0;34m)\u001b[0m\u001b[0;34m[\u001b[0m\u001b[0;34m:\u001b[0m\u001b[0;34m,\u001b[0m \u001b[0;36m1\u001b[0m\u001b[0;34m]\u001b[0m\u001b[0;34m\u001b[0m\u001b[0m\n",
      "\u001b[0;32m/Library/Frameworks/Python.framework/Versions/3.5/lib/python3.5/site-packages/sklearn/linear_model/logistic.py\u001b[0m in \u001b[0;36mfit\u001b[0;34m(self, X, y, sample_weight)\u001b[0m\n\u001b[1;32m   1152\u001b[0m                 \u001b[0mX\u001b[0m\u001b[0;34m,\u001b[0m \u001b[0my\u001b[0m\u001b[0;34m,\u001b[0m \u001b[0mself\u001b[0m\u001b[0;34m.\u001b[0m\u001b[0mC\u001b[0m\u001b[0;34m,\u001b[0m \u001b[0mself\u001b[0m\u001b[0;34m.\u001b[0m\u001b[0mfit_intercept\u001b[0m\u001b[0;34m,\u001b[0m \u001b[0mself\u001b[0m\u001b[0;34m.\u001b[0m\u001b[0mintercept_scaling\u001b[0m\u001b[0;34m,\u001b[0m\u001b[0;34m\u001b[0m\u001b[0m\n\u001b[1;32m   1153\u001b[0m                 \u001b[0mself\u001b[0m\u001b[0;34m.\u001b[0m\u001b[0mclass_weight\u001b[0m\u001b[0;34m,\u001b[0m \u001b[0mself\u001b[0m\u001b[0;34m.\u001b[0m\u001b[0mpenalty\u001b[0m\u001b[0;34m,\u001b[0m \u001b[0mself\u001b[0m\u001b[0;34m.\u001b[0m\u001b[0mdual\u001b[0m\u001b[0;34m,\u001b[0m \u001b[0mself\u001b[0m\u001b[0;34m.\u001b[0m\u001b[0mverbose\u001b[0m\u001b[0;34m,\u001b[0m\u001b[0;34m\u001b[0m\u001b[0m\n\u001b[0;32m-> 1154\u001b[0;31m                 self.max_iter, self.tol, self.random_state)\n\u001b[0m\u001b[1;32m   1155\u001b[0m             \u001b[0mself\u001b[0m\u001b[0;34m.\u001b[0m\u001b[0mn_iter_\u001b[0m \u001b[0;34m=\u001b[0m \u001b[0mnp\u001b[0m\u001b[0;34m.\u001b[0m\u001b[0marray\u001b[0m\u001b[0;34m(\u001b[0m\u001b[0;34m[\u001b[0m\u001b[0mn_iter_\u001b[0m\u001b[0;34m]\u001b[0m\u001b[0;34m)\u001b[0m\u001b[0;34m\u001b[0m\u001b[0m\n\u001b[1;32m   1156\u001b[0m             \u001b[0;32mreturn\u001b[0m \u001b[0mself\u001b[0m\u001b[0;34m\u001b[0m\u001b[0m\n",
      "\u001b[0;32m/Library/Frameworks/Python.framework/Versions/3.5/lib/python3.5/site-packages/sklearn/svm/base.py\u001b[0m in \u001b[0;36m_fit_liblinear\u001b[0;34m(X, y, C, fit_intercept, intercept_scaling, class_weight, penalty, dual, verbose, max_iter, tol, random_state, multi_class, loss, epsilon)\u001b[0m\n\u001b[1;32m    914\u001b[0m         \u001b[0mX\u001b[0m\u001b[0;34m,\u001b[0m \u001b[0my_ind\u001b[0m\u001b[0;34m,\u001b[0m \u001b[0msp\u001b[0m\u001b[0;34m.\u001b[0m\u001b[0misspmatrix\u001b[0m\u001b[0;34m(\u001b[0m\u001b[0mX\u001b[0m\u001b[0;34m)\u001b[0m\u001b[0;34m,\u001b[0m \u001b[0msolver_type\u001b[0m\u001b[0;34m,\u001b[0m \u001b[0mtol\u001b[0m\u001b[0;34m,\u001b[0m \u001b[0mbias\u001b[0m\u001b[0;34m,\u001b[0m \u001b[0mC\u001b[0m\u001b[0;34m,\u001b[0m\u001b[0;34m\u001b[0m\u001b[0m\n\u001b[1;32m    915\u001b[0m         \u001b[0mclass_weight_\u001b[0m\u001b[0;34m,\u001b[0m \u001b[0mmax_iter\u001b[0m\u001b[0;34m,\u001b[0m \u001b[0mrnd\u001b[0m\u001b[0;34m.\u001b[0m\u001b[0mrandint\u001b[0m\u001b[0;34m(\u001b[0m\u001b[0mnp\u001b[0m\u001b[0;34m.\u001b[0m\u001b[0miinfo\u001b[0m\u001b[0;34m(\u001b[0m\u001b[0;34m'i'\u001b[0m\u001b[0;34m)\u001b[0m\u001b[0;34m.\u001b[0m\u001b[0mmax\u001b[0m\u001b[0;34m)\u001b[0m\u001b[0;34m,\u001b[0m\u001b[0;34m\u001b[0m\u001b[0m\n\u001b[0;32m--> 916\u001b[0;31m         epsilon)\n\u001b[0m\u001b[1;32m    917\u001b[0m     \u001b[0;31m# Regarding rnd.randint(..) in the above signature:\u001b[0m\u001b[0;34m\u001b[0m\u001b[0;34m\u001b[0m\u001b[0m\n\u001b[1;32m    918\u001b[0m     \u001b[0;31m# seed for srand in range [0..INT_MAX); due to limitations in Numpy\u001b[0m\u001b[0;34m\u001b[0m\u001b[0;34m\u001b[0m\u001b[0m\n",
      "\u001b[0;31mKeyboardInterrupt\u001b[0m: "
     ]
    }
   ],
   "source": [
    "X_train = scaler.fit_transform(X_train)\n",
    "X_test = scaler.transform(X_test)\n",
    "\n",
    "split = KFold(X_train.shape[0], 5, shuffle=True)\n",
    "def test_logregr(X_train, y_train, X_test, C=1.0, bins=5):\n",
    "    clf = LogisticRegression(penalty='l2', C=C, n_jobs=-1)   \n",
    "    scores = []\n",
    "    for itrain, itest in split:\n",
    "        clf.fit(X_train[itrain], y_train[itrain])\n",
    "        print(clf.coef_)\n",
    "        pred = clf.predict_proba(X_train[itest])[:, 1]\n",
    "        score = roc_auc_score(y_train[itest], pred)\n",
    "        scores.append(score)\n",
    "    return sum(scores)/len(scores)\n",
    "\n",
    "def _test_logregr(C):\n",
    "    res = %time -1.0 * test_logregr(X_train, y_train, X_test, C)\n",
    "    print(C, -res)\n",
    "    return res\n",
    "\n",
    "solution = minimize_scalar(_test_logregr, bounds=(0.1, 10), method='bounded')"
   ]
  },
  {
   "cell_type": "code",
   "execution_count": 24,
   "metadata": {
    "collapsed": false
   },
   "outputs": [
    {
     "ename": "IndexError",
     "evalue": "index 140 is out of bounds for axis 1 with size 103",
     "output_type": "error",
     "traceback": [
      "\u001b[0;31m---------------------------------------------------------------------------\u001b[0m",
      "\u001b[0;31mIndexError\u001b[0m                                Traceback (most recent call last)",
      "\u001b[0;32m<ipython-input-24-3478429ff0dd>\u001b[0m in \u001b[0;36m<module>\u001b[0;34m()\u001b[0m\n\u001b[1;32m      1\u001b[0m \u001b[0mclf\u001b[0m \u001b[0;34m=\u001b[0m \u001b[0mLogisticRegression\u001b[0m\u001b[0;34m(\u001b[0m\u001b[0mpenalty\u001b[0m\u001b[0;34m=\u001b[0m\u001b[0;34m'l2'\u001b[0m\u001b[0;34m,\u001b[0m \u001b[0mC\u001b[0m\u001b[0;34m=\u001b[0m\u001b[0;36m1\u001b[0m\u001b[0;34m,\u001b[0m \u001b[0mn_jobs\u001b[0m\u001b[0;34m=\u001b[0m\u001b[0;34m-\u001b[0m\u001b[0;36m1\u001b[0m\u001b[0;34m)\u001b[0m\u001b[0;34m\u001b[0m\u001b[0m\n\u001b[1;32m      2\u001b[0m \u001b[0mclf\u001b[0m\u001b[0;34m.\u001b[0m\u001b[0mfit\u001b[0m\u001b[0;34m(\u001b[0m\u001b[0mX_train\u001b[0m\u001b[0;34m,\u001b[0m \u001b[0my_train\u001b[0m\u001b[0;34m)\u001b[0m\u001b[0;34m\u001b[0m\u001b[0m\n\u001b[0;32m----> 3\u001b[0;31m \u001b[0mfeatures\u001b[0m\u001b[0;34m.\u001b[0m\u001b[0mcolumns\u001b[0m\u001b[0;34m.\u001b[0m\u001b[0mvalues\u001b[0m\u001b[0;34m[\u001b[0m\u001b[0mnp\u001b[0m\u001b[0;34m.\u001b[0m\u001b[0margsort\u001b[0m\u001b[0;34m(\u001b[0m\u001b[0mclf\u001b[0m\u001b[0;34m.\u001b[0m\u001b[0mcoef_\u001b[0m\u001b[0;34m)\u001b[0m\u001b[0;34m]\u001b[0m\u001b[0;34m\u001b[0m\u001b[0m\n\u001b[0m",
      "\u001b[0;31mIndexError\u001b[0m: index 140 is out of bounds for axis 1 with size 103"
     ]
    }
   ],
   "source": [
    "clf = LogisticRegression(penalty='l2', C=1, n_jobs=-1)\n",
    "clf.fit(X_train, y_train)\n",
    "features.columns.values[np.argsort(clf.coef_)]"
   ]
  },
  {
   "cell_type": "code",
   "execution_count": 25,
   "metadata": {
    "collapsed": false
   },
   "outputs": [
    {
     "data": {
      "text/plain": [
       "array(['start_time', 'lobby_type', 'r1_hero', 'r1_level', 'r1_xp',\n",
       "       'r1_gold', 'r1_lh', 'r1_kills', 'r1_deaths', 'r1_items', 'r2_hero',\n",
       "       'r2_level', 'r2_xp', 'r2_gold', 'r2_lh', 'r2_kills', 'r2_deaths',\n",
       "       'r2_items', 'r3_hero', 'r3_level', 'r3_xp', 'r3_gold', 'r3_lh',\n",
       "       'r3_kills', 'r3_deaths', 'r3_items', 'r4_hero', 'r4_level', 'r4_xp',\n",
       "       'r4_gold', 'r4_lh', 'r4_kills', 'r4_deaths', 'r4_items', 'r5_hero',\n",
       "       'r5_level', 'r5_xp', 'r5_gold', 'r5_lh', 'r5_kills', 'r5_deaths',\n",
       "       'r5_items', 'd1_hero', 'd1_level', 'd1_xp', 'd1_gold', 'd1_lh',\n",
       "       'd1_kills', 'd1_deaths', 'd1_items', 'd2_hero', 'd2_level', 'd2_xp',\n",
       "       'd2_gold', 'd2_lh', 'd2_kills', 'd2_deaths', 'd2_items', 'd3_hero',\n",
       "       'd3_level', 'd3_xp', 'd3_gold', 'd3_lh', 'd3_kills', 'd3_deaths',\n",
       "       'd3_items', 'd4_hero', 'd4_level', 'd4_xp', 'd4_gold', 'd4_lh',\n",
       "       'd4_kills', 'd4_deaths', 'd4_items', 'd5_hero', 'd5_level', 'd5_xp',\n",
       "       'd5_gold', 'd5_lh', 'd5_kills', 'd5_deaths', 'd5_items',\n",
       "       'first_blood_time', 'first_blood_team', 'first_blood_player1',\n",
       "       'first_blood_player2', 'radiant_bottle_time',\n",
       "       'radiant_courier_time', 'radiant_flying_courier_time',\n",
       "       'radiant_tpscroll_count', 'radiant_boots_count',\n",
       "       'radiant_ward_observer_count', 'radiant_ward_sentry_count',\n",
       "       'radiant_first_ward_time', 'dire_bottle_time', 'dire_courier_time',\n",
       "       'dire_flying_courier_time', 'dire_tpscroll_count',\n",
       "       'dire_boots_count', 'dire_ward_observer_count',\n",
       "       'dire_ward_sentry_count', 'dire_first_ward_time', 'radiant_win'], dtype=object)"
      ]
     },
     "execution_count": 25,
     "metadata": {},
     "output_type": "execute_result"
    }
   ],
   "source": [
    "features.columns.values"
   ]
  },
  {
   "cell_type": "markdown",
   "metadata": {},
   "source": [
    "### Отчет\n",
    "\n",
    "1. [Здесь](#Преобразуем-признаки)\n",
    "2. [Здесь](#Удаляем-категориальные-признаки)\n",
    "3. 112\n",
    "4. Улучшилось примерно на 5 процентов (76%). Видимо, наличие определенных героев в матче увеличивает вероятность победы\n",
    "5. Максимальное - 0.76, минимальное - 0.66\n",
    "\n",
    "P.S. Иногда прекращал выполнение с помощью KeyboardInterrupt. Прошу не расценивать как ошибку :)"
   ]
  },
  {
   "cell_type": "markdown",
   "metadata": {},
   "source": [
    "## Experiment"
   ]
  },
  {
   "cell_type": "code",
   "execution_count": 42,
   "metadata": {
    "collapsed": false
   },
   "outputs": [],
   "source": [
    "features = pd.read_csv('./features.csv', index_col='match_id')\n",
    "features_test = pd.read_csv('./features_test.csv', index_col='match_id')\n",
    "MATCH_RESULT_COLUMNS = [\"tower_status_radiant\", \n",
    "                        \"tower_status_dire\", \n",
    "                        \"barracks_status_radiant\", \n",
    "                        \"barracks_status_dire\",\n",
    "                        \"duration\"]\n",
    "features.drop(MATCH_RESULT_COLUMNS, axis=1, inplace=True)\n",
    "features.drop(['start_time', 'lobby_type'], axis=1, inplace=True)\n",
    "features_test.drop(['start_time', 'lobby_type'], axis=1, inplace=True)\n",
    "features, f_jumps = fill_na(features, \"small\")\n",
    "features_test, ft_jumps = fill_na(features_test, \"small\", f_jumps)\n",
    "X_train, y_train, X_test = get_train_test(features, features_test, target)\n",
    "\n",
    "heroes      = [\"r1_hero\", \n",
    "              \"r2_hero\", \n",
    "              \"r3_hero\", \n",
    "              \"r4_hero\", \n",
    "              \"r5_hero\", \n",
    "              \"d1_hero\", \n",
    "              \"d2_hero\", \n",
    "              \"d3_hero\", \n",
    "              \"d4_hero\", \n",
    "              \"d5_hero\"]\n",
    "#\n",
    "ids = None\n",
    "for num in heroes:\n",
    "    ids_current = features[num].unique()\n",
    "    if ids is None:\n",
    "        ids = ids_current\n",
    "    else:\n",
    "        np.concatenate((ids, ids_current), axis=0)\n",
    "ids = np.sort(ids)\n",
    "ids_num = ids[-1]\n",
    "#\n",
    "X_pick = np.zeros((features.shape[0], ids_num))\n",
    "X_pick_test = np.zeros((features_test.shape[0], ids_num))\n",
    "for i, match_id in enumerate(features.index):\n",
    "    for p in range(5):\n",
    "        X_pick[i, features.ix[match_id, 'r%d_hero' % (p+1)]-1] = 1\n",
    "        X_pick[i, features.ix[match_id, 'd%d_hero' % (p+1)]-1] = -1\n",
    "for i, match_id in enumerate(features_test.index):\n",
    "    for p in range(5):\n",
    "        X_pick_test[i, features_test.ix[match_id, 'r%d_hero' % (p+1)]-1] = 1\n",
    "        X_pick_test[i, features_test.ix[match_id, 'd%d_hero' % (p+1)]-1] = -1\n",
    "#        \n",
    "X_test = np.concatenate((X_test, X_pick_test), axis=1)\n",
    "X_train = np.concatenate((X_train, X_pick), axis=1)\n",
    "X_train = scaler.fit_transform(X_train)\n",
    "X_test = scaler.transform(X_test)"
   ]
  },
  {
   "cell_type": "code",
   "execution_count": 40,
   "metadata": {
    "collapsed": true
   },
   "outputs": [],
   "source": [
    "def test_logregr(X_train, y_train, X_test, C=1.0, bins=5):\n",
    "    clf = LogisticRegression(penalty='l2', C=C, n_jobs=-1)   \n",
    "    scores = []\n",
    "    coefs = None\n",
    "    for itrain, itest in split:\n",
    "        clf.fit(X_train[itrain], y_train[itrain])\n",
    "        coefs = clf.coef_\n",
    "        pred = clf.predict_proba(X_train[itest])[:, 1]\n",
    "        score = roc_auc_score(y_train[itest], pred)\n",
    "        scores.append(score)\n",
    "    print(coefs)\n",
    "    return sum(scores)/len(scores)"
   ]
  },
  {
   "cell_type": "code",
   "execution_count": 43,
   "metadata": {
    "collapsed": false
   },
   "outputs": [
    {
     "name": "stdout",
     "output_type": "stream",
     "text": [
      "[[ 0.01329966 -0.00793547  0.09303231  0.1987788   0.22201328 -0.0347765\n",
      "  -0.03979387  0.03794142 -0.00606299  0.02736437  0.06346255  0.1785931\n",
      "   0.23565862 -0.02680597 -0.04953801  0.02204005  0.01537021 -0.00157834\n",
      "   0.09686618  0.16348701  0.2334506  -0.03906773 -0.04426795  0.05240631\n",
      "   0.00914949  0.00217465  0.10772234  0.15098372  0.24743649 -0.02960954\n",
      "  -0.06314796  0.03051086  0.00380379  0.03477701  0.08013766  0.1712838\n",
      "   0.21886705 -0.02861339 -0.05357012  0.05236125 -0.003635   -0.00428591\n",
      "  -0.09041641 -0.19466413 -0.21008496  0.04141796  0.05511133 -0.02731309\n",
      "  -0.00691507 -0.00268519 -0.09414893 -0.21515676 -0.21060682  0.03546988\n",
      "   0.04764172 -0.03675381 -0.00507987  0.0100119  -0.13126327 -0.14132336\n",
      "  -0.22083398  0.01724428  0.04039901 -0.0349438  -0.00255787 -0.02650752\n",
      "  -0.07413077 -0.18026306 -0.21446939  0.03181551  0.04582582 -0.03931971\n",
      "  -0.0025106   0.00264937 -0.12497711 -0.15337044 -0.22398505  0.02045266\n",
      "   0.05635227 -0.04522728 -0.02547318  0.03810864 -0.0242786   0.02087975\n",
      "   0.02754944 -0.02471935  0.03978848 -0.03659462  0.03857164 -0.00075328\n",
      "   0.0099387  -0.01551105 -0.01725536  0.02091182 -0.01262072  0.03748593\n",
      "  -0.01226811  0.01105737 -0.0072881   0.01436281  0.04416161 -0.14512824\n",
      "  -0.06763188 -0.01957963  0.03199205  0.03141214  0.14784815  0.05732401\n",
      "  -0.00081888 -0.01003362  0.05100549 -0.01361862 -0.09116331  0.01425039\n",
      "  -0.03440179  0.00323825 -0.02806399  0.01946906  0.02889661  0.01000316\n",
      "  -0.11216083  0.08059607 -0.00282701  0.         -0.15659059 -0.08514216\n",
      "  -0.00451183  0.09489173 -0.00296911  0.02548184  0.02932009  0.04621604\n",
      "  -0.06924395 -0.0295553  -0.02524009  0.02077588  0.00696831  0.03194802\n",
      "  -0.21506399  0.0309476  -0.04529609  0.10890942 -0.02511903  0.00565822\n",
      "   0.00062726 -0.02504822 -0.11444447  0.01860152  0.02893338 -0.01058069\n",
      "   0.01914424  0.05025299 -0.032574   -0.02431994 -0.07907003 -0.01688604\n",
      "   0.12265803 -0.04268077  0.01318627  0.00259295 -0.05460062  0.04624164\n",
      "  -0.01908229 -0.01497812 -0.01319151 -0.02046435  0.17242814 -0.01289322\n",
      "   0.08933505  0.04964335  0.12949613  0.00499589  0.05571205 -0.00341726\n",
      "  -0.02958068 -0.06858822  0.03502884 -0.00174245 -0.03744756 -0.01133147\n",
      "   0.00037873  0.04192808  0.01141596 -0.01594661  0.04387279 -0.07121227\n",
      "  -0.04500417  0.00200721 -0.01327402 -0.00589609  0.03470759  0.01908869\n",
      "   0.02447779  0.03389652 -0.02068371  0.01065149 -0.03886577 -0.02762933\n",
      "  -0.06387473  0.05335177 -0.08231799  0.05840815  0.02168179 -0.05850516\n",
      "   0.00622712  0.00946554  0.          0.         -0.00799564  0.04291741\n",
      "   0.         -0.00593056]]\n",
      "0.751407423358\n",
      "['r1_hero' 'r1_level' 'r1_xp' 'r1_gold' 'r1_lh' 'r1_kills' 'r1_deaths'\n",
      " 'r1_items' 'r2_hero' 'r2_level' 'r2_xp' 'r2_gold' 'r2_lh' 'r2_kills'\n",
      " 'r2_deaths' 'r2_items' 'r3_hero' 'r3_level' 'r3_xp' 'r3_gold' 'r3_lh'\n",
      " 'r3_kills' 'r3_deaths' 'r3_items' 'r4_hero' 'r4_level' 'r4_xp' 'r4_gold'\n",
      " 'r4_lh' 'r4_kills' 'r4_deaths' 'r4_items' 'r5_hero' 'r5_level' 'r5_xp'\n",
      " 'r5_gold' 'r5_lh' 'r5_kills' 'r5_deaths' 'r5_items' 'd1_hero' 'd1_level'\n",
      " 'd1_xp' 'd1_gold' 'd1_lh' 'd1_kills' 'd1_deaths' 'd1_items' 'd2_hero'\n",
      " 'd2_level' 'd2_xp' 'd2_gold' 'd2_lh' 'd2_kills' 'd2_deaths' 'd2_items'\n",
      " 'd3_hero' 'd3_level' 'd3_xp' 'd3_gold' 'd3_lh' 'd3_kills' 'd3_deaths'\n",
      " 'd3_items' 'd4_hero' 'd4_level' 'd4_xp' 'd4_gold' 'd4_lh' 'd4_kills'\n",
      " 'd4_deaths' 'd4_items' 'd5_hero' 'd5_level' 'd5_xp' 'd5_gold' 'd5_lh'\n",
      " 'd5_kills' 'd5_deaths' 'd5_items' 'first_blood_time' 'first_blood_team'\n",
      " 'first_blood_player1' 'first_blood_player2' 'radiant_bottle_time'\n",
      " 'radiant_courier_time' 'radiant_flying_courier_time'\n",
      " 'radiant_tpscroll_count' 'radiant_boots_count'\n",
      " 'radiant_ward_observer_count' 'radiant_ward_sentry_count'\n",
      " 'radiant_first_ward_time' 'dire_bottle_time' 'dire_courier_time'\n",
      " 'dire_flying_courier_time' 'dire_tpscroll_count' 'dire_boots_count'\n",
      " 'dire_ward_observer_count' 'dire_ward_sentry_count' 'dire_first_ward_time'\n",
      " 'radiant_win']\n"
     ]
    }
   ],
   "source": [
    "split = KFold(X_train.shape[0], 5, shuffle=True)\n",
    "score = test_logregr(X_train, y_train, X_test)\n",
    "print(score)\n",
    "print(features.columns.values)"
   ]
  }
 ],
 "metadata": {
  "kernelspec": {
   "display_name": "Python 3",
   "language": "python",
   "name": "python3"
  },
  "language_info": {
   "codemirror_mode": {
    "name": "ipython",
    "version": 3
   },
   "file_extension": ".py",
   "mimetype": "text/x-python",
   "name": "python",
   "nbconvert_exporter": "python",
   "pygments_lexer": "ipython3",
   "version": "3.5.1"
  }
 },
 "nbformat": 4,
 "nbformat_minor": 0
}

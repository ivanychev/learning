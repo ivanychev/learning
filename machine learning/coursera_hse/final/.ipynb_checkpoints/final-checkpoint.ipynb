{
 "cells": [
  {
   "cell_type": "markdown",
   "metadata": {},
   "source": [
    "# One more thing"
   ]
  },
  {
   "cell_type": "code",
   "execution_count": 83,
   "metadata": {
    "collapsed": false
   },
   "outputs": [],
   "source": [
    "import pandas as pd\n",
    "import numpy as np\n",
    "import matplotlib.pylab as pl\n",
    "from sklearn.ensemble import GradientBoostingClassifier\n",
    "from sklearn.metrics import roc_auc_score\n",
    "from sklearn.cross_validation import KFold\n",
    "import time\n",
    "from functools import partial\n",
    "import datetime\n",
    "from sklearn.preprocessing import StandardScaler\n",
    "from sklearn.linear_model import LogisticRegression\n",
    "from scipy.optimize import minimize_scalar\n",
    "%matplotlib inline"
   ]
  },
  {
   "cell_type": "code",
   "execution_count": null,
   "metadata": {
    "collapsed": false
   },
   "outputs": [],
   "source": [
    "features = pd.read_csv('./features.csv', index_col='match_id')\n",
    "features_test = pd.read_csv('./features_test.csv', index_col='match_id')\n",
    "features_copy = features.copy()\n",
    "features_test_copy = features_test.copy()\n",
    "features_test.head()"
   ]
  },
  {
   "cell_type": "markdown",
   "metadata": {},
   "source": [
    "## Подход 1: градиентный бустинг \"в лоб\""
   ]
  },
  {
   "cell_type": "markdown",
   "metadata": {},
   "source": [
    "### Удаляем столбцы, связанные с итогами матча"
   ]
  },
  {
   "cell_type": "code",
   "execution_count": null,
   "metadata": {
    "collapsed": false
   },
   "outputs": [],
   "source": [
    "MATCH_RESULT_COLUMNS = [\"tower_status_radiant\", \n",
    "                        \"tower_status_dire\", \n",
    "                        \"barracks_status_radiant\", \n",
    "                        \"barracks_status_dire\",\n",
    "                        \"duration\"]\n",
    "features.drop(MATCH_RESULT_COLUMNS, axis=1, inplace=True)"
   ]
  },
  {
   "cell_type": "markdown",
   "metadata": {},
   "source": [
    "### Проверяем наличие пропусков"
   ]
  },
  {
   "cell_type": "code",
   "execution_count": null,
   "metadata": {
    "collapsed": false
   },
   "outputs": [],
   "source": [
    "def get_columns_with_na(df):\n",
    "    missed = df.shape[0] - df.count()\n",
    "    missed_labels = missed.index.values[missed.values > 0]\n",
    "    return missed_labels\n",
    "\n",
    "print(get_columns_with_na(features))"
   ]
  },
  {
   "cell_type": "markdown",
   "metadata": {},
   "source": [
    ">  Запишите названия признаков, имеющих пропуски, и попробуйте для любых двух из них дать обоснование, почему их значения могут быть пропущены\n",
    "\n",
    "* `first_blood_player1` - возможны игроки, которые за первые пять минут не убили ни одного противника\n",
    "* `dire_bottle_time` - dire не покупали bottle за первые пять минут"
   ]
  },
  {
   "cell_type": "markdown",
   "metadata": {},
   "source": [
    "### Заполняем пропуски"
   ]
  },
  {
   "cell_type": "code",
   "execution_count": null,
   "metadata": {
    "collapsed": false
   },
   "outputs": [],
   "source": [
    "def fill_na_calc_jumps(df, method, columns):\n",
    "    jumps = pd.Series()\n",
    "    for column in columns:\n",
    "        jumps[column] = (method == \"big\")   * (df[column].max() + 5 * df[column].std()) +\\\n",
    "                        (method == \"small\") * (df[column].min() - 5 * df[column].std()) +\\\n",
    "                        (method == \"zero\")  * (0)\n",
    "    return jumps\n",
    "\n",
    "def fill_na(df, method, jumps=None):\n",
    "    \"\"\"\n",
    "    method \\in [\"zero\", \"big\", \"small\"]\n",
    "    \"\"\"\n",
    "    columns = get_columns_with_na(df)\n",
    "    if not isinstance(jumps, pd.Series):\n",
    "        jumps = fill_na_calc_jumps(df, method, columns)\n",
    "    for column in columns:\n",
    "        df[column] = df[column].fillna(jumps[column])\n",
    "    return df, jumps"
   ]
  },
  {
   "cell_type": "code",
   "execution_count": null,
   "metadata": {
    "collapsed": false
   },
   "outputs": [],
   "source": [
    "print(type(features_test))\n",
    "features, f_jumps = fill_na(features, \"zero\")\n",
    "features_test, ft_jumps = fill_na(features_test, \"zero\", f_jumps)"
   ]
  },
  {
   "cell_type": "markdown",
   "metadata": {},
   "source": [
    "### Целевая переменная"
   ]
  },
  {
   "cell_type": "code",
   "execution_count": null,
   "metadata": {
    "collapsed": false
   },
   "outputs": [],
   "source": [
    "target = \"radiant_win\"\n",
    "\n",
    "def get_train_test(df_train, df_test, target_column):\n",
    "    train_columns = list(df_train.columns.values)\n",
    "    train_columns.remove(target_column)\n",
    "    assert train_columns == list(df_test.columns.values)\n",
    "    X_train = df_train[train_columns].as_matrix()\n",
    "    X_test = df_test[train_columns].as_matrix()\n",
    "    y_train = df_train[target_column].as_matrix()\n",
    "    return X_train, y_train, X_test\n",
    "    \n",
    "X_train, y_train, X_test = get_train_test(features, features_test, target)"
   ]
  },
  {
   "cell_type": "markdown",
   "metadata": {},
   "source": [
    "### Обучаем градиентный бустинг"
   ]
  },
  {
   "cell_type": "code",
   "execution_count": null,
   "metadata": {
    "collapsed": false
   },
   "outputs": [],
   "source": [
    "def test_boosting(X_train, y_train, X_test, ntrees, bins=5, learning_rate=0.1):\n",
    "    split = KFold(X_train.shape[0], bins, shuffle=True)\n",
    "    clf = GradientBoostingClassifier(n_estimators=ntrees, verbose=False, learning_rate=learning_rate)\n",
    "    scores = []\n",
    "    for itrain, itest in split:\n",
    "        clf.fit(X_train[itrain], y_train[itrain])\n",
    "        pred = clf.predict_proba(X_train[itest])[:, 1]\n",
    "        score = roc_auc_score(y_train[itest], pred)\n",
    "        scores.append(score)\n",
    "    return sum(scores)/len(scores)\n",
    "\n",
    "for trees in range(10, 31, 5):\n",
    "    %time score = test_boosting(X_train, y_train, X_test, trees)\n",
    "    print(\"trees = %d, score = %f\" %(trees, score))"
   ]
  },
  {
   "cell_type": "markdown",
   "metadata": {},
   "source": [
    "### Отчет\n",
    "\n",
    "1. [Пропуски и что они могут означать](#Проверяем-наличие-пропусков)\n",
    "2. [Целевая переменная](#Целевая-переменная)\n",
    "3. [Время кросс-валидации для 30-ти деревьев (внизу) и соответствующее качество](#Обучаем-градиентный-бустинг)\n",
    "4. Согласно скорам из предыдущего пункта наращивание количества деревьев мало влияет на результат"
   ]
  },
  {
   "cell_type": "markdown",
   "metadata": {},
   "source": [
    "## Логистическая регрессия"
   ]
  },
  {
   "cell_type": "markdown",
   "metadata": {},
   "source": [
    "### Преобразуем признаки"
   ]
  },
  {
   "cell_type": "code",
   "execution_count": 56,
   "metadata": {
    "collapsed": false
   },
   "outputs": [],
   "source": [
    "scaler = StandardScaler()\n",
    "X_train = scaler.fit_transform(X_train)"
   ]
  },
  {
   "cell_type": "code",
   "execution_count": 57,
   "metadata": {
    "collapsed": true
   },
   "outputs": [],
   "source": [
    "X_test = scaler.transform(X_test)"
   ]
  },
  {
   "cell_type": "code",
   "execution_count": 96,
   "metadata": {
    "collapsed": false
   },
   "outputs": [
    {
     "name": "stdout",
     "output_type": "stream",
     "text": [
      "3.88146351138\n",
      "6.21853648862\n",
      "2.43707297725\n",
      "4.13554256921\n",
      "3.88949892758\n",
      "3.88634905452\n",
      "3.98347923597\n",
      "3.92539621111\n",
      "3.90321046978\n",
      "3.89473627066\n",
      "3.89149941462\n",
      "3.88829578313\n",
      "3.89026304563\n",
      "3.8898595715\n",
      "3.88967924954\n",
      "3.88961037268\n",
      "3.88956780444\n",
      "3.88954149582\n",
      "3.8895252362\n",
      "3.8895151872\n",
      "3.88950897658\n",
      "3.8895051382\n"
     ]
    }
   ],
   "source": [
    "split = KFold(X_train.shape[0], 5, shuffle=True)\n",
    "def test_logregr(X_train, y_train, X_test, C=1.0, bins=5):\n",
    "    clf = LogisticRegression(penalty='l2', C=C, n_jobs=-1)   \n",
    "#     split = KFold(X_train.shape[0], bins, shuffle=True)\n",
    "    scores = []\n",
    "    for itrain, itest in split:\n",
    "        clf.fit(X_train[itrain], y_train[itrain])\n",
    "        pred = clf.predict_proba(X_train[itest])[:, 1]\n",
    "        score = roc_auc_score(y_train[itest], pred)\n",
    "        scores.append(score)\n",
    "    return sum(scores)/len(scores)\n",
    "\n",
    "def _test_logregr(C):\n",
    "    print(C)\n",
    "    return -1.0 * test_logregr(X_train, y_train, X_test, C)\n",
    "\n",
    "solution = minimize_scalar(_test_logregr, bounds=(0.1, 10), method='bounded')"
   ]
  },
  {
   "cell_type": "code",
   "execution_count": null,
   "metadata": {
    "collapsed": true
   },
   "outputs": [],
   "source": []
  }
 ],
 "metadata": {
  "kernelspec": {
   "display_name": "Python 3",
   "language": "python",
   "name": "python3"
  },
  "language_info": {
   "codemirror_mode": {
    "name": "ipython",
    "version": 3
   },
   "file_extension": ".py",
   "mimetype": "text/x-python",
   "name": "python",
   "nbconvert_exporter": "python",
   "pygments_lexer": "ipython3",
   "version": "3.5.1"
  }
 },
 "nbformat": 4,
 "nbformat_minor": 0
}

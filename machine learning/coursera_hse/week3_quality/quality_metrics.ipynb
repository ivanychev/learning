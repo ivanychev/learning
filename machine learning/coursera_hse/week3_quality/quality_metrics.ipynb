{
 "cells": [
  {
   "cell_type": "markdown",
   "metadata": {},
   "source": [
    "## Метрики качества"
   ]
  },
  {
   "cell_type": "code",
   "execution_count": 19,
   "metadata": {
    "collapsed": true
   },
   "outputs": [],
   "source": [
    "import pandas as pd\n",
    "import numpy as np\n",
    "import sklearn.metrics as mt"
   ]
  },
  {
   "cell_type": "markdown",
   "metadata": {},
   "source": [
    "> Загрузите файл classification.csv. В нем записаны истинные классы объектов выборки (колонка true) и ответы некоторого классификатора (колонка predicted).\n",
    "\n",
    "> Подсчитайте величины TP, FP, FN и TN согласно их определениям. Например, FP — это количество объектов, имеющих класс 0, но отнесенных алгоритмом к классу 1. Ответ в данном вопросе — четыре числа через пробел."
   ]
  },
  {
   "cell_type": "code",
   "execution_count": 52,
   "metadata": {
    "collapsed": false
   },
   "outputs": [
    {
     "name": "stdout",
     "output_type": "stream",
     "text": [
      "43 34 59 64\n"
     ]
    }
   ],
   "source": [
    "cln = pd.read_csv(\"classification.csv\")\n",
    "errors = {\"TP\":0, \"TN\":0, \"FP\":0, \"FN\":0}\n",
    "def is_TP(x):\n",
    "    return (x[0], x[1]) == (1, 1)\n",
    "def is_FN(x):\n",
    "    return (x[0], x[1]) == (1, 0)\n",
    "def is_FP(x):\n",
    "    return (x[0], x[1]) == (0, 1)\n",
    "def is_TN(x):\n",
    "    return (x[0], x[1]) == (0, 0)\n",
    "cln[\"is_TP\"] = cln.apply(is_TP, axis=1)\n",
    "cln[\"is_FN\"] = cln.apply(is_FN, axis=1)\n",
    "cln[\"is_FP\"] = cln.apply(is_FP, axis=1)\n",
    "cln[\"is_TN\"] = cln.apply(is_TN, axis=1)\n",
    "\n",
    "TP, FN, FP, TN = cln[[\"is_TP\", \"is_FN\", \"is_FP\", \"is_TN\"]].sum()\n",
    "print(TP, FP, FN, TN)"
   ]
  },
  {
   "cell_type": "markdown",
   "metadata": {},
   "source": [
    "> Посчитайте основные метрики качества классификатора:\n",
    ">\n",
    ">Accuracy (доля верно угаданных) — sklearn.metrics.accuracy_score\n",
    "Precision (точность) — sklearn.metrics.precision_score\n",
    "Recall (полнота) — sklearn.metrics.recall_score\n",
    "F-мера — sklearn.metrics.f1_score\n",
    "В качестве ответа укажите эти четыре числа через пробел."
   ]
  },
  {
   "cell_type": "code",
   "execution_count": 53,
   "metadata": {
    "collapsed": false
   },
   "outputs": [
    {
     "name": "stdout",
     "output_type": "stream",
     "text": [
      "0.535 0.558441558442 0.421568627451 0.480446927374\n"
     ]
    }
   ],
   "source": [
    "accuracy = mt.accuracy_score(y_pred=cln[\"pred\"], y_true=cln[\"true\"])\n",
    "precision = mt.precision_score(y_pred=cln[\"pred\"], y_true=cln[\"true\"])\n",
    "recall = mt.recall_score(y_pred=cln[\"pred\"], y_true=cln[\"true\"])\n",
    "f1_score = mt.f1_score(y_pred=cln[\"pred\"], y_true=cln[\"true\"])\n",
    "print(accuracy, precision, recall, f1_score)"
   ]
  },
  {
   "cell_type": "markdown",
   "metadata": {},
   "source": [
    "> Имеется четыре обученных классификатора. В файле scores.csv записаны истинные классы и значения степени принадлежности положительному классу для каждого классификатора на некоторой выборке:\n",
    "\n",
    "> * для логистической регрессии — вероятность положительного класса (колонка score_logreg),\n",
    "> * для SVM — отступ от разделяющей поверхности (колонка score_svm),\n",
    "> * для метрического алгоритма — взвешенная сумма классов соседей (колонка score_knn),\n",
    "> * для решающего дерева — доля положительных объектов в листе (колонка score_tree)."
   ]
  },
  {
   "cell_type": "code",
   "execution_count": 30,
   "metadata": {
    "collapsed": false
   },
   "outputs": [
    {
     "data": {
      "text/html": [
       "<div>\n",
       "<table border=\"1\" class=\"dataframe\">\n",
       "  <thead>\n",
       "    <tr style=\"text-align: right;\">\n",
       "      <th></th>\n",
       "      <th>true</th>\n",
       "      <th>score_logreg</th>\n",
       "      <th>score_svm</th>\n",
       "      <th>score_knn</th>\n",
       "      <th>score_tree</th>\n",
       "    </tr>\n",
       "  </thead>\n",
       "  <tbody>\n",
       "    <tr>\n",
       "      <th>0</th>\n",
       "      <td>0</td>\n",
       "      <td>0.683832</td>\n",
       "      <td>0.145976</td>\n",
       "      <td>0.787063</td>\n",
       "      <td>0.500000</td>\n",
       "    </tr>\n",
       "    <tr>\n",
       "      <th>1</th>\n",
       "      <td>1</td>\n",
       "      <td>0.801966</td>\n",
       "      <td>0.239511</td>\n",
       "      <td>1.000000</td>\n",
       "      <td>0.833333</td>\n",
       "    </tr>\n",
       "    <tr>\n",
       "      <th>2</th>\n",
       "      <td>0</td>\n",
       "      <td>0.382315</td>\n",
       "      <td>-0.245701</td>\n",
       "      <td>0.000000</td>\n",
       "      <td>0.000000</td>\n",
       "    </tr>\n",
       "    <tr>\n",
       "      <th>3</th>\n",
       "      <td>1</td>\n",
       "      <td>0.506797</td>\n",
       "      <td>-0.137058</td>\n",
       "      <td>0.000000</td>\n",
       "      <td>0.105263</td>\n",
       "    </tr>\n",
       "    <tr>\n",
       "      <th>4</th>\n",
       "      <td>1</td>\n",
       "      <td>0.488781</td>\n",
       "      <td>-0.154148</td>\n",
       "      <td>0.000000</td>\n",
       "      <td>0.105263</td>\n",
       "    </tr>\n",
       "  </tbody>\n",
       "</table>\n",
       "</div>"
      ],
      "text/plain": [
       "   true  score_logreg  score_svm  score_knn  score_tree\n",
       "0     0      0.683832   0.145976   0.787063    0.500000\n",
       "1     1      0.801966   0.239511   1.000000    0.833333\n",
       "2     0      0.382315  -0.245701   0.000000    0.000000\n",
       "3     1      0.506797  -0.137058   0.000000    0.105263\n",
       "4     1      0.488781  -0.154148   0.000000    0.105263"
      ]
     },
     "execution_count": 30,
     "metadata": {},
     "output_type": "execute_result"
    }
   ],
   "source": [
    "scores = pd.read_csv(\"scores.csv\")\n",
    "scores.head()"
   ]
  },
  {
   "cell_type": "markdown",
   "metadata": {},
   "source": [
    "### Хозяйке на заметку\n",
    "\n",
    "ROC - метрику можно считать не только по вероятностям принадлежности, но и по степеням уверенности\n",
    "\n",
    "> _score : array, shape = [n_samples] or [n_samples, n_classes]\n",
    "> Target scores, can either be probability estimates of the positive class, confidence values, or binary decisions.\n",
    "\n",
    "[Источник](http://scikit-learn.org/stable/modules/generated/sklearn.metrics.roc_auc_score.html)"
   ]
  },
  {
   "cell_type": "code",
   "execution_count": 33,
   "metadata": {
    "collapsed": false
   },
   "outputs": [
    {
     "name": "stdout",
     "output_type": "stream",
     "text": [
      "0.71918767507 0.708683473389 0.635154061625 0.691926770708\n"
     ]
    }
   ],
   "source": [
    "S_logreg = mt.roc_auc_score(y_true=scores[\"true\"], y_score=scores[\"score_logreg\"])\n",
    "S_svm = mt.roc_auc_score(y_true=scores[\"true\"], y_score=scores[\"score_svm\"])\n",
    "S_knn = mt.roc_auc_score(y_true=scores[\"true\"], y_score=scores[\"score_knn\"])\n",
    "S_tree = mt.roc_auc_score(y_true=scores[\"true\"], y_score=scores[\"score_tree\"])\n",
    "\n",
    "print(S_logreg, S_svm, S_knn, S_tree)"
   ]
  },
  {
   "cell_type": "markdown",
   "metadata": {},
   "source": [
    "> Какой классификатор достигает наибольшей точности (Precision) при полноте (Recall) не менее 70% ? Какое значение точности при этом получается?\n",
    "\n",
    "> Чтобы получить ответ на этот вопрос, найдите все точки precision-recall-кривой с помощью функции sklearn.metrics.precision_recall_curve. Она возвращает три массива: precision, recall, thresholds. В них записаны точность и полнота при определенных порогах, указанных в массиве thresholds. Найдите максимальной значение точности среди тех записей, для которых полнота не меньше, чем 0.7."
   ]
  },
  {
   "cell_type": "code",
   "execution_count": 41,
   "metadata": {
    "collapsed": false
   },
   "outputs": [
    {
     "data": {
      "text/plain": [
       "numpy.ndarray"
      ]
     },
     "execution_count": 41,
     "metadata": {},
     "output_type": "execute_result"
    }
   ],
   "source": [
    "pts_logreg = mt.precision_recall_curve(scores[\"true\"], scores[\"score_logreg\"])\n",
    "pts_svm = mt.precision_recall_curve(scores[\"true\"], scores[\"score_svm\"])\n",
    "pts_knn = mt.precision_recall_curve(scores[\"true\"], scores[\"score_knn\"])\n",
    "pts_tree = mt.precision_recall_curve(scores[\"true\"], scores[\"score_tree\"])\n",
    "type(pts_logreg[2])"
   ]
  },
  {
   "cell_type": "code",
   "execution_count": 54,
   "metadata": {
    "collapsed": false
   },
   "outputs": [
    {
     "name": "stdout",
     "output_type": "stream",
     "text": [
      "0.63025210084 0.622807017544 0.606557377049 0.651785714286\n"
     ]
    }
   ],
   "source": [
    "logreg_max_prec = pts_logreg[0][(pts_logreg[1] > 0.7)].max()\n",
    "svm_max_prec = pts_svm[0][(pts_svm[1] > 0.7)].max()\n",
    "knn_max_prec = pts_knn[0][(pts_knn[1] > 0.7)].max()\n",
    "tree_max_prec = pts_tree[0][(pts_tree[1] > 0.7)].max()\n",
    "print(logreg_max_prec, svm_max_prec, knn_max_prec, tree_max_prec)"
   ]
  }
 ],
 "metadata": {
  "kernelspec": {
   "display_name": "Python 3",
   "language": "python",
   "name": "python3"
  },
  "language_info": {
   "codemirror_mode": {
    "name": "ipython",
    "version": 3
   },
   "file_extension": ".py",
   "mimetype": "text/x-python",
   "name": "python",
   "nbconvert_exporter": "python",
   "pygments_lexer": "ipython3",
   "version": "3.5.1"
  }
 },
 "nbformat": 4,
 "nbformat_minor": 0
}

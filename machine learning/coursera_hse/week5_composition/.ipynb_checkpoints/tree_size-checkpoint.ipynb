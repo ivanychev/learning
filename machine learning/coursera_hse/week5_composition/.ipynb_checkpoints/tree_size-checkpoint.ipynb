{
 "cells": [
  {
   "cell_type": "markdown",
   "metadata": {},
   "source": [
    "## RandomForest"
   ]
  },
  {
   "cell_type": "code",
   "execution_count": 15,
   "metadata": {
    "collapsed": true
   },
   "outputs": [],
   "source": [
    "import numpy as np\n",
    "import pandas as pd\n",
    "from sklearn.ensemble import RandomForestRegressor\n",
    "from sklearn.metrics import r2_score\n",
    "from sklearn.cross_validation import KFold\n",
    "from sklearn.cross_validation import cross_val_score"
   ]
  },
  {
   "cell_type": "markdown",
   "metadata": {},
   "source": [
    "> Загрузите данные из файла abalone.csv. Это датасет, в котором требуется предсказать возраст ракушки (число колец) по физическим измерениям.\n",
    "\n",
    "> Преобразуйте признак Sex в числовой: значение F должно перейти в -1, I — в 0, M — в 1. Если вы используете Pandas, то подойдет следующий код: `data['Sex'] = data['Sex'].map(lambda x: 1 if x == 'M' else (-1 if x == 'F' else 0))`\n",
    "\n",
    "> Разделите содержимое файлов на признаки и целевую переменную. В последнем столбце записана целевая переменная, в остальных — признаки."
   ]
  },
  {
   "cell_type": "code",
   "execution_count": 20,
   "metadata": {
    "collapsed": false
   },
   "outputs": [
    {
     "name": "stdout",
     "output_type": "stream",
     "text": [
      "(4177,) (4177, 8)\n"
     ]
    }
   ],
   "source": [
    "data = pd.read_csv(\"abalone.csv\")\n",
    "data['Sex'] = data['Sex'].map(lambda x: 1 if x == 'M' else (-1 if x == 'F' else 0))\n",
    "Y = data[\"Rings\"].as_matrix()\n",
    "X = data[data.columns[:-1]].as_matrix()\n",
    "print(Y.shape, X.shape)"
   ]
  },
  {
   "cell_type": "markdown",
   "metadata": {},
   "source": [
    "> Обучите случайный лес (sklearn.ensemble.RandomForestRegressor) с различным числом деревьев: от 1 до 50 (не забудьте выставить \"random_state=1\" в конструкторе). Для каждого из вариантов оцените качество работы полученного леса на кросс-валидации по 5 блокам. Используйте параметры \"random_state=1\" и \"shuffle=True\" при создании генератора кросс-валидации sklearn.cross_validation.KFold. В качестве меры качества воспользуйтесь долей правильных ответов (sklearn.metrics.r2_score).\n",
    "\n",
    "> Определите, при каком минимальном количестве деревьев случайный лес показывает качество на кросс-валидации выше 0.52. Это количество и будет ответом на задание.\n",
    "\n",
    "> Обратите внимание на изменение качества по мере роста числа деревьев. Ухудшается ли оно?"
   ]
  },
  {
   "cell_type": "code",
   "execution_count": 27,
   "metadata": {
    "collapsed": false
   },
   "outputs": [
    {
     "name": "stdout",
     "output_type": "stream",
     "text": [
      "0.0803591511373\n",
      "0.317290088578\n",
      "0.405083943293\n",
      "0.444491539193\n",
      "0.462437781837\n",
      "0.454891868922\n",
      "0.482732301777\n",
      "0.48092335357\n",
      "0.505561271058\n",
      "0.498878243714\n",
      "0.496830116019\n",
      "0.499900281607\n",
      "0.501270014249\n",
      "0.505335386949\n",
      "0.511330406988\n",
      "0.509305776619\n",
      "0.513365158267\n",
      "0.512863748966\n",
      "0.516700702516\n",
      "0.509838836261\n",
      "0.52475836934\n",
      "21\n"
     ]
    }
   ],
   "source": [
    "def scorer(estimator, X, y):\n",
    "    y_pred = estimator.predict(X)\n",
    "    return r2_score(y, y_pred)\n",
    "\n",
    "treshold = 0.52\n",
    "for estimators in range(1, 50 + 1):\n",
    "    rgr = RandomForestRegressor(n_estimators=estimators)\n",
    "    generator = KFold(X.shape[0], n_folds=5, shuffle=True, random_state=1)\n",
    "    score = cross_val_score(rgr, X, Y, scoring='r2', cv=generator).mean()\n",
    "    print(score)\n",
    "    if score >= treshold:\n",
    "        print(estimators)\n",
    "        break"
   ]
  }
 ],
 "metadata": {
  "kernelspec": {
   "display_name": "Python 3",
   "language": "python",
   "name": "python3"
  },
  "language_info": {
   "codemirror_mode": {
    "name": "ipython",
    "version": 3
   },
   "file_extension": ".py",
   "mimetype": "text/x-python",
   "name": "python",
   "nbconvert_exporter": "python",
   "pygments_lexer": "ipython3",
   "version": "3.5.1"
  }
 },
 "nbformat": 4,
 "nbformat_minor": 0
}

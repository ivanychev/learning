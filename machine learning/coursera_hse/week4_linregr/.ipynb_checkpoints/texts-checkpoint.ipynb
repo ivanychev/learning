{
 "cells": [
  {
   "cell_type": "markdown",
   "metadata": {},
   "source": [
    "## Линейная регрессия"
   ]
  },
  {
   "cell_type": "code",
   "execution_count": 12,
   "metadata": {
    "collapsed": false
   },
   "outputs": [],
   "source": [
    "import numpy as np\n",
    "import pandas as pd\n",
    "from sklearn.feature_extraction.text import TfidfVectorizer\n",
    "from sklearn.linear_model import Ridge\n",
    "from sklearn.feature_extraction import DictVectorizer"
   ]
  },
  {
   "cell_type": "markdown",
   "metadata": {},
   "source": [
    "Данные весят порядка 100мб, поэтому в базовом случае в папке с ноутбуком их нет. Они могут быть загружены с Coursera по ссылкам [salary-train](https://d3c33hcgiwev3.cloudfront.net/_df0abf627c1cd98b7332b285875e7fe9_salary-train.csv?Expires=1455667200&Signature=ORTDmaMg1WTcvEDjsM5sgk0-m51884G6dBTT22Gz6JE5NnYTCYZTHv6ZN8lVMxiulqyzw33NHrX6XHw5sQF6oWCglDtA~jBGTa0JlhIfQrDog1YDdv7YoDinkM-hCo9iC89uRZD1OCw0ApGFLPLF65~wTAieVKlJtwztMh573Tk_&Key-Pair-Id=APKAJLTNE6QMUY6HBC5A) и [salary-test-mini](https://d3c33hcgiwev3.cloudfront.net/_d0f655638f1d87a0bdeb3bad26099ecd_salary-test-mini.csv?Expires=1455667200&Signature=B4p1vWxU8ut8p4yCQlpF1EYvMOuKVpx7bSI7ILsdBI3ktXwAZ8Tu4Rrj1HkaRxSKlsv6ObCAs3qusy2ZmQXMjPJQ4tn-GuFkjhN6VAK816bd9ULZTgeWjWtjhs1p8oM4AizBPMpcK3TS3WNFaOCM5UQxxxQBHYbhAHgpKUqEsPw_&Key-Pair-Id=APKAJLTNE6QMUY6HBC5A)\n",
    "\n",
    "### Считываем, чистим и нормализуем данные"
   ]
  },
  {
   "cell_type": "code",
   "execution_count": 52,
   "metadata": {
    "collapsed": false
   },
   "outputs": [
    {
     "data": {
      "text/html": [
       "<div>\n",
       "<table border=\"1\" class=\"dataframe\">\n",
       "  <thead>\n",
       "    <tr style=\"text-align: right;\">\n",
       "      <th></th>\n",
       "      <th>FullDescription</th>\n",
       "      <th>LocationNormalized</th>\n",
       "      <th>ContractTime</th>\n",
       "      <th>SalaryNormalized</th>\n",
       "    </tr>\n",
       "  </thead>\n",
       "  <tbody>\n",
       "    <tr>\n",
       "      <th>0</th>\n",
       "      <td>international sales manager london     k      ...</td>\n",
       "      <td>london</td>\n",
       "      <td>permanent</td>\n",
       "      <td>33000</td>\n",
       "    </tr>\n",
       "  </tbody>\n",
       "</table>\n",
       "</div>"
      ],
      "text/plain": [
       "                                     FullDescription LocationNormalized  \\\n",
       "0  international sales manager london     k      ...             london   \n",
       "\n",
       "  ContractTime  SalaryNormalized  \n",
       "0    permanent             33000  "
      ]
     },
     "execution_count": 52,
     "metadata": {},
     "output_type": "execute_result"
    }
   ],
   "source": [
    "train_df = pd.read_csv(\"salary-train.csv\")\n",
    "test_df = pd.read_csv(\"salary-test-mini.csv\")\n",
    "# train_df[\"ContractTime\"].unique()\n",
    "train_df['LocationNormalized'].fillna('nan', inplace=True)\n",
    "train_df['ContractTime'].fillna('nan', inplace=True)\n",
    "new = test_df[['FullDescription', 'LocationNormalized', 'ContractTime']].applymap(lambda x: x.lower())\n",
    "test_df[['FullDescription', 'LocationNormalized', 'ContractTime']] = new # rewrite\n",
    "new = train_df[['FullDescription', 'LocationNormalized', 'ContractTime']].applymap(lambda x: x.lower())\n",
    "train_df[['FullDescription', 'LocationNormalized', 'ContractTime']] = new\n",
    "train_df['FullDescription'] = train_df['FullDescription'].replace('[^a-zA-Z0-9]', ' ', regex = True)\n",
    "test_df['FullDescription'] = test_df['FullDescription'].replace('[^a-zA-Z0-9]', ' ', regex = True)\n",
    "train_df.head(1)"
   ]
  },
  {
   "cell_type": "markdown",
   "metadata": {},
   "source": [
    "> Обратите внимание, что признаки LocationNormalized и ContractTime являются строковыми, и поэтому с ними нельзя работать напрямую. Такие нечисловые признаки с неупорядоченными значениями называют категориальными или номинальными. Типичный подход к их обработке — кодирование категориального признака с m возможными значениями с помощью m бинарных признаков. Каждый бинарный признак соответствует одному из возможных значений категориального признака и является индикатором того, что на данном объекте он принимает данное значение. Данный подход иногда называют one-hot-кодированием. Воспользуйтесь им, чтобы перекодировать признаки LocationNormalized и ContractTime. Он уже реализован в классе sklearn.feature_extraction.DictVectorizer. "
   ]
  },
  {
   "cell_type": "code",
   "execution_count": 33,
   "metadata": {
    "collapsed": false
   },
   "outputs": [
    {
     "data": {
      "text/plain": [
       "(60000, 1766)"
      ]
     },
     "execution_count": 33,
     "metadata": {},
     "output_type": "execute_result"
    }
   ],
   "source": [
    "enc = DictVectorizer()\n",
    "X_train_categ = enc.fit_transform(train_df[['LocationNormalized', 'ContractTime']].to_dict('records'))\n",
    "X_test_categ = enc.transform(test_df[['LocationNormalized', 'ContractTime']].to_dict('records'))\n"
   ]
  }
 ],
 "metadata": {
  "kernelspec": {
   "display_name": "Python 3",
   "language": "python",
   "name": "python3"
  },
  "language_info": {
   "codemirror_mode": {
    "name": "ipython",
    "version": 3
   },
   "file_extension": ".py",
   "mimetype": "text/x-python",
   "name": "python",
   "nbconvert_exporter": "python",
   "pygments_lexer": "ipython3",
   "version": "3.5.1"
  }
 },
 "nbformat": 4,
 "nbformat_minor": 0
}

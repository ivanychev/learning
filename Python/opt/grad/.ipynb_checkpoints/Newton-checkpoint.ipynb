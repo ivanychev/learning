{
 "cells": [
  {
   "cell_type": "markdown",
   "metadata": {},
   "source": [
    "## Одномерный метод Ньютона"
   ]
  },
  {
   "cell_type": "markdown",
   "metadata": {},
   "source": [
    "_Иванычев Сергей, 376 группа_\n"
   ]
  },
  {
   "cell_type": "code",
   "execution_count": 51,
   "metadata": {
    "collapsed": true
   },
   "outputs": [],
   "source": [
    "import numpy as np\n",
    "import sympy as sy\n",
    "from sympy.utilities import lambdify\n",
    "from math import pi\n",
    "from scipy.optimize import minimize"
   ]
  },
  {
   "cell_type": "code",
   "execution_count": 15,
   "metadata": {
    "collapsed": false
   },
   "outputs": [],
   "source": [
    "x = sy.symbols('x')\n",
    "sym_f = sy.sin(x)\n",
    "sym_df = sy.diff(f, x)\n",
    "sym_ddf = sy.diff(df, x)\n",
    "f = lambdify(x, sym_f)\n",
    "df = lambdify(x, sym_df)\n",
    "ddf = lambdify(x, sym_ddf)"
   ]
  },
  {
   "cell_type": "code",
   "execution_count": 44,
   "metadata": {
    "collapsed": false
   },
   "outputs": [],
   "source": [
    "def newton_1d(x_0, f, df, ddf, eps=0.0001, iter_max=1000000, verbose=True):\n",
    "    \"\"\"\n",
    "    Input:\n",
    "    x_0         starting point\n",
    "    f           target function\n",
    "    df          first derivative\n",
    "    ddf         second derivative\n",
    "    eps         stopping treshold for gradient norm\n",
    "    iter_max    maximum number of iterations\n",
    "    verbose     enabling text output\n",
    "    \n",
    "    Output:\n",
    "    function extremum value, extremum point\n",
    "    \"\"\"\n",
    "    if verbose == True:\n",
    "        vprint = print\n",
    "    else:\n",
    "        def vprint(*args, **kwargs):\n",
    "            return None\n",
    "    iters = 0\n",
    "    x = x_0\n",
    "    x_old = None\n",
    "    while iters < iter_max and np.abs(df(x)) > eps:\n",
    "        x = x - df(x)/ddf(x)\n",
    "        iters += 1\n",
    "    vprint(\"Iterations = %d\" % iters)\n",
    "    return f(x), x"
   ]
  },
  {
   "cell_type": "code",
   "execution_count": 55,
   "metadata": {
    "collapsed": false
   },
   "outputs": [
    {
     "name": "stdout",
     "output_type": "stream",
     "text": [
      "Iterations = 3\n",
      "(1.0, 1.5707963267954879)\n",
      "Iterations = 2\n",
      "(0.9999999999704976, 1.5708040082580965)\n",
      "Iterations = 4\n",
      "(1.0, -4.712388980650428)\n",
      "Iterations = 3\n",
      "(-1.0, 4.712388980912051)\n",
      "Iterations = 2\n",
      "(-0.9999999999999831, 4.712389164306483)\n",
      "Iterations = 4\n",
      "(0.9999999975153049, 1.5707258328931568)\n"
     ]
    }
   ],
   "source": [
    "print(newton_1d(1, f, df, ddf))\n",
    "print(newton_1d(2, f, df, ddf))\n",
    "print(newton_1d(3, f, df, ddf))\n",
    "print(newton_1d(4, f, df, ddf))\n",
    "print(newton_1d(5, f, df, ddf))\n",
    "print(newton_1d(6, f, df, ddf))"
   ]
  },
  {
   "cell_type": "markdown",
   "metadata": {},
   "source": [
    "## Двумерный демпфированный метод Ньютона"
   ]
  },
  {
   "cell_type": "markdown",
   "metadata": {},
   "source": [
    "$$\n",
    "f(x) = x^\\intercal Ax + b^\\intercal x + x_1^4 + x_2^4 \\to \\min\n",
    "$$\n",
    "$$\n",
    "\\nabla f(x) = (A^\\intercal + A)x + b + 4\\begin{pmatrix}x_1^3\\\\x_2^3\\end{pmatrix}\n",
    "$$\n",
    "$$\n",
    "\\nabla^2 f(x) = (A^\\intercal + A) + 12\\begin{pmatrix}x_1^2 & 0 \\\\ 0 & x_2^2\\end{pmatrix}\n",
    "$$"
   ]
  },
  {
   "cell_type": "code",
   "execution_count": 184,
   "metadata": {
    "collapsed": false
   },
   "outputs": [],
   "source": [
    "def generate_f():\n",
    "    A = np.random.random((2, 2))\n",
    "    b = np.random.random((2,))\n",
    "    def f(x):\n",
    "        return np.dot(np.dot(x, A), x) + np.dot(b, x) + x[0]**4 + x[1]**4\n",
    "    def df(x):\n",
    "        return np.dot((A + np.transpose(A)), x) + b + 4*x**3\n",
    "    def ddf(x):\n",
    "        return np.transpose(A) + A + 12 * np.array([[x[0]**2, 0], [0, x[1]**2]])\n",
    "    return f, df, ddf, A, b"
   ]
  },
  {
   "cell_type": "code",
   "execution_count": 181,
   "metadata": {
    "collapsed": false
   },
   "outputs": [],
   "source": [
    "f, df, ddf, A, b = generate_f()"
   ]
  },
  {
   "cell_type": "code",
   "execution_count": 182,
   "metadata": {
    "collapsed": true
   },
   "outputs": [],
   "source": [
    "ALPHA0 = 1\n",
    "THETA = 0.5\n",
    "EPSILON = 0.1\n",
    "GAMMA = 0.01          #regularization\n",
    "\n",
    "def get_step(x, f, df, ddf, iter_max=100):\n",
    "    alpha = ALPHA0\n",
    "    iters = 0\n",
    "    s = -df(x)\n",
    "    while (iters == 0 or lhs > rhs) and iters < iter_max:\n",
    "        lhs = f(x + alpha*s)\n",
    "        rhs = f(x) - EPSILON*alpha*np.dot(s, s)\n",
    "        if lhs > rhs:\n",
    "            alpha = alpha*THETA\n",
    "        iters +=1\n",
    "    return alpha\n",
    "\n",
    "def is_invertible(A):\n",
    "    return A.shape[0] == A.shape[1] and np.linalg.matrix_rank(A) == A.shape[0]\n",
    "\n",
    "def regularize(A):\n",
    "    return A + np.eye(A.shape)*GAMMA\n",
    "    \n",
    "def newton_demph(x_0, f, df, ddf, eps=0.0001, iter_max=1000000, verbose=True):\n",
    "    \"\"\"\n",
    "    Input:\n",
    "    x_0         starting point\n",
    "    f           target function\n",
    "    df          gradient function\n",
    "    ddf         hessian function\n",
    "    eps         stopping treshold for gradient norm\n",
    "    iter_max    maximum number of iterations\n",
    "    verbose     enabling text output\n",
    "    \n",
    "    Output:\n",
    "    function extremum value, extremum point\n",
    "    \"\"\"\n",
    "    x =x_0\n",
    "    x_old = None\n",
    "    iters = 0\n",
    "    while iters < iter_max and np.linalg.norm(df(x)) > eps:\n",
    "        step = get_step(x, f, df, ddf)\n",
    "        x_old = x\n",
    "        hess = ddf(x)\n",
    "        if not is_invertible(hess):\n",
    "            hess = regularize(hess)\n",
    "        x = x_old - step * np.dot(np.linalg.inv(hess), df(x))\n",
    "        iters += 1\n",
    "    if verbose:\n",
    "        print(\"Iterations: %d\" % iters)\n",
    "    return f(x), x"
   ]
  },
  {
   "cell_type": "code",
   "execution_count": 185,
   "metadata": {
    "collapsed": false
   },
   "outputs": [
    {
     "name": "stdout",
     "output_type": "stream",
     "text": [
      "Iterations: 25\n",
      "(-0.18185595649329717, array([ 0.0738453 , -0.38911844]))\n",
      "Iterations: 19\n",
      "(-0.18185595654439501, array([ 0.07383649, -0.38911777]))\n",
      "Iterations: 12\n",
      "(-0.18185595754158954, array([ 0.07384557, -0.38914327]))\n",
      "Iterations: 20\n",
      "(-0.18185595657547787, array([ 0.07387361, -0.38913549]))\n"
     ]
    }
   ],
   "source": [
    "print(newton_demph(np.array([0, 0]), f, df, ddf))\n",
    "print(newton_demph(np.array([0, 1]), f, df, ddf))\n",
    "print(newton_demph(np.array([1, 0]), f, df, ddf))\n",
    "print(newton_demph(np.array([1, 1]), f, df, ddf))"
   ]
  }
 ],
 "metadata": {
  "kernelspec": {
   "display_name": "Python 3",
   "language": "python",
   "name": "python3"
  },
  "language_info": {
   "codemirror_mode": {
    "name": "ipython",
    "version": 3
   },
   "file_extension": ".py",
   "mimetype": "text/x-python",
   "name": "python",
   "nbconvert_exporter": "python",
   "pygments_lexer": "ipython3",
   "version": "3.5.1"
  }
 },
 "nbformat": 4,
 "nbformat_minor": 0
}

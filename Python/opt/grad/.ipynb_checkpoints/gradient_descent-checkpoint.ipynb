{
 "cells": [
  {
   "cell_type": "markdown",
   "metadata": {},
   "source": [
    "# Градиентный спуск. Метод наискорейшего спуска.\n",
    "\n",
    "_Иванычев Сергей, 376 группа_\n",
    "\n",
    "Python 2/3"
   ]
  },
  {
   "cell_type": "markdown",
   "metadata": {},
   "source": [
    "Будем оптимизировать функцию \n",
    "\n",
    "$$\n",
    "f(x) = ||Ax - b||^2 \\rightarrow \\min\n",
    "$$\n",
    "\n",
    "Приведем функцию к квадратичному виду (как во второй задаче)\n",
    "\n",
    "$$\n",
    "f(x) = \\frac{1}{2}\\langle x, 2A^\\intercal Ax\\rangle - \\langle x, 2A^\\intercal b\\rangle\n",
    "$$\n",
    "\n",
    "Условие на шаг:\n",
    "\n",
    "$$\n",
    "\\alpha_k = \\frac{\\langle\\nabla f(x_k), \\nabla f(x_k) \\rangle}{\\langle\\nabla f(x_k), A\\nabla f(x_k) \\rangle}\n",
    "$$"
   ]
  },
  {
   "cell_type": "code",
   "execution_count": 1,
   "metadata": {
    "collapsed": false
   },
   "outputs": [],
   "source": [
    "import numpy as np\n",
    "import scipy as sc\n",
    "from functools import reduce\n",
    "from scipy.optimize import minimize\n",
    "from scipy.optimize import check_grad\n",
    "from scipy.optimize import approx_fprime\n",
    "from math import sqrt"
   ]
  },
  {
   "cell_type": "code",
   "execution_count": 2,
   "metadata": {
    "collapsed": false
   },
   "outputs": [
    {
     "name": "stdout",
     "output_type": "stream",
     "text": [
      "Вариант 64\n"
     ]
    }
   ],
   "source": [
    "PHONE_NUMBER = \"89104577995\"\n",
    "NUMSUM = sum((int(x) for x in PHONE_NUMBER))\n",
    "print(\"Вариант %d\" % NUMSUM)"
   ]
  },
  {
   "cell_type": "markdown",
   "metadata": {},
   "source": [
    "Здесь реализуем функцию, генерирующую случайные $f(x)$"
   ]
  },
  {
   "cell_type": "code",
   "execution_count": 3,
   "metadata": {
    "collapsed": false
   },
   "outputs": [],
   "source": [
    "def generate_f(ndim):\n",
    "    A = np.random.rand(ndim, ndim)\n",
    "    b = np.random.rand(ndim, 1)\n",
    "    def f(x, *args):\n",
    "        return np.linalg.norm(np.dot(A, x) - b)\n",
    "    return f, A"
   ]
  },
  {
   "cell_type": "markdown",
   "metadata": {},
   "source": [
    "`f_min` требуется в моем варианте в условии остановки. Вычислим его стандартными методами с помощью модуля `scipy.optimize`"
   ]
  },
  {
   "cell_type": "code",
   "execution_count": 4,
   "metadata": {
    "collapsed": false
   },
   "outputs": [
    {
     "name": "stdout",
     "output_type": "stream",
     "text": [
      "1.36024685691\n",
      "6\n"
     ]
    }
   ],
   "source": [
    "ndim = NUMSUM % 6 + 2\n",
    "f, A = generate_f(ndim)\n",
    "f_min = minimize(f, np.zeros(ndim)).fun\n",
    "eps = 10**(-ndim % 3)\n",
    "print(f_min)\n",
    "print(ndim)"
   ]
  },
  {
   "cell_type": "markdown",
   "metadata": {},
   "source": [
    "Здесь напишем функцию-обертку, вычисляющую градиент произвольной функции $f(x)$"
   ]
  },
  {
   "cell_type": "code",
   "execution_count": 5,
   "metadata": {
    "collapsed": false
   },
   "outputs": [],
   "source": [
    "def gradient(x, f, eps=sqrt(np.finfo(float).eps)):\n",
    "    return approx_fprime(x, f, eps)"
   ]
  },
  {
   "cell_type": "code",
   "execution_count": 6,
   "metadata": {
    "collapsed": false,
    "scrolled": true
   },
   "outputs": [
    {
     "data": {
      "text/plain": [
       "0.0"
      ]
     },
     "execution_count": 6,
     "metadata": {},
     "output_type": "execute_result"
    }
   ],
   "source": [
    "x = np.zeros(ndim)\n",
    "check_grad(f, gradient, x, f)"
   ]
  },
  {
   "cell_type": "markdown",
   "metadata": {},
   "source": [
    "## Реализация алгоритма"
   ]
  },
  {
   "cell_type": "code",
   "execution_count": 7,
   "metadata": {
    "collapsed": false
   },
   "outputs": [],
   "source": [
    "def gradient_descent(f, x_0, f_min, A, eps, iter_max=1000000, verbose=True):\n",
    "    \"\"\"\n",
    "    Input:\n",
    "    f(x)            callable, x is np.ndarray\n",
    "    x_0             zero point\n",
    "    f_min           aka f^*, known minimum of the function f(x)\n",
    "    A               matrix from the denaminator for alpha_k\n",
    "    eps             interruption condition\n",
    "    iter_max        treshold for number of iterations\n",
    "    verbose         debug output enabled if True\n",
    "    \n",
    "    Return: (minimum value, minimum argument)\n",
    "    \"\"\"\n",
    "    x = x_0\n",
    "    iters = 0\n",
    "    while np.abs(f(x) - f_min) > eps and iters < iter_max:\n",
    "        s = -gradient(x, f)\n",
    "        alpha = np.dot(s, s) / np.dot(s, np.dot(A, s))\n",
    "        x = x + alpha * s\n",
    "        iters += 1\n",
    "    print(\"Iterations: \", iters)\n",
    "    return f(x), x"
   ]
  },
  {
   "cell_type": "markdown",
   "metadata": {},
   "source": [
    "В качестве аргумента $A$ подставляем матрицу преобразования в виде задачи 2 из задания 2"
   ]
  },
  {
   "cell_type": "code",
   "execution_count": 8,
   "metadata": {
    "collapsed": false
   },
   "outputs": [
    {
     "name": "stdout",
     "output_type": "stream",
     "text": [
      "('Iterations: ', 20)\n",
      "(2.089999537453318, array([ 0.26282517,  0.20130258, -0.43759258,  0.2553671 , -0.01573846,\n",
      "       -0.32319269]))\n"
     ]
    }
   ],
   "source": [
    "y, x = gradient_descent(f, np.zeros(ndim) + 3, f_min, np.dot(2*np.transpose(A), A), eps)\n",
    "print(y, x)"
   ]
  }
 ],
 "metadata": {
  "kernelspec": {
   "display_name": "Python 2",
   "language": "python",
   "name": "python2"
  },
  "language_info": {
   "codemirror_mode": {
    "name": "ipython",
    "version": 2
   },
   "file_extension": ".py",
   "mimetype": "text/x-python",
   "name": "python",
   "nbconvert_exporter": "python",
   "pygments_lexer": "ipython2",
   "version": "2.7.11"
  }
 },
 "nbformat": 4,
 "nbformat_minor": 0
}

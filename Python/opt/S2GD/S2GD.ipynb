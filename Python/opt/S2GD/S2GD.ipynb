{
 "cells": [
  {
   "cell_type": "markdown",
   "metadata": {},
   "source": [
    "# Semi-Stochastic Gradient Descent\n",
    "\n",
    "Author: Sergey Ivanychev\n",
    "\n",
    "Group: 376\n",
    "\n",
    "Email: [sergeyivanychev@gmail.com](mailto:sergeyivanychev@gmail.com)\n",
    "\n",
    "_**Note**: Python 3.5 is used. If your system doesn't provide last language version support, you have to replace `@` operators (matrix product) with equivalent `np.dot()` constructions._"
   ]
  },
  {
   "cell_type": "code",
   "execution_count": 82,
   "metadata": {
    "collapsed": true
   },
   "outputs": [],
   "source": [
    "import numpy as np\n",
    "import operator\n",
    "from scipy.optimize import approx_fprime\n",
    "from math import sqrt\n",
    "import scipy.optimize as opt\n",
    "from matplotlib import pyplot as plt\n",
    "from functools import partial\n",
    "%matplotlib inline"
   ]
  },
  {
   "cell_type": "markdown",
   "metadata": {},
   "source": [
    "We will call _accumulated function_:\n",
    "\n",
    "$$\n",
    "f(x) = \\frac{1}{n}\\sum_{i=1}^n f_i(x)\n",
    "$$"
   ]
  },
  {
   "cell_type": "markdown",
   "metadata": {},
   "source": [
    "[Paper PDF](http://arxiv.org/pdf/1312.1666)"
   ]
  },
  {
   "cell_type": "markdown",
   "metadata": {},
   "source": [
    "## Implementation"
   ]
  },
  {
   "cell_type": "code",
   "execution_count": 97,
   "metadata": {},
   "outputs": [],
   "source": [
    "def _gradient(x, f, eps=sqrt(np.finfo(float).eps)):\n",
    "    \"\"\"\n",
    "    Numerical gradient calculation function\n",
    "    \n",
    "    x:    argument of f\n",
    "    f:    calculated function\n",
    "    eps:  precision\n",
    "    \n",
    "    return: np.array(x.shape[0]) with calculated gradient\n",
    "    \"\"\"\n",
    "    return approx_fprime(x, f, eps)\n",
    "\n",
    "def _f_list_gradient(f_list, x):\n",
    "    \"\"\"\n",
    "    Calculates gradient of accumulated function\n",
    "    \n",
    "    f_list:     list of callables\n",
    "    x:          argument of the function\n",
    "    \n",
    "    return:     np.array(x.shape[0]) with calculated gradient\n",
    "    \"\"\"\n",
    "    grads = map(lambda f: _gradient(x, f), f_list)\n",
    "    return sum(grads) / len(f_list)\n",
    "\n",
    "def _f_eval(f_list, x):\n",
    "    \"\"\"\n",
    "    Evaluates accumulated function\n",
    "    f_list:     list of callables\n",
    "    x:          argument of the function\n",
    "    \n",
    "    return:     floating point value of f(x)\n",
    "    \"\"\"\n",
    "    vals = map(lambda f: f(x), f_list)\n",
    "    return sum(vals) / len(f_list)\n",
    "\n",
    "def _get_probs(max_steps, step_size, mu_lower):\n",
    "    \"\"\"\n",
    "    Gets array of probabilities related to values [1 .. m] (see S2GD algorithm description)\n",
    "    \n",
    "    max_steps, step_size, mu_lower:      see S2GD description\n",
    "    \n",
    "    return:     np.array of probabilities\n",
    "    \"\"\"\n",
    "    unnormalized = (1 - mu_lower * step_size) ** (max_steps - np.arange(1, max_steps + 1))\n",
    "    return unnormalized / np.sum(unnormalized)"
   ]
  },
  {
   "cell_type": "code",
   "execution_count": 69,
   "metadata": {},
   "outputs": [],
   "source": [
    "def S2GD(f_list, x_0, epoch_num, max_steps, step_size, mu_lower = 0):\n",
    "    \"\"\"\n",
    "    Semi-Stochastic Gradient Method for minimizing accumulated functions\n",
    "    f_list:            list of f_i according to the defenition of f(x) (see above)\n",
    "    x_0:               starting point\n",
    "    epoch_num:         number of outer iterations number\n",
    "    max_steps:         upper limit of inner iterations number\n",
    "    step_size:         inner step factor\n",
    "    mu_lower:          lower bound of strong convexity constant of f(x)\n",
    "    \n",
    "    return:            (argmin, min)\n",
    "    \n",
    "    Authors:           Jakub Konecny and Peter Richtarik \n",
    "    Implemented by:    Sergey Ivanychev\n",
    "    Link:              http://arxiv.org/abs/1312.1666\n",
    "    \"\"\"\n",
    "    x = x_0\n",
    "    probs =  _get_probs(max_steps, step_size, mu_lower)\n",
    "    steps_range = np.arange(1, max_steps + 1)\n",
    "    nfuncs = len(f_list)\n",
    "    \n",
    "    for i in range(epoch_num):\n",
    "        g = _f_list_gradient(f_list, x)\n",
    "        y = x\n",
    "        t_current = np.random.choice(steps_range, p = probs)\n",
    "        for t in range(t_current):\n",
    "            j = np.random.randint(0, nfuncs)\n",
    "            y = y - step_size*(g + _gradient(y, f_list[j]) - _gradient(x, f_list[j]))\n",
    "        x = y\n",
    "    return x, _f_eval(f_list, x)\n",
    "\n",
    "METHODS = {\n",
    "    \"S2GD\":S2GD\n",
    "}\n",
    "\n",
    "def minimize(method=\"S2GD\", *args, **kwargs):\n",
    "    return METHODS[method](*args, **kwargs)"
   ]
  },
  {
   "cell_type": "markdown",
   "metadata": {},
   "source": [
    "## Testing"
   ]
  },
  {
   "cell_type": "code",
   "execution_count": 73,
   "metadata": {},
   "outputs": [],
   "source": [
    "def _generate_test_f(lambda_, ndim):\n",
    "    \"\"\"\n",
    "    Generating testing log-loss functions\n",
    "    \n",
    "    lambda_:      regularizer factor\n",
    "    ndim:         returning function will be defined in R^ndim\n",
    "    \n",
    "    return:       callable f(x)\n",
    "    \"\"\"\n",
    "    a = np.random.rand(ndim)\n",
    "    y = np.random.randint(0, 2)\n",
    "    def f(x):\n",
    "        return lambda_ / 2 * np.linalg.norm(x) - \\\n",
    "               (y * np.log(1 / (1 + np.exp(-x @ a))) + (1 - y) * np.log(1 - 1 / (1 + np.exp(-x @ a))))\n",
    "    return f\n",
    "\n",
    "def _get_accumulated_f(f_list):\n",
    "    num = len(f_list)\n",
    "    def f(x):\n",
    "        return 1 / num * sum(map(lambda f: f(x), f_list))\n",
    "    return f"
   ]
  },
  {
   "cell_type": "markdown",
   "metadata": {},
   "source": [
    "Here simple accumulated function is generated. We use standard `scipy.optimize.minimize()` function to compare with. The plot below shows how the minimum value converges to the true value with the number of steps increasing."
   ]
  },
  {
   "cell_type": "code",
   "execution_count": null,
   "metadata": {},
   "outputs": [],
   "source": [
    "funcs = [_generate_test_f(0.1, 3) for i in range(3)]\n",
    "accumulated_func = _get_accumulated_f(funcs)\n",
    "\n",
    "x_0 = np.array([0.1, 0.1, 0.1])\n",
    "arg, val = minimize(method=\"S2GD\", f_list=funcs, x_0 = x_0, epoch_num = 20, max_steps=10, step_size=0.4)"
   ]
  },
  {
   "cell_type": "code",
   "execution_count": 99,
   "metadata": {},
   "outputs": [
    {
     "data": {
      "text/plain": [
       "<matplotlib.text.Text at 0x10a2c7d68>"
      ]
     },
     "execution_count": 99,
     "metadata": {},
     "output_type": "execute_result"
    },
    {
     "data": {
      "image/png": "[encoded data removed]",
      "text/plain": [
       "<matplotlib.figure.Figure at 0x10a42b588>"
      ]
     },
     "metadata": {},
     "output_type": "display_data"
    }
   ],
   "source": [
    "plt.figure(figsize=(8, 6), dpi=130)\n",
    "nsteps = np.arange(2, 200)\n",
    "minimize_step = partial(minimize, method=\"S2GD\", f_list=funcs, x_0 = x_0, max_steps=10, step_size=0.4)\n",
    "results = np.array(list(map(lambda x: minimize_step(epoch_num=x)[1], nsteps)))\n",
    "trusted = opt.minimize(accumulated_func, x_0)\n",
    "plt.plot(nsteps, results - trusted.fun)\n",
    "plt.xlabel(\"Number of steps\")\n",
    "plt.ylabel(\"Min val difference\")"
   ]
  }
 ],
 "metadata": {
  "kernelspec": {
   "display_name": "Python 3",
   "language": "python",
   "name": "python3"
  },
  "language_info": {
   "codemirror_mode": {
    "name": "ipython",
    "version": 3
   },
   "file_extension": ".py",
   "mimetype": "text/x-python",
   "name": "python",
   "nbconvert_exporter": "python",
   "pygments_lexer": "ipython3",
   "version": "3.6.3"
  }
 },
 "nbformat": 4,
 "nbformat_minor": 1
}

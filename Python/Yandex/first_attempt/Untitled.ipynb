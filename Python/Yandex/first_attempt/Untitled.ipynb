{
 "cells": [
  {
   "cell_type": "code",
   "execution_count": 2,
   "metadata": {
    "collapsed": false
   },
   "outputs": [],
   "source": [
    "import sys\n",
    "import array\n",
    "\n",
    "def median(sorted_args, arr, len_lst):\n",
    "    arg = None\n",
    "    if len_lst % 2 == 1:\n",
    "        arg = sorted_args[len_lst // 2]\n",
    "    else:\n",
    "        arg = sorted_args[len_lst // 2 - 1]\n",
    "    return arr[arg]\n",
    "\n",
    "def argsort(seq, length):\n",
    "    return sorted(range(length), key=seq.__getitem__)\n",
    "\n",
    "\n",
    "def main(argv):\n",
    "    inp = open(\"input.txt\")\n",
    "    num = int(inp.readline())\n",
    "    arr = array.array('l', map(lambda x: int(x), inp.readline().split(\" \")))\n",
    "    args_sorted = array.array('i', argsort(arr, num))\n",
    "    sum_medians = 0\n",
    "    for idx in range(num_args - 1, -1, -1):\n",
    "        sum_medians += median(args_sorted, arr, num)\n",
    "        args_sorted.remove(idx)\n",
    "        num -= 1\n",
    "    sys.stdout.write(str(sum_medians))\n",
    "    inp.close()"
   ]
  },
  {
   "cell_type": "code",
   "execution_count": 16,
   "metadata": {
    "collapsed": false
   },
   "outputs": [],
   "source": [
    "import random\n",
    "N = 100000\n",
    "l = []\n",
    "for i in range(N):\n",
    "    l.append(random.randint(-10e9, 10e9))\n",
    "with open(\"input.txt\", \"w\") as f:\n",
    "    f.write(\"%d\\n\" % N)\n",
    "    f.write(\" \".join(map(lambda x: str(x), l)))"
   ]
  }
 ],
 "metadata": {
  "kernelspec": {
   "display_name": "Python 3",
   "language": "python",
   "name": "python3"
  },
  "language_info": {
   "codemirror_mode": {
    "name": "ipython",
    "version": 3
   },
   "file_extension": ".py",
   "mimetype": "text/x-python",
   "name": "python",
   "nbconvert_exporter": "python",
   "pygments_lexer": "ipython3",
   "version": "3.5.1"
  }
 },
 "nbformat": 4,
 "nbformat_minor": 0
}

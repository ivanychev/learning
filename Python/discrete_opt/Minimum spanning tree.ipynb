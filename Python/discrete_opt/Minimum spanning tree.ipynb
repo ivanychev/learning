{
 "cells": [
  {
   "cell_type": "markdown",
   "metadata": {},
   "source": [
    "# Definition and formulation\n",
    "\n",
    "**A minimum spanning tree** — subset of the edges of a connected, edge-weighted undirected graph that connects all the vertices together, without any cycles and with the minimum possible total edge weight.\n",
    "\n",
    "Let $G = (V, E)$ — our graph and C — *a cost function* such that:\n",
    "\n",
    "$$\n",
    "C: E \\rightarrow R\n",
    "$$\n",
    "\n",
    "We need to find a min cost set of edges $S = (V, E^*)$ that connects all of the vertices."
   ]
  },
  {
   "cell_type": "code",
   "execution_count": 8,
   "metadata": {
    "collapsed": false
   },
   "outputs": [],
   "source": [
    "from pyomo.environ import *\n",
    "\n",
    "model = AbstractModel()\n",
    "# Verices in the network\n",
    "model.V = Set()\n",
    "# Graph edges\n",
    "model.E = Set(within=model.V*model.V)\n",
    "# Edge weights\n",
    "model.c = Param(model.E)"
   ]
  },
  {
   "cell_type": "markdown",
   "metadata": {},
   "source": [
    "Defining a subgraph"
   ]
  },
  {
   "cell_type": "code",
   "execution_count": 9,
   "metadata": {
    "collapsed": false
   },
   "outputs": [],
   "source": [
    "model.S = Var(model.E, within=Binary)"
   ]
  },
  {
   "cell_type": "markdown",
   "metadata": {},
   "source": [
    "## Objective"
   ]
  },
  {
   "cell_type": "code",
   "execution_count": null,
   "metadata": {
    "collapsed": true
   },
   "outputs": [],
   "source": [
    "def total_weight(model):\n",
    "    return sum((1 if model.S[i, j] else 0) for i, j in model.E)"
   ]
  }
 ],
 "metadata": {
  "kernelspec": {
   "display_name": "Python 3",
   "language": "python",
   "name": "python3"
  },
  "language_info": {
   "codemirror_mode": {
    "name": "ipython",
    "version": 3
   },
   "file_extension": ".py",
   "mimetype": "text/x-python",
   "name": "python",
   "nbconvert_exporter": "python",
   "pygments_lexer": "ipython3",
   "version": "3.5.2"
  }
 },
 "nbformat": 4,
 "nbformat_minor": 1
}

{
 "cells": [
  {
   "cell_type": "markdown",
   "metadata": {},
   "source": [
    "# Задача\n",
    "\n",
    "Для $t=1\\ldots T$, $d_t$ – спрос на продукцию в период $t$; $c_t$, $p_t$ и $h_t$ – заданные предельные расходы на подготовку, производство и хранение продукции соответственно в период $t$. \n",
    "\n",
    "Цель: минимизация суммарных расходов на подготовку, производство и хранение продукции при условии удовлетворения спроса $d_t$ в каждый из $T$ периодов. Введем непрерывные переменные:\n",
    "\n",
    "* $y_t$ – запас продукции в период $t$\n",
    "* $s_t$ – остаток продукции в период $t$\n",
    "\n",
    "и бинарные решающие переменные $x_t$\n",
    "\n",
    "$$\n",
    "x_t = \\begin{cases}\n",
    "    1, & \\text{ if } y_t > 0 \\\\\n",
    "    0, & \\text{ otherwise }\n",
    "\\end{cases}\n",
    "$$\n",
    "\n",
    "$$\n",
    "\\min \\sum_{t=1}^{T} (p_ty_t+h_ts_t+c_tx_t)\n",
    "$$\n",
    "при ограничениях\n",
    "$$\n",
    "\\begin{align*}\n",
    "    & y_1 = d_1 + s_1 & \\\\\n",
    "    & s_{t-1} + y_t = d_t + s_t & t=1\\ldots T\\\\\n",
    "    & s_t, y_t \\geq 0 & \\\\\n",
    "    & x_t \\in \\{0, 1\\} & t=1\\ldots T\\\\\n",
    "    & s_T = 0 & \\\\\n",
    "    & y_t \\leq \\omega x_t & t=1\\ldots T \\\\\n",
    "\\end{align*}\n",
    "$$\n",
    "Где $\\omega = \\sum_{t=1}^T d_t$\n"
   ]
  },
  {
   "cell_type": "markdown",
   "metadata": {},
   "source": [
    "# Решаем задачу"
   ]
  },
  {
   "cell_type": "code",
   "execution_count": 1,
   "metadata": {
    "collapsed": true
   },
   "outputs": [],
   "source": [
    "import pyomo.environ as po\n",
    "import numpy as np"
   ]
  },
  {
   "cell_type": "markdown",
   "metadata": {},
   "source": [
    "## Определяем параметры и переменные"
   ]
  },
  {
   "cell_type": "code",
   "execution_count": 2,
   "metadata": {
    "collapsed": false
   },
   "outputs": [],
   "source": [
    "model = po.AbstractModel()\n",
    "\n",
    "model.T = po.Param(within=po.NonNegativeIntegers)\n",
    "model.I = po.RangeSet(1, model.T)\n",
    "model.I1 = po.RangeSet(2, model.T)\n",
    "model.C = po.Param(model.I, within=po.NonPositiveReals)\n",
    "model.P = po.Param(model.I, within=po.NonPositiveReals)\n",
    "model.H = po.Param(model.I, within=po.NonPositiveReals)\n",
    "model.D = po.Param(model.I, within=po.NonNegativeIntegers)\n",
    "model.X = po.Param(model.I, within=po.IntegerSet())\n",
    "model.Y = po.Var(model.I, within=po.NonNegativeIntegers)\n",
    "model.S = po.Var(model.I, within=po.NonNegativeIntegers)"
   ]
  },
  {
   "cell_type": "markdown",
   "metadata": {},
   "source": [
    "## Определяем целевую функцию"
   ]
  },
  {
   "cell_type": "code",
   "execution_count": 5,
   "metadata": {
    "collapsed": false
   },
   "outputs": [
    {
     "name": "stdout",
     "output_type": "stream",
     "text": [
      "WARNING: Implicitly replacing the Component attribute OBJ (type=<class 'pyomo.core.base.objective.SimpleObjective'>) on block unknown with a new Component (type=<class 'pyomo.core.base.objective.SimpleObjective'>).\n",
      "\tThis is usually indicative of a modelling error.\n",
      "\tTo avoid this warning, use block.del_component() and block.add_component().\n"
     ]
    }
   ],
   "source": [
    "def objective(model):\n",
    "    return po.summation(model.P, model.Y) + po.summation(model.H, model.S) + po.summation(model.C, model.X)\n",
    "\n",
    "model.OBJ = po.Objective(rule=objective, sense=po.minimize)"
   ]
  },
  {
   "cell_type": "markdown",
   "metadata": {},
   "source": [
    "## Определяем ограничения"
   ]
  },
  {
   "cell_type": "markdown",
   "metadata": {},
   "source": [
    "$$\n",
    "\\begin{align*}\n",
    "    & y_1 = d_1 + s_1 & \\\\\n",
    "    & s_{t-1} + y_t = d_t + s_t & t=1\\ldots T\\\\\n",
    "    & s_t, y_t \\geq 0 & \\\\\n",
    "    & x_t \\in \\{0, 1\\} & t=1\\ldots T\\\\\n",
    "    & s_T = 0 & \\\\\n",
    "    & y_t \\leq \\omega x_t & t=1\\ldots T \\\\\n",
    "\\end{align*}\n",
    "$$"
   ]
  },
  {
   "cell_type": "code",
   "execution_count": 4,
   "metadata": {
    "collapsed": false
   },
   "outputs": [],
   "source": [
    "def constraint1(model):\n",
    "    return model.Y[1] == model.D[1] + model.S[1]\n",
    "\n",
    "def constraint2(model, i):\n",
    "    return model.S[i - 1] + model.Y[i] == model.D[i] + model.S[i]\n",
    "\n",
    "def constraint3(model, i):\n",
    "    model.X[i] == 1 if model.Y[i] > 0 else 0\n",
    "\n",
    "def constraint4(model):\n",
    "    return model.S[model.T] == 0\n",
    "\n",
    "def constraint5(model, i):\n",
    "    return model.Y[i] <= model.X[i]*po.summation(model.D)\n",
    "\n",
    "model.Constraint1 = po.Constraint(rule=constraint1)\n",
    "model.Constraint2 = po.Constraint(model.I1, rule=constraint2)\n",
    "model.Constraint3 = po.Constraint(model.I, rule=constraint3)\n",
    "model.Constraint4 = po.Constraint(rule=constraint4)\n",
    "model.Constraint5 = po.Constraint(model.I, rule=constraint5)"
   ]
  }
 ],
 "metadata": {
  "kernelspec": {
   "display_name": "Python 3",
   "language": "python",
   "name": "python3"
  },
  "language_info": {
   "codemirror_mode": {
    "name": "ipython",
    "version": 3
   },
   "file_extension": ".py",
   "mimetype": "text/x-python",
   "name": "python",
   "nbconvert_exporter": "python",
   "pygments_lexer": "ipython3",
   "version": "3.5.2"
  }
 },
 "nbformat": 4,
 "nbformat_minor": 2
}
